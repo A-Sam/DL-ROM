{
 "cells": [
  {
   "cell_type": "code",
   "execution_count": null,
   "metadata": {},
   "outputs": [],
   "source": [
    "from netCDF4 import Dataset\n",
    "import numpy as np\n",
    "import matplotlib.pyplot as plt \n",
    "from matplotlib.animation import ArtistAnimation, FFMpegWriter\n",
    "\n",
    "path_bousinessq = \"./boussinesq.nc\"\n",
    "path_2dcylinder = \"./cylinder2d.nc\""
   ]
  },
  {
   "cell_type": "code",
   "execution_count": null,
   "metadata": {},
   "outputs": [],
   "source": [
    "def loadDataset(path):\n",
    "    return Dataset(path)"
   ]
  },
  {
   "cell_type": "code",
   "execution_count": null,
   "metadata": {
    "tags": []
   },
   "outputs": [],
   "source": [
    "cylinder2D = loadDataset(path_2dcylinder)\n",
    "boussinesq = loadDataset(path_bousinessq)\n",
    "print(cylinder2D)\n",
    "print(boussinesq)"
   ]
  },
  {
   "cell_type": "markdown",
   "metadata": {},
   "source": [
    "## Info about the datasets\n",
    "\n",
    "### Cylinder 2D\n",
    "\n",
    "    dimensions(sizes): xdim(640), ydim(80), tdim(1501), const(1)\n",
    "\n",
    "    variables(dimensions): float32 u(tdim,ydim,xdim), float32 v(tdim,ydim,xdim), float32 xdim(xdim), float32 ydim(ydim), float32 tdim(tdim), float32 nu(const),                             float32 radius(const), float32 Re(const)\n",
    "\n",
    "### Bousinessq\n",
    "\n",
    "\n",
    "    dimensions(sizes): xdim(150), ydim(450), tdim(2001), const(1)\n",
    "\n",
    "    variables(dimensions): float32 u(tdim,ydim,xdim), float32 v(tdim,ydim,xdim), float32 xdim(xdim), float32 ydim(ydim), float32 tdim(tdim),\n",
    "                           float32 radius(const), float32 obstacle_pos_x(const), float32 obstacle_pos_y(const)\n",
    "\n",
    "### Accessing variables\n",
    "\n",
    "    cylinder2D['variable_name']\n"
   ]
  },
  {
   "cell_type": "code",
   "execution_count": null,
   "metadata": {
    "tags": []
   },
   "outputs": [],
   "source": [
    "type(cylinder2D['xdim'])\n",
    "print(cylinder2D['u'].shape)\n",
    "print(cylinder2D['tdim'].shape)"
   ]
  },
  {
   "cell_type": "code",
   "execution_count": null,
   "metadata": {
    "tags": []
   },
   "outputs": [],
   "source": [
    "data = cylinder2D\n",
    "\n",
    "def velFromUV(data):\n",
    "    \n",
    "    u = data['u'][1000,:,:]\n",
    "    v = data['v'][1000,:,:]\n",
    "\n",
    "    vel = np.sqrt(u**2 + v**2)"
   ]
  },
  {
   "cell_type": "code",
   "execution_count": null,
   "metadata": {
    "tags": []
   },
   "outputs": [],
   "source": [
    "u = np.array(cylinder2D['u'])\n",
    "\n",
    "fig, ax = plt.subplots()\n",
    "ims = [[ax.imshow(u[i], animated=True)] for i in range(1, len(u))]\n",
    "\n",
    "ani = ArtistAnimation(fig, ims, interval=1000 , blit=True, repeat_delay=1000)\n",
    "\n",
    "# plt.show()\n",
    "\n",
    "# writer = FFMpegWriter(fps=15, metadata=dict(artist='Me'), bitrate=1800)\n",
    "# ani.save(\"movie.mp4\", writer=writer)"
   ]
  },
  {
   "cell_type": "code",
   "execution_count": null,
   "metadata": {},
   "outputs": [],
   "source": [
    "plt.matshow(data['v'][1000,:,:])\n",
    "plt.axis('off')\n",
    "plt.show()"
   ]
  },
  {
   "cell_type": "markdown",
   "metadata": {},
   "source": [
    "```\n",
    "% Create snapshot matrix\n",
    "Nt = length(S(1,1,:));\n",
    "S = reshape(permute(S, [3 2 1]), Nt, [ ]); % Reshape data into a matrix S with Nt rows\n",
    "U = S - repmat(mean(S,1), Nt, 1); % Subtract the temporal mean from each row\n",
    "\n",
    "% Create correlation matrix\n",
    "C_s = (U*U')/(Nt-1);\n",
    "\n",
    "% Solve eigenvalue problem\n",
    "[A_s LAM_s] = eig(C_s,'vector');\n",
    "\n",
    "% Sort eigenvalues and eigenvectors\n",
    "[lambda_s,ilam_s] = sort(LAM_s,'descend');\n",
    "A_s = A_s(:, ilam_s);\n",
    "\n",
    "% These are the temporal modes\n",
    "% Calculate spatial coefficients\n",
    "PHI_s = U'*A_s;\n",
    "\n",
    "% Reconstruction on mode k\n",
    "k = 1; % for example\n",
    "Utilde_k_s = A_s(:,k)*PHI_s(:,k)';\n",
    "\n",
    "% Normalization to match direct and snapshot modes (optional)\n",
    "PHI = normc(PHI_s);\n",
    "\n",
    "% Spatial modes\n",
    "A = U*PHI;\n",
    "\n",
    "% Time coefficients\n",
    "Utilde_k = A(:,k)*PHI(:,k)';\n",
    "% Reconstruction on mode k\n",
    "```"
   ]
  },
  {
   "cell_type": "code",
   "execution_count": null,
   "metadata": {
    "tags": []
   },
   "outputs": [],
   "source": [
    "S = np.transpose(u, (1,2,0))\n",
    "print(S.shape)\n",
    "Nt = u.shape[0]\n",
    "print(Nt)\n",
    "U = "
   ]
  },
  {
   "cell_type": "code",
   "execution_count": null,
   "metadata": {},
   "outputs": [],
   "source": [
    "from zipfile import ZipFile\n",
    "\n",
    "url = \"https://cgl.ethz.ch/Downloads/Data/ScientificData/cylinder2d_nc.zip\"\n",
    "file_name = \"../data2/\" + url.split('/')[-1]\n",
    "with ZipFile(file_name, 'r') as zipObj:\n",
    "   zipObj.extractall('temp')"
   ]
  },
  {
   "cell_type": "markdown",
   "metadata": {},
   "source": [
    "# Visualization"
   ]
  },
  {
   "cell_type": "code",
   "execution_count": 1,
   "metadata": {},
   "outputs": [],
   "source": [
    "import numpy as np\n",
    "import matplotlib.pyplot as plt\n",
    "import matplotlib"
   ]
  },
  {
   "cell_type": "code",
   "execution_count": 2,
   "metadata": {},
   "outputs": [],
   "source": [
    "Input=np.load('../data/cylinder_u.npy')"
   ]
  },
  {
   "cell_type": "code",
   "execution_count": 6,
   "metadata": {},
   "outputs": [],
   "source": [
    "Output=np.load('../output/980.npy')"
   ]
  },
  {
   "cell_type": "code",
   "execution_count": 7,
   "metadata": {},
   "outputs": [
    {
     "data": {
      "text/plain": [
       "<matplotlib.image.AxesImage at 0x7fa9f7efca10>"
      ]
     },
     "execution_count": 7,
     "metadata": {},
     "output_type": "execute_result"
    },
    {
     "data": {
      "image/png": "[encoded data removed]",
      "text/plain": [
       "<Figure size 432x288 with 1 Axes>"
      ]
     },
     "metadata": {
      "needs_background": "light"
     },
     "output_type": "display_data"
    }
   ],
   "source": [
    "plt.imshow(Output[200])"
   ]
  },
  {
   "cell_type": "code",
   "execution_count": 8,
   "metadata": {},
   "outputs": [
    {
     "data": {
      "text/plain": [
       "<matplotlib.image.AxesImage at 0x7fa9f7ef08d0>"
      ]
     },
     "execution_count": 8,
     "metadata": {},
     "output_type": "execute_result"
    },
    {
     "data": {
      "image/png": "[encoded data removed]",
      "text/plain": [
       "<Figure size 432x288 with 1 Axes>"
      ]
     },
     "metadata": {
      "needs_background": "light"
     },
     "output_type": "display_data"
    }
   ],
   "source": [
    "plt.imshow(Input[200])"
   ]
  },
  {
   "cell_type": "code",
   "execution_count": null,
   "metadata": {},
   "outputs": [],
   "source": [
    "plt.figure(1)\n",
    "plt.subplot(1,2)"
   ]
  },
  {
   "cell_type": "code",
   "execution_count": null,
   "metadata": {},
   "outputs": [],
   "source": []
  }
 ],
 "metadata": {
  "kernelspec": {
   "display_name": "Python 3",
   "language": "python",
   "name": "python3"
  },
  "language_info": {
   "codemirror_mode": {
    "name": "ipython",
    "version": 3
   },
   "file_extension": ".py",
   "mimetype": "text/x-python",
   "name": "python",
   "nbconvert_exporter": "python",
   "pygments_lexer": "ipython3",
   "version": "3.7.6"
  }
 },
 "nbformat": 4,
 "nbformat_minor": 2
}
