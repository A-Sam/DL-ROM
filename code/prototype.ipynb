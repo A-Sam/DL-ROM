{
 "cells": [
  {
   "cell_type": "code",
   "execution_count": null,
   "metadata": {},
   "outputs": [],
   "source": [
    "from netCDF4 import Dataset\n",
    "import numpy as np\n",
    "import matplotlib.pyplot as plt \n",
    "from matplotlib.animation import ArtistAnimation, FFMpegWriter\n",
    "\n",
    "path_bousinessq = \"./boussinesq.nc\"\n",
    "path_2dcylinder = \"./cylinder2d.nc\""
   ]
  },
  {
   "cell_type": "code",
   "execution_count": null,
   "metadata": {},
   "outputs": [],
   "source": [
    "def loadDataset(path):\n",
    "    return Dataset(path)"
   ]
  },
  {
   "cell_type": "code",
   "execution_count": null,
   "metadata": {
    "tags": []
   },
   "outputs": [],
   "source": [
    "cylinder2D = loadDataset(path_2dcylinder)\n",
    "boussinesq = loadDataset(path_bousinessq)\n",
    "print(cylinder2D)\n",
    "print(boussinesq)"
   ]
  },
  {
   "cell_type": "markdown",
   "metadata": {},
   "source": [
    "## Info about the datasets\n",
    "\n",
    "### Cylinder 2D\n",
    "\n",
    "    dimensions(sizes): xdim(640), ydim(80), tdim(1501), const(1)\n",
    "\n",
    "    variables(dimensions): float32 u(tdim,ydim,xdim), float32 v(tdim,ydim,xdim), float32 xdim(xdim), float32 ydim(ydim), float32 tdim(tdim), float32 nu(const),                             float32 radius(const), float32 Re(const)\n",
    "\n",
    "### Bousinessq\n",
    "\n",
    "\n",
    "    dimensions(sizes): xdim(150), ydim(450), tdim(2001), const(1)\n",
    "\n",
    "    variables(dimensions): float32 u(tdim,ydim,xdim), float32 v(tdim,ydim,xdim), float32 xdim(xdim), float32 ydim(ydim), float32 tdim(tdim),\n",
    "                           float32 radius(const), float32 obstacle_pos_x(const), float32 obstacle_pos_y(const)\n",
    "\n",
    "### Accessing variables\n",
    "\n",
    "    cylinder2D['variable_name']\n"
   ]
  },
  {
   "cell_type": "code",
   "execution_count": null,
   "metadata": {
    "tags": []
   },
   "outputs": [],
   "source": [
    "type(cylinder2D['xdim'])\n",
    "print(cylinder2D['u'].shape)\n",
    "print(cylinder2D['tdim'].shape)"
   ]
  },
  {
   "cell_type": "code",
   "execution_count": null,
   "metadata": {
    "tags": []
   },
   "outputs": [],
   "source": [
    "data = cylinder2D\n",
    "\n",
    "def velFromUV(data):\n",
    "    \n",
    "    u = data['u'][1000,:,:]\n",
    "    v = data['v'][1000,:,:]\n",
    "\n",
    "    vel = np.sqrt(u**2 + v**2)"
   ]
  },
  {
   "cell_type": "code",
   "execution_count": null,
   "metadata": {
    "tags": []
   },
   "outputs": [],
   "source": [
    "u = np.array(cylinder2D['u'])\n",
    "\n",
    "fig, ax = plt.subplots()\n",
    "ims = [[ax.imshow(u[i], animated=True)] for i in range(1, len(u))]\n",
    "\n",
    "ani = ArtistAnimation(fig, ims, interval=1000 , blit=True, repeat_delay=1000)\n",
    "\n",
    "# plt.show()\n",
    "\n",
    "# writer = FFMpegWriter(fps=15, metadata=dict(artist='Me'), bitrate=1800)\n",
    "# ani.save(\"movie.mp4\", writer=writer)"
   ]
  },
  {
   "cell_type": "code",
   "execution_count": null,
   "metadata": {},
   "outputs": [],
   "source": [
    "plt.matshow(data['v'][1000,:,:])\n",
    "plt.axis('off')\n",
    "plt.show()"
   ]
  },
  {
   "cell_type": "markdown",
   "metadata": {},
   "source": [
    "```\n",
    "% Create snapshot matrix\n",
    "Nt = length(S(1,1,:));\n",
    "S = reshape(permute(S, [3 2 1]), Nt, [ ]); % Reshape data into a matrix S with Nt rows\n",
    "U = S - repmat(mean(S,1), Nt, 1); % Subtract the temporal mean from each row\n",
    "\n",
    "% Create correlation matrix\n",
    "C_s = (U*U')/(Nt-1);\n",
    "\n",
    "% Solve eigenvalue problem\n",
    "[A_s LAM_s] = eig(C_s,'vector');\n",
    "\n",
    "% Sort eigenvalues and eigenvectors\n",
    "[lambda_s,ilam_s] = sort(LAM_s,'descend');\n",
    "A_s = A_s(:, ilam_s);\n",
    "\n",
    "% These are the temporal modes\n",
    "% Calculate spatial coefficients\n",
    "PHI_s = U'*A_s;\n",
    "\n",
    "% Reconstruction on mode k\n",
    "k = 1; % for example\n",
    "Utilde_k_s = A_s(:,k)*PHI_s(:,k)';\n",
    "\n",
    "% Normalization to match direct and snapshot modes (optional)\n",
    "PHI = normc(PHI_s);\n",
    "\n",
    "% Spatial modes\n",
    "A = U*PHI;\n",
    "\n",
    "% Time coefficients\n",
    "Utilde_k = A(:,k)*PHI(:,k)';\n",
    "% Reconstruction on mode k\n",
    "```"
   ]
  },
  {
   "cell_type": "code",
   "execution_count": null,
   "metadata": {
    "tags": []
   },
   "outputs": [],
   "source": [
    "S = np.transpose(u, (1,2,0))\n",
    "print(S.shape)\n",
    "Nt = u.shape[0]\n",
    "print(Nt)\n",
    "U = "
   ]
  },
  {
   "cell_type": "code",
   "execution_count": null,
   "metadata": {},
   "outputs": [],
   "source": [
    "from zipfile import ZipFile\n",
    "\n",
    "url = \"https://cgl.ethz.ch/Downloads/Data/ScientificData/cylinder2d_nc.zip\"\n",
    "file_name = \"../data2/\" + url.split('/')[-1]\n",
    "with ZipFile(file_name, 'r') as zipObj:\n",
    "   zipObj.extractall('temp')"
   ]
  },
  {
   "cell_type": "markdown",
   "metadata": {},
   "source": [
    "# Visualization"
   ]
  },
  {
   "cell_type": "code",
   "execution_count": null,
   "metadata": {},
   "outputs": [],
   "source": [
    "import numpy as np\n",
    "import matplotlib.pyplot as plt\n",
    "import matplotlib"
   ]
  },
  {
   "cell_type": "code",
   "execution_count": null,
   "metadata": {},
   "outputs": [],
   "source": [
    "Input=np.load('../data/cylinder_u.npy')"
   ]
  },
  {
   "cell_type": "code",
   "execution_count": null,
   "metadata": {},
   "outputs": [],
   "source": [
    "Output=np.load('../output/16_400.npy')\n",
    "# ip=np.load('../input/200.npy')"
   ]
  },
  {
   "cell_type": "code",
   "execution_count": null,
   "metadata": {},
   "outputs": [],
   "source": [
    "plt.imshow(Output[0,-1])"
   ]
  },
  {
   "cell_type": "code",
   "execution_count": null,
   "metadata": {},
   "outputs": [],
   "source": [
    "plt.imshow(Input[1475])\n",
    "# plt.imshow(ip[510])"
   ]
  },
  {
   "cell_type": "code",
   "execution_count": null,
   "metadata": {},
   "outputs": [],
   "source": [
    "# plt.imshow(Input[500])\n",
    "plt.imshow(Input[950])"
   ]
  },
  {
   "cell_type": "code",
   "execution_count": null,
   "metadata": {},
   "outputs": [],
   "source": [
    "fig=plt.figure(1)\n",
    "plt.subplot(2, 1, 1)\n",
    "plt.imshow(Output[800])\n",
    "plt.subplot(2,1,2)\n",
    "plt.imshow(Input[800])\n",
    "plt.savefig('comp')"
   ]
  },
  {
   "cell_type": "code",
   "execution_count": null,
   "metadata": {},
   "outputs": [],
   "source": [
    "plt.imshow(Output[800]-ip[800])\n",
    "plt.colorbar(orientation='horizontal')"
   ]
  },
  {
   "cell_type": "code",
   "execution_count": null,
   "metadata": {},
   "outputs": [],
   "source": [
    "np.max(Output[200][:,100]-Input[200][:,100])"
   ]
  },
  {
   "cell_type": "code",
   "execution_count": null,
   "metadata": {},
   "outputs": [],
   "source": [
    "print(np.min(Input[800]))\n",
    "print(np.min(Output[800]))\n",
    "print(np.max(Input[800]))\n",
    "print(np.max(Output[800]))"
   ]
  },
  {
   "cell_type": "code",
   "execution_count": null,
   "metadata": {},
   "outputs": [],
   "source": [
    "print(np.min(ip[800]))\n",
    "print(np.max(ip[800]))"
   ]
  },
  {
   "cell_type": "code",
   "execution_count": null,
   "metadata": {},
   "outputs": [],
   "source": [
    "import numpy as np\n",
    "import pyJHTDB"
   ]
  },
  {
   "cell_type": "code",
   "execution_count": null,
   "metadata": {},
   "outputs": [],
   "source": [
    "# 2048×512×1536\n",
    "t = np.linspace(0, 8*np.pi, 512)\n",
    "l = np.linspace(-1, 1, 128)\n",
    "x = np.zeros((t.shape[0], l.shape[0], 3), np.float32)\n",
    "# print(t[np.newaxis, :].shape)\n",
    "x[:, :, 0] = t[:, np.newaxis]\n",
    "x[:, :, 1] = l[np.newaxis,:]\n",
    "x[:, :, 2] = 0.\n",
    "print(x.shape)\n",
    "# x = x.transpose(0,2,1)\n",
    "# print(x)"
   ]
  },
  {
   "cell_type": "code",
   "execution_count": null,
   "metadata": {},
   "outputs": [],
   "source": [
    "t1 = np.linspace(0, 2*3.14, 256)\n",
    "t2 = np.linspace(-0.5, 0.5, 256)\n",
    "x = np.zeros((t1.shape[0], t2.shape[0], 3), np.float32)\n",
    "x[:, :, 0] = t1[np.newaxis, :]\n",
    "x[:, :, 1] = t2[:, np.newaxis]\n",
    "x[:, :, 2] = .0\n",
    "print(x.shape)"
   ]
  },
  {
   "cell_type": "code",
   "execution_count": null,
   "metadata": {},
   "outputs": [],
   "source": [
    "xy = np.mgrid[0:2048:8*np.pi, 0:1534:3*np.pi]#.reshape(2048,-1).T\n",
    "print(xy.shape)\n",
    "# print(xy)"
   ]
  },
  {
   "cell_type": "code",
   "execution_count": null,
   "metadata": {},
   "outputs": [],
   "source": [
    "lJHTDB = pyJHTDB.libJHTDB()\n",
    "lJHTDB.initialize()\n",
    "\n",
    "#Add token\n",
    "auth_token  = \"edu.cmu.andrew.ppant-68a123d6\"  #Replace with your own token here\n",
    "lJHTDB.add_token(auth_token)\n",
    "\n",
    "import pyJHTDB.dbinfo\n",
    "T = pyJHTDB.dbinfo.channel5200['time'][-1]\n",
    "# T =10.0\n",
    "\n",
    "# Select points in the database to query\n",
    "# lpoints = []\n",
    "# for i in range(0,3):\n",
    "#     lpoints.append([np.random.uniform(0, 8*3.14),np.random.uniform(-1, 1),np.random.uniform(0, 3*3.14)])\n",
    "\n",
    "# # 2D array with single precision values\n",
    "# points = np.array(lpoints,dtype='float32')\n",
    "\n",
    "# time = np.random.random()*T\n",
    "time = 24.0\n",
    "# u = lJHTDB.getData(\n",
    "#                time,\n",
    "#                x,\n",
    "#                sinterp = 4,\n",
    "#                data_set ='channel5200',\n",
    "#                getFunction='getVelocity')\n",
    "# ubox = lJHTDB.getBoxFilter(\n",
    "#                time,\n",
    "#                x,\n",
    "#                field = 'velocity',\n",
    "#                data_set = 'channel',\n",
    "#                filter_width = 5*(2*np.pi / 1024))\n",
    "# lJHTDB.finalize()\n",
    "result = lJHTDB.getData(time, x, data_set='channel',\n",
    "        sinterp = 4, tinterp = 0,\n",
    "        getFunction = 'getVelocity')\n",
    "print(result.shape)\n",
    "# print(result)\n",
    "# print(u.shape)\n",
    "print(time)"
   ]
  },
  {
   "cell_type": "code",
   "execution_count": null,
   "metadata": {},
   "outputs": [],
   "source": [
    "import matplotlib.pyplot as plt\n",
    "plt.imshow(result[:,:,0])\n",
    "plt.imsave('try.png', result[:,:,0])"
   ]
  },
  {
   "cell_type": "code",
   "execution_count": null,
   "metadata": {},
   "outputs": [],
   "source": [
    "# print(u.shape)\n",
    "fig = plt.figure(figsize = (t1[-1] - t1[0], t2[-1] - t2[0]))\n",
    "a = fig.add_subplot(121)\n",
    "a.set_axis_off()\n",
    "a.imshow([:,:,0],\n",
    "         extent = [t1[0], t1[-1] - t1[0], t2[0], t2[-1] - t2[0]],\n",
    "         interpolation = 'none')"
   ]
  },
  {
   "cell_type": "code",
   "execution_count": null,
   "metadata": {},
   "outputs": [],
   "source": [
    "import shutil\n",
    "T = np.arange(0., 25.0, 0.01)\n",
    "X = np.linspace(0, 8*np.pi, 4)\n",
    "Y = np.linspace(-1, 1, 4)\n",
    "Z = np.arange(0, 3*np.pi, 0.1)x[:, :, 0] = t1[np.newaxis, :]\n",
    "x[:, :, 1] = t2[:, np.newaxis]\n",
    "x[:, :, 2] = .0\n",
    "\n",
    "x = np.zeros((p.shape[0], p.shape[0], 3), np.float32)\n",
    "les = []\n",
    "dns = []\n",
    "count = 0\n",
    "# if os.path.exists('DNS-LES/les'):\n",
    "#     shutil.rmtree('DNS-LES/les')\n",
    "# if os.path.exists('DNS-LES/dns'):\n",
    "#     shutil.rmtree('DNS-LES/dns')\n",
    "if not os.path.exists('DNS-LES/les'):\n",
    "    os.mkdir('DNS-LES/les')\n",
    "\n",
    "if not os.path.exists('DNS-LES/dns'):\n",
    "    os.mkdir('DNS-LES/dns')"
   ]
  },
  {
   "cell_type": "code",
   "execution_count": null,
   "metadata": {},
   "outputs": [],
   "source": [
    "\n",
    "def create_turb_dataset(t):\n",
    "    count = 0\n",
    "    Nx = 512\n",
    "    Ny = 128\n",
    "    #for t in T:\n",
    "    start_time = time.time()\n",
    "    print(\"Time:\",t)\n",
    "    for idx in range(len(X)-1):\n",
    "        px = np.linspace(X[idx], X[idx+1], Nx)\n",
    "        for idy in range(len(Y)-1):\n",
    "            py = np.linspace(Y[idy], Y[idy+1], Ny)\n",
    "            for z in Z:\n",
    "            \n",
    "                x[:, :, 0] = px[np.newaxis, :]\n",
    "                x[:, :, 1] = py[:, np.newaxis]\n",
    "                x[:, :, 2] = z\n",
    "\n",
    "                u, u_box= u_data(t, x)\n",
    "                #les.append(u_box)\n",
    "                #dns.append(u)\n",
    "                if not os.path.exists('DNS-LES/les/%.2f'%t):\n",
    "                    os.mkdir('DNS-LES/les/%.2f'%t)\n",
    "                if not os.path.exists('DNS-LES/dns/%.2f'%t):\n",
    "                    os.mkdir('DNS-LES/dns/%.2f'%t)\n",
    "\n",
    "                for itx in range(3):\n",
    "                    norm1 = cv2.normalize(u[:,:,itx], 0, 255, norm_type=cv2.NORM_MINMAX, dtype=cv2.CV_32F)\n",
    "                    norm2 = cv2.normalize(u_box[:,:,itx], 0, 255,norm_type=cv2.NORM_MINMAX, dtype=cv2.CV_32F)\n",
    "                    if count%100 == 0:\n",
    "                        print(count)\n",
    "\n",
    "                    cv2.imwrite(\"DNS-LES/dns/%.2f/%d.png\"%(t,count), norm1)\n",
    "                    cv2.imwrite(\"DNS-LES/les/%.2f/%d.png\"%(t,count), norm2)\n",
    "                    count+=1\n",
    "                    end_time = time.time()\n",
    "    print(\"Time: {:.2f} s\".format(end_time-start_time))"
   ]
  },
  {
   "cell_type": "code",
   "execution_count": null,
   "metadata": {},
   "outputs": [],
   "source": [
    "# 2048×512×1536\n",
    "px = np.linspace(0, 8*np.pi, 512)\n",
    "py = np.linspace(-1, 1, 128)\n",
    "x = np.zeros((px.shape[0], py.shape[0], 3), np.float32)\n",
    "# print(t[np.newaxis, :].shape)\n",
    "x[:, :, 0] = px[:, np.newaxis]\n",
    "x[:, :, 1] = py[np.newaxis,:]\n",
    "x[:, :, 2] = 0.\n",
    "\n",
    "T = np.linspace(0., 25.9, 1000)\n",
    "dataset = np.zeros((len(T), 512, 128))\n",
    "\n",
    "for idx, time in enumerate(T):\n",
    "    print(idx)\n",
    "    dataset[idx] = lJHTDB.getData(time, x, data_set='channel',\n",
    "        sinterp = 4, tinterp = 0,\n",
    "        getFunction = 'getVelocity')[:,:,0]\n",
    "print(dataset.shape)\n",
    "np.save('../data/channel_data.npy', dataset)"
   ]
  },
  {
   "cell_type": "code",
   "execution_count": null,
   "metadata": {},
   "outputs": [],
   "source": [
    "A = np.zeros(5)\n",
    "print(A)"
   ]
  },
  {
   "cell_type": "code",
   "execution_count": null,
   "metadata": {},
   "outputs": [],
   "source": [
    "import numpy as np\n",
    "import matplotlib.pyplot as plt "
   ]
  },
  {
   "cell_type": "code",
   "execution_count": null,
   "metadata": {},
   "outputs": [],
   "source": [
    "dataset = np.load('../data/channel_data_2500.npy')\n",
    "print(dataset.shape)\n",
    "plt.imshow(dataset[-1])\n",
    "plt.show()"
   ]
  },
  {
   "cell_type": "code",
   "execution_count": null,
   "metadata": {},
   "outputs": [],
   "source": [
    "import numpy as np\n",
    "import matplotlib.pyplot as plt \n",
    "\n",
    "u_comp = np.load('../data/Velocity160.npz', allow_pickle=True)\n",
    "u_flat = u_comp['arr_0']\n",
    "print(u_flat.shape)\n",
    "u = u_flat.reshape(u_flat.shape[0], 320, 80)\n",
    "u = np.transpose(u, (0, 2, 1))\n",
    "u_new = np.zeros((u.shape[0], 80, 640))\n",
    "u_new[..., :320] = u\n",
    "u = u_new.astype(np.float32)\n",
    "plt.matshow(u[2000])"
   ]
  },
  {
   "cell_type": "code",
   "execution_count": null,
   "metadata": {},
   "outputs": [],
   "source": [
    "for it in u:\n",
    "    print(it)"
   ]
  },
  {
   "cell_type": "code",
   "execution_count": null,
   "metadata": {},
   "outputs": [],
   "source": [
    "u['arr_0'].shape"
   ]
  },
  {
   "cell_type": "code",
   "execution_count": null,
   "metadata": {},
   "outputs": [],
   "source": [
    "u = np.load('../data/Velocity160.npz', allow_pickle=True)\n",
    "u = u_comp['arr_0']\n",
    "# u = u_flat.reshape(u_flat.shape[0], 320, 80)\n",
    "# u = np.transpose(u, (0, 2, 1))\n",
    "print(u.shape)\n",
    "plt.matshow(u[200])\n"
   ]
  },
  {
   "cell_type": "code",
   "execution_count": null,
   "metadata": {},
   "outputs": [],
   "source": [
    "dataset = np.load('../data/channel_data_2500.npy')\n",
    "print(dataset.shape)"
   ]
  },
  {
   "cell_type": "code",
   "execution_count": 2,
   "metadata": {},
   "outputs": [
    {
     "output_type": "stream",
     "name": "stdout",
     "text": [
      "[[[2.00045 2.00043 2.00042 ... 1.99193 1.99482 1.9977 ]\n  [2.00046 2.00045 2.00044 ... 1.99991 1.99986 1.99982]\n  [2.00048 2.00047 2.00046 ... 1.99983 1.99979 1.99975]\n  ...\n  [2.00086 2.00107 2.00129 ... 1.99779 1.99785 1.99791]\n  [2.00078 2.00099 2.0012  ... 1.99783 1.99789 1.99795]\n  [2.00074 2.00094 2.00114 ... 1.99787 1.99793 1.99798]]\n\n [[2.00044 2.00044 2.00044 ... 1.99181 1.9948  1.99778]\n  [2.00046 2.00046 2.00046 ... 2.00008 2.00003 1.99998]\n  [2.00047 2.00048 2.00048 ... 1.99999 1.99994 1.9999 ]\n  ...\n  [2.00087 2.00109 2.00131 ... 1.99774 1.9978  1.99786]\n  [2.00079 2.00101 2.00123 ... 1.99778 1.99784 1.9979 ]\n  [2.00074 2.00096 2.00117 ... 1.99781 1.99787 1.99793]]\n\n [[2.00044 2.00045 2.00046 ... 1.99166 1.99475 1.99783]\n  [2.00046 2.00047 2.00049 ... 2.0002  2.00015 2.0001 ]\n  [2.00047 2.00049 2.00051 ... 2.00012 2.00007 2.00001]\n  ...\n  [2.00087 2.0011  2.00132 ... 1.99769 1.99775 1.99781]\n  [2.00079 2.00102 2.00124 ... 1.99773 1.99779 1.99785]\n  [2.00075 2.00096 2.00118 ... 1.99775 1.99782 1.99788]]\n\n ...\n\n [[2.00051 2.00044 2.00039 ... 2.0183  2.02372 2.02914]\n  [2.00052 2.00046 2.00043 ... 2.03309 2.03319 2.03329]\n  [2.00053 2.00048 2.00046 ... 2.03321 2.03332 2.03343]\n  ...\n  [2.00086 2.00124 2.00162 ... 2.02721 2.02607 2.02533]\n  [2.00086 2.00124 2.00162 ... 2.02734 2.0266  2.02586]\n  [2.00086 2.00124 2.00162 ... 2.02702 2.02671 2.0264 ]]\n\n [[2.0005  2.00044 2.00039 ... 2.01827 2.0237  2.02913]\n  [2.00052 2.00046 2.00043 ... 2.03309 2.03319 2.03329]\n  [2.00053 2.00048 2.00046 ... 2.03321 2.03332 2.03343]\n  ...\n  [2.00085 2.00123 2.00161 ... 2.0272  2.02599 2.0252 ]\n  [2.00086 2.00124 2.00162 ... 2.02732 2.02653 2.02574]\n  [2.00086 2.00124 2.00162 ... 2.0269  2.02658 2.02627]]\n\n [[2.0005  2.00044 2.0004  ... 2.01824 2.02369 2.02913]\n  [2.00052 2.00046 2.00043 ... 2.0331  2.0332  2.03329]\n  [2.00053 2.00049 2.00046 ... 2.03322 2.03333 2.03343]\n  ...\n  [2.00085 2.00123 2.00161 ... 2.0272  2.02593 2.02509]\n  [2.00086 2.00124 2.00162 ... 2.0273  2.02646 2.02562]\n  [2.00086 2.00124 2.00162 ... 2.02678 2.02646 2.02614]]]\n3.51482 0.0\n"
     ]
    },
    {
     "output_type": "execute_result",
     "data": {
      "text/plain": [
       "<matplotlib.image.AxesImage at 0x7feb03c9a510>"
      ]
     },
     "metadata": {},
     "execution_count": 2
    },
    {
     "output_type": "display_data",
     "data": {
      "text/plain": "<Figure size 288x1152 with 1 Axes>",
      "image/svg+xml": "<?xml version=\"1.0\" encoding=\"utf-8\" standalone=\"no\"?>\n<!DOCTYPE svg PUBLIC \"-//W3C//DTD SVG 1.1//EN\"\n  \"http://www.w3.org/Graphics/SVG/1.1/DTD/svg11.dtd\">\n<!-- Created with matplotlib (https://matplotlib.org/) -->\n<svg height=\"927.378125pt\" version=\"1.1\" viewBox=\"0 0 263.6875 927.378125\" width=\"263.6875pt\" xmlns=\"http://www.w3.org/2000/svg\" xmlns:xlink=\"http://www.w3.org/1999/xlink\">\n <defs>\n  <style type=\"text/css\">\n*{stroke-linecap:butt;stroke-linejoin:round;}\n  </style>\n </defs>\n <g id=\"figure_1\">\n  <g id=\"patch_1\">\n   <path d=\"M 0 927.378125 \nL 263.6875 927.378125 \nL 263.6875 0 \nL 0 0 \nz\n\" style=\"fill:none;\"/>\n  </g>\n  <g id=\"axes_1\">\n   <g id=\"patch_2\">\n    <path d=\"M 33.2875 916.678125 \nL 256.4875 916.678125 \nL 256.4875 23.878125 \nL 33.2875 23.878125 \nz\n\" style=\"fill:#ffffff;\"/>\n   </g>\n   <g clip-path=\"url(#p86f56e75a6)\">\n    <image height=\"893\" id=\"imagebaf57faa6c\" transform=\"scale(1 -1)translate(0 -893)\" width=\"224\" x=\"33.2875\" xlink:href=\"data:image/png;base64,\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\" y=\"-23.678125\"/>\n   </g>\n   <g id=\"matplotlib.axis_1\">\n    <g id=\"xtick_1\">\n     <g id=\"line2d_1\">\n      <defs>\n       <path d=\"M 0 0 \nL 0 3.5 \n\" id=\"mf621c9420e\" style=\"stroke:#000000;stroke-width:0.8;\"/>\n      </defs>\n      <g>\n       <use style=\"stroke:#000000;stroke-width:0.8;\" x=\"34.6825\" xlink:href=\"#mf621c9420e\" y=\"916.678125\"/>\n      </g>\n     </g>\n     <g id=\"line2d_2\">\n      <defs>\n       <path d=\"M 0 0 \nL 0 -3.5 \n\" id=\"m964570d041\" style=\"stroke:#000000;stroke-width:0.8;\"/>\n      </defs>\n      <g>\n       <use style=\"stroke:#000000;stroke-width:0.8;\" x=\"34.6825\" xlink:href=\"#m964570d041\" y=\"23.878125\"/>\n      </g>\n     </g>\n     <g id=\"text_1\">\n      <!-- 0 -->\n      <defs>\n       <path d=\"M 31.78125 66.40625 \nQ 24.171875 66.40625 20.328125 58.90625 \nQ 16.5 51.421875 16.5 36.375 \nQ 16.5 21.390625 20.328125 13.890625 \nQ 24.171875 6.390625 31.78125 6.390625 \nQ 39.453125 6.390625 43.28125 13.890625 \nQ 47.125 21.390625 47.125 36.375 \nQ 47.125 51.421875 43.28125 58.90625 \nQ 39.453125 66.40625 31.78125 66.40625 \nz\nM 31.78125 74.21875 \nQ 44.046875 74.21875 50.515625 64.515625 \nQ 56.984375 54.828125 56.984375 36.375 \nQ 56.984375 17.96875 50.515625 8.265625 \nQ 44.046875 -1.421875 31.78125 -1.421875 \nQ 19.53125 -1.421875 13.0625 8.265625 \nQ 6.59375 17.96875 6.59375 36.375 \nQ 6.59375 54.828125 13.0625 64.515625 \nQ 19.53125 74.21875 31.78125 74.21875 \nz\n\" id=\"DejaVuSans-48\"/>\n      </defs>\n      <g transform=\"translate(31.50125 14.798437)scale(0.1 -0.1)\">\n       <use xlink:href=\"#DejaVuSans-48\"/>\n      </g>\n     </g>\n    </g>\n    <g id=\"xtick_2\">\n     <g id=\"line2d_3\">\n      <g>\n       <use style=\"stroke:#000000;stroke-width:0.8;\" x=\"62.5825\" xlink:href=\"#mf621c9420e\" y=\"916.678125\"/>\n      </g>\n     </g>\n     <g id=\"line2d_4\">\n      <g>\n       <use style=\"stroke:#000000;stroke-width:0.8;\" x=\"62.5825\" xlink:href=\"#m964570d041\" y=\"23.878125\"/>\n      </g>\n     </g>\n     <g id=\"text_2\">\n      <!-- 10 -->\n      <defs>\n       <path d=\"M 12.40625 8.296875 \nL 28.515625 8.296875 \nL 28.515625 63.921875 \nL 10.984375 60.40625 \nL 10.984375 69.390625 \nL 28.421875 72.90625 \nL 38.28125 72.90625 \nL 38.28125 8.296875 \nL 54.390625 8.296875 \nL 54.390625 0 \nL 12.40625 0 \nz\n\" id=\"DejaVuSans-49\"/>\n      </defs>\n      <g transform=\"translate(56.22 14.798437)scale(0.1 -0.1)\">\n       <use xlink:href=\"#DejaVuSans-49\"/>\n       <use x=\"63.623047\" xlink:href=\"#DejaVuSans-48\"/>\n      </g>\n     </g>\n    </g>\n    <g id=\"xtick_3\">\n     <g id=\"line2d_5\">\n      <g>\n       <use style=\"stroke:#000000;stroke-width:0.8;\" x=\"90.4825\" xlink:href=\"#mf621c9420e\" y=\"916.678125\"/>\n      </g>\n     </g>\n     <g id=\"line2d_6\">\n      <g>\n       <use style=\"stroke:#000000;stroke-width:0.8;\" x=\"90.4825\" xlink:href=\"#m964570d041\" y=\"23.878125\"/>\n      </g>\n     </g>\n     <g id=\"text_3\">\n      <!-- 20 -->\n      <defs>\n       <path d=\"M 19.1875 8.296875 \nL 53.609375 8.296875 \nL 53.609375 0 \nL 7.328125 0 \nL 7.328125 8.296875 \nQ 12.9375 14.109375 22.625 23.890625 \nQ 32.328125 33.6875 34.8125 36.53125 \nQ 39.546875 41.84375 41.421875 45.53125 \nQ 43.3125 49.21875 43.3125 52.78125 \nQ 43.3125 58.59375 39.234375 62.25 \nQ 35.15625 65.921875 28.609375 65.921875 \nQ 23.96875 65.921875 18.8125 64.3125 \nQ 13.671875 62.703125 7.8125 59.421875 \nL 7.8125 69.390625 \nQ 13.765625 71.78125 18.9375 73 \nQ 24.125 74.21875 28.421875 74.21875 \nQ 39.75 74.21875 46.484375 68.546875 \nQ 53.21875 62.890625 53.21875 53.421875 \nQ 53.21875 48.921875 51.53125 44.890625 \nQ 49.859375 40.875 45.40625 35.40625 \nQ 44.1875 33.984375 37.640625 27.21875 \nQ 31.109375 20.453125 19.1875 8.296875 \nz\n\" id=\"DejaVuSans-50\"/>\n      </defs>\n      <g transform=\"translate(84.12 14.798437)scale(0.1 -0.1)\">\n       <use xlink:href=\"#DejaVuSans-50\"/>\n       <use x=\"63.623047\" xlink:href=\"#DejaVuSans-48\"/>\n      </g>\n     </g>\n    </g>\n    <g id=\"xtick_4\">\n     <g id=\"line2d_7\">\n      <g>\n       <use style=\"stroke:#000000;stroke-width:0.8;\" x=\"118.3825\" xlink:href=\"#mf621c9420e\" y=\"916.678125\"/>\n      </g>\n     </g>\n     <g id=\"line2d_8\">\n      <g>\n       <use style=\"stroke:#000000;stroke-width:0.8;\" x=\"118.3825\" xlink:href=\"#m964570d041\" y=\"23.878125\"/>\n      </g>\n     </g>\n     <g id=\"text_4\">\n      <!-- 30 -->\n      <defs>\n       <path d=\"M 40.578125 39.3125 \nQ 47.65625 37.796875 51.625 33 \nQ 55.609375 28.21875 55.609375 21.1875 \nQ 55.609375 10.40625 48.1875 4.484375 \nQ 40.765625 -1.421875 27.09375 -1.421875 \nQ 22.515625 -1.421875 17.65625 -0.515625 \nQ 12.796875 0.390625 7.625 2.203125 \nL 7.625 11.71875 \nQ 11.71875 9.328125 16.59375 8.109375 \nQ 21.484375 6.890625 26.8125 6.890625 \nQ 36.078125 6.890625 40.9375 10.546875 \nQ 45.796875 14.203125 45.796875 21.1875 \nQ 45.796875 27.640625 41.28125 31.265625 \nQ 36.765625 34.90625 28.71875 34.90625 \nL 20.21875 34.90625 \nL 20.21875 43.015625 \nL 29.109375 43.015625 \nQ 36.375 43.015625 40.234375 45.921875 \nQ 44.09375 48.828125 44.09375 54.296875 \nQ 44.09375 59.90625 40.109375 62.90625 \nQ 36.140625 65.921875 28.71875 65.921875 \nQ 24.65625 65.921875 20.015625 65.03125 \nQ 15.375 64.15625 9.8125 62.3125 \nL 9.8125 71.09375 \nQ 15.4375 72.65625 20.34375 73.4375 \nQ 25.25 74.21875 29.59375 74.21875 \nQ 40.828125 74.21875 47.359375 69.109375 \nQ 53.90625 64.015625 53.90625 55.328125 \nQ 53.90625 49.265625 50.4375 45.09375 \nQ 46.96875 40.921875 40.578125 39.3125 \nz\n\" id=\"DejaVuSans-51\"/>\n      </defs>\n      <g transform=\"translate(112.02 14.798437)scale(0.1 -0.1)\">\n       <use xlink:href=\"#DejaVuSans-51\"/>\n       <use x=\"63.623047\" xlink:href=\"#DejaVuSans-48\"/>\n      </g>\n     </g>\n    </g>\n    <g id=\"xtick_5\">\n     <g id=\"line2d_9\">\n      <g>\n       <use style=\"stroke:#000000;stroke-width:0.8;\" x=\"146.2825\" xlink:href=\"#mf621c9420e\" y=\"916.678125\"/>\n      </g>\n     </g>\n     <g id=\"line2d_10\">\n      <g>\n       <use style=\"stroke:#000000;stroke-width:0.8;\" x=\"146.2825\" xlink:href=\"#m964570d041\" y=\"23.878125\"/>\n      </g>\n     </g>\n     <g id=\"text_5\">\n      <!-- 40 -->\n      <defs>\n       <path d=\"M 37.796875 64.3125 \nL 12.890625 25.390625 \nL 37.796875 25.390625 \nz\nM 35.203125 72.90625 \nL 47.609375 72.90625 \nL 47.609375 25.390625 \nL 58.015625 25.390625 \nL 58.015625 17.1875 \nL 47.609375 17.1875 \nL 47.609375 0 \nL 37.796875 0 \nL 37.796875 17.1875 \nL 4.890625 17.1875 \nL 4.890625 26.703125 \nz\n\" id=\"DejaVuSans-52\"/>\n      </defs>\n      <g transform=\"translate(139.92 14.798437)scale(0.1 -0.1)\">\n       <use xlink:href=\"#DejaVuSans-52\"/>\n       <use x=\"63.623047\" xlink:href=\"#DejaVuSans-48\"/>\n      </g>\n     </g>\n    </g>\n    <g id=\"xtick_6\">\n     <g id=\"line2d_11\">\n      <g>\n       <use style=\"stroke:#000000;stroke-width:0.8;\" x=\"174.1825\" xlink:href=\"#mf621c9420e\" y=\"916.678125\"/>\n      </g>\n     </g>\n     <g id=\"line2d_12\">\n      <g>\n       <use style=\"stroke:#000000;stroke-width:0.8;\" x=\"174.1825\" xlink:href=\"#m964570d041\" y=\"23.878125\"/>\n      </g>\n     </g>\n     <g id=\"text_6\">\n      <!-- 50 -->\n      <defs>\n       <path d=\"M 10.796875 72.90625 \nL 49.515625 72.90625 \nL 49.515625 64.59375 \nL 19.828125 64.59375 \nL 19.828125 46.734375 \nQ 21.96875 47.46875 24.109375 47.828125 \nQ 26.265625 48.1875 28.421875 48.1875 \nQ 40.625 48.1875 47.75 41.5 \nQ 54.890625 34.8125 54.890625 23.390625 \nQ 54.890625 11.625 47.5625 5.09375 \nQ 40.234375 -1.421875 26.90625 -1.421875 \nQ 22.3125 -1.421875 17.546875 -0.640625 \nQ 12.796875 0.140625 7.71875 1.703125 \nL 7.71875 11.625 \nQ 12.109375 9.234375 16.796875 8.0625 \nQ 21.484375 6.890625 26.703125 6.890625 \nQ 35.15625 6.890625 40.078125 11.328125 \nQ 45.015625 15.765625 45.015625 23.390625 \nQ 45.015625 31 40.078125 35.4375 \nQ 35.15625 39.890625 26.703125 39.890625 \nQ 22.75 39.890625 18.8125 39.015625 \nQ 14.890625 38.140625 10.796875 36.28125 \nz\n\" id=\"DejaVuSans-53\"/>\n      </defs>\n      <g transform=\"translate(167.82 14.798437)scale(0.1 -0.1)\">\n       <use xlink:href=\"#DejaVuSans-53\"/>\n       <use x=\"63.623047\" xlink:href=\"#DejaVuSans-48\"/>\n      </g>\n     </g>\n    </g>\n    <g id=\"xtick_7\">\n     <g id=\"line2d_13\">\n      <g>\n       <use style=\"stroke:#000000;stroke-width:0.8;\" x=\"202.0825\" xlink:href=\"#mf621c9420e\" y=\"916.678125\"/>\n      </g>\n     </g>\n     <g id=\"line2d_14\">\n      <g>\n       <use style=\"stroke:#000000;stroke-width:0.8;\" x=\"202.0825\" xlink:href=\"#m964570d041\" y=\"23.878125\"/>\n      </g>\n     </g>\n     <g id=\"text_7\">\n      <!-- 60 -->\n      <defs>\n       <path d=\"M 33.015625 40.375 \nQ 26.375 40.375 22.484375 35.828125 \nQ 18.609375 31.296875 18.609375 23.390625 \nQ 18.609375 15.53125 22.484375 10.953125 \nQ 26.375 6.390625 33.015625 6.390625 \nQ 39.65625 6.390625 43.53125 10.953125 \nQ 47.40625 15.53125 47.40625 23.390625 \nQ 47.40625 31.296875 43.53125 35.828125 \nQ 39.65625 40.375 33.015625 40.375 \nz\nM 52.59375 71.296875 \nL 52.59375 62.3125 \nQ 48.875 64.0625 45.09375 64.984375 \nQ 41.3125 65.921875 37.59375 65.921875 \nQ 27.828125 65.921875 22.671875 59.328125 \nQ 17.53125 52.734375 16.796875 39.40625 \nQ 19.671875 43.65625 24.015625 45.921875 \nQ 28.375 48.1875 33.59375 48.1875 \nQ 44.578125 48.1875 50.953125 41.515625 \nQ 57.328125 34.859375 57.328125 23.390625 \nQ 57.328125 12.15625 50.6875 5.359375 \nQ 44.046875 -1.421875 33.015625 -1.421875 \nQ 20.359375 -1.421875 13.671875 8.265625 \nQ 6.984375 17.96875 6.984375 36.375 \nQ 6.984375 53.65625 15.1875 63.9375 \nQ 23.390625 74.21875 37.203125 74.21875 \nQ 40.921875 74.21875 44.703125 73.484375 \nQ 48.484375 72.75 52.59375 71.296875 \nz\n\" id=\"DejaVuSans-54\"/>\n      </defs>\n      <g transform=\"translate(195.72 14.798437)scale(0.1 -0.1)\">\n       <use xlink:href=\"#DejaVuSans-54\"/>\n       <use x=\"63.623047\" xlink:href=\"#DejaVuSans-48\"/>\n      </g>\n     </g>\n    </g>\n    <g id=\"xtick_8\">\n     <g id=\"line2d_15\">\n      <g>\n       <use style=\"stroke:#000000;stroke-width:0.8;\" x=\"229.9825\" xlink:href=\"#mf621c9420e\" y=\"916.678125\"/>\n      </g>\n     </g>\n     <g id=\"line2d_16\">\n      <g>\n       <use style=\"stroke:#000000;stroke-width:0.8;\" x=\"229.9825\" xlink:href=\"#m964570d041\" y=\"23.878125\"/>\n      </g>\n     </g>\n     <g id=\"text_8\">\n      <!-- 70 -->\n      <defs>\n       <path d=\"M 8.203125 72.90625 \nL 55.078125 72.90625 \nL 55.078125 68.703125 \nL 28.609375 0 \nL 18.3125 0 \nL 43.21875 64.59375 \nL 8.203125 64.59375 \nz\n\" id=\"DejaVuSans-55\"/>\n      </defs>\n      <g transform=\"translate(223.62 14.798437)scale(0.1 -0.1)\">\n       <use xlink:href=\"#DejaVuSans-55\"/>\n       <use x=\"63.623047\" xlink:href=\"#DejaVuSans-48\"/>\n      </g>\n     </g>\n    </g>\n   </g>\n   <g id=\"matplotlib.axis_2\">\n    <g id=\"ytick_1\">\n     <g id=\"line2d_17\">\n      <defs>\n       <path d=\"M 0 0 \nL -3.5 0 \n\" id=\"mbd0353365c\" style=\"stroke:#000000;stroke-width:0.8;\"/>\n      </defs>\n      <g>\n       <use style=\"stroke:#000000;stroke-width:0.8;\" x=\"33.2875\" xlink:href=\"#mbd0353365c\" y=\"25.273125\"/>\n      </g>\n     </g>\n     <g id=\"text_9\">\n      <!-- 0 -->\n      <g transform=\"translate(19.925 29.072344)scale(0.1 -0.1)\">\n       <use xlink:href=\"#DejaVuSans-48\"/>\n      </g>\n     </g>\n    </g>\n    <g id=\"ytick_2\">\n     <g id=\"line2d_18\">\n      <g>\n       <use style=\"stroke:#000000;stroke-width:0.8;\" x=\"33.2875\" xlink:href=\"#mbd0353365c\" y=\"164.773125\"/>\n      </g>\n     </g>\n     <g id=\"text_10\">\n      <!-- 50 -->\n      <g transform=\"translate(13.5625 168.572344)scale(0.1 -0.1)\">\n       <use xlink:href=\"#DejaVuSans-53\"/>\n       <use x=\"63.623047\" xlink:href=\"#DejaVuSans-48\"/>\n      </g>\n     </g>\n    </g>\n    <g id=\"ytick_3\">\n     <g id=\"line2d_19\">\n      <g>\n       <use style=\"stroke:#000000;stroke-width:0.8;\" x=\"33.2875\" xlink:href=\"#mbd0353365c\" y=\"304.273125\"/>\n      </g>\n     </g>\n     <g id=\"text_11\">\n      <!-- 100 -->\n      <g transform=\"translate(7.2 308.072344)scale(0.1 -0.1)\">\n       <use xlink:href=\"#DejaVuSans-49\"/>\n       <use x=\"63.623047\" xlink:href=\"#DejaVuSans-48\"/>\n       <use x=\"127.246094\" xlink:href=\"#DejaVuSans-48\"/>\n      </g>\n     </g>\n    </g>\n    <g id=\"ytick_4\">\n     <g id=\"line2d_20\">\n      <g>\n       <use style=\"stroke:#000000;stroke-width:0.8;\" x=\"33.2875\" xlink:href=\"#mbd0353365c\" y=\"443.773125\"/>\n      </g>\n     </g>\n     <g id=\"text_12\">\n      <!-- 150 -->\n      <g transform=\"translate(7.2 447.572344)scale(0.1 -0.1)\">\n       <use xlink:href=\"#DejaVuSans-49\"/>\n       <use x=\"63.623047\" xlink:href=\"#DejaVuSans-53\"/>\n       <use x=\"127.246094\" xlink:href=\"#DejaVuSans-48\"/>\n      </g>\n     </g>\n    </g>\n    <g id=\"ytick_5\">\n     <g id=\"line2d_21\">\n      <g>\n       <use style=\"stroke:#000000;stroke-width:0.8;\" x=\"33.2875\" xlink:href=\"#mbd0353365c\" y=\"583.273125\"/>\n      </g>\n     </g>\n     <g id=\"text_13\">\n      <!-- 200 -->\n      <g transform=\"translate(7.2 587.072344)scale(0.1 -0.1)\">\n       <use xlink:href=\"#DejaVuSans-50\"/>\n       <use x=\"63.623047\" xlink:href=\"#DejaVuSans-48\"/>\n       <use x=\"127.246094\" xlink:href=\"#DejaVuSans-48\"/>\n      </g>\n     </g>\n    </g>\n    <g id=\"ytick_6\">\n     <g id=\"line2d_22\">\n      <g>\n       <use style=\"stroke:#000000;stroke-width:0.8;\" x=\"33.2875\" xlink:href=\"#mbd0353365c\" y=\"722.773125\"/>\n      </g>\n     </g>\n     <g id=\"text_14\">\n      <!-- 250 -->\n      <g transform=\"translate(7.2 726.572344)scale(0.1 -0.1)\">\n       <use xlink:href=\"#DejaVuSans-50\"/>\n       <use x=\"63.623047\" xlink:href=\"#DejaVuSans-53\"/>\n       <use x=\"127.246094\" xlink:href=\"#DejaVuSans-48\"/>\n      </g>\n     </g>\n    </g>\n    <g id=\"ytick_7\">\n     <g id=\"line2d_23\">\n      <g>\n       <use style=\"stroke:#000000;stroke-width:0.8;\" x=\"33.2875\" xlink:href=\"#mbd0353365c\" y=\"862.273125\"/>\n      </g>\n     </g>\n     <g id=\"text_15\">\n      <!-- 300 -->\n      <g transform=\"translate(7.2 866.072344)scale(0.1 -0.1)\">\n       <use xlink:href=\"#DejaVuSans-51\"/>\n       <use x=\"63.623047\" xlink:href=\"#DejaVuSans-48\"/>\n       <use x=\"127.246094\" xlink:href=\"#DejaVuSans-48\"/>\n      </g>\n     </g>\n    </g>\n   </g>\n   <g id=\"patch_3\">\n    <path d=\"M 33.2875 916.678125 \nL 33.2875 23.878125 \n\" style=\"fill:none;stroke:#000000;stroke-linecap:square;stroke-linejoin:miter;stroke-width:0.8;\"/>\n   </g>\n   <g id=\"patch_4\">\n    <path d=\"M 256.4875 916.678125 \nL 256.4875 23.878125 \n\" style=\"fill:none;stroke:#000000;stroke-linecap:square;stroke-linejoin:miter;stroke-width:0.8;\"/>\n   </g>\n   <g id=\"patch_5\">\n    <path d=\"M 33.2875 916.678125 \nL 256.4875 916.678125 \n\" style=\"fill:none;stroke:#000000;stroke-linecap:square;stroke-linejoin:miter;stroke-width:0.8;\"/>\n   </g>\n   <g id=\"patch_6\">\n    <path d=\"M 33.2875 23.878125 \nL 256.4875 23.878125 \n\" style=\"fill:none;stroke:#000000;stroke-linecap:square;stroke-linejoin:miter;stroke-width:0.8;\"/>\n   </g>\n  </g>\n </g>\n <defs>\n  <clipPath id=\"p86f56e75a6\">\n   <rect height=\"892.8\" width=\"223.2\" x=\"33.2875\" y=\"23.878125\"/>\n  </clipPath>\n </defs>\n</svg>\n",
      "image/png": "[encoded data removed]"
     },
     "metadata": {
      "needs_background": "light"
     }
    }
   ],
   "source": [
    "import numpy as np\n",
    "import matplotlib.pyplot as plt \n",
    "u_flat = np.load('../data/airfoil_80x320_data.npy', allow_pickle=True)\n",
    "# u_flat = u_comp['arr_0']\n",
    "u = u_flat.reshape(u_flat.shape[0], 80, 320)\n",
    "# u = np.transpose(u, (0, 2, 1))\n",
    "# u_new = np.zeros((u.shape[0], 80, 640))\n",
    "# u_new[..., :320] = u\n",
    "# u = u_new.astype(np.float32)\n",
    "print(u.shape)\n",
    "print(np.max(u_flat), np.min(u_flat))\n",
    "plt.matshow(u[100])"
   ]
  },
  {
   "cell_type": "code",
   "execution_count": null,
   "metadata": {},
   "outputs": [],
   "source": []
  }
 ],
 "metadata": {
  "kernelspec": {
   "display_name": "Python 3.7.6 64-bit ('pytorch_env': conda)",
   "language": "python",
   "name": "python37664bitpytorchenvcondac65bc6c7ab474553ae2b82822152b36f"
  },
  "language_info": {
   "codemirror_mode": {
    "name": "ipython",
    "version": 3
   },
   "file_extension": ".py",
   "mimetype": "text/x-python",
   "name": "python",
   "nbconvert_exporter": "python",
   "pygments_lexer": "ipython3",
   "version": "3.7.6"
  }
 },
 "nbformat": 4,
 "nbformat_minor": 2
}