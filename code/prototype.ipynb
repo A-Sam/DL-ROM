{
 "cells": [
  {
   "cell_type": "code",
   "execution_count": null,
   "metadata": {},
   "outputs": [],
   "source": [
    "from netCDF4 import Dataset\n",
    "import numpy as np\n",
    "import matplotlib.pyplot as plt \n",
    "from matplotlib.animation import ArtistAnimation, FFMpegWriter\n",
    "\n",
    "path_bousinessq = \"./boussinesq.nc\"\n",
    "path_2dcylinder = \"./cylinder2d.nc\""
   ]
  },
  {
   "cell_type": "code",
   "execution_count": null,
   "metadata": {},
   "outputs": [],
   "source": [
    "def loadDataset(path):\n",
    "    return Dataset(path)"
   ]
  },
  {
   "cell_type": "code",
   "execution_count": null,
   "metadata": {
    "tags": []
   },
   "outputs": [],
   "source": [
    "cylinder2D = loadDataset(path_2dcylinder)\n",
    "boussinesq = loadDataset(path_bousinessq)\n",
    "print(cylinder2D)\n",
    "print(boussinesq)"
   ]
  },
  {
   "cell_type": "markdown",
   "metadata": {},
   "source": [
    "## Info about the datasets\n",
    "\n",
    "### Cylinder 2D\n",
    "\n",
    "    dimensions(sizes): xdim(640), ydim(80), tdim(1501), const(1)\n",
    "\n",
    "    variables(dimensions): float32 u(tdim,ydim,xdim), float32 v(tdim,ydim,xdim), float32 xdim(xdim), float32 ydim(ydim), float32 tdim(tdim), float32 nu(const),                             float32 radius(const), float32 Re(const)\n",
    "\n",
    "### Bousinessq\n",
    "\n",
    "\n",
    "    dimensions(sizes): xdim(150), ydim(450), tdim(2001), const(1)\n",
    "\n",
    "    variables(dimensions): float32 u(tdim,ydim,xdim), float32 v(tdim,ydim,xdim), float32 xdim(xdim), float32 ydim(ydim), float32 tdim(tdim),\n",
    "                           float32 radius(const), float32 obstacle_pos_x(const), float32 obstacle_pos_y(const)\n",
    "\n",
    "### Accessing variables\n",
    "\n",
    "    cylinder2D['variable_name']\n"
   ]
  },
  {
   "cell_type": "code",
   "execution_count": null,
   "metadata": {
    "tags": []
   },
   "outputs": [],
   "source": [
    "type(cylinder2D['xdim'])\n",
    "print(cylinder2D['u'].shape)\n",
    "print(cylinder2D['tdim'].shape)"
   ]
  },
  {
   "cell_type": "code",
   "execution_count": null,
   "metadata": {
    "tags": []
   },
   "outputs": [],
   "source": [
    "data = cylinder2D\n",
    "\n",
    "def velFromUV(data):\n",
    "    \n",
    "    u = data['u'][1000,:,:]\n",
    "    v = data['v'][1000,:,:]\n",
    "\n",
    "    vel = np.sqrt(u**2 + v**2)"
   ]
  },
  {
   "cell_type": "code",
   "execution_count": null,
   "metadata": {
    "tags": []
   },
   "outputs": [],
   "source": [
    "u = np.array(cylinder2D['u'])\n",
    "\n",
    "fig, ax = plt.subplots()\n",
    "ims = [[ax.imshow(u[i], animated=True)] for i in range(1, len(u))]\n",
    "\n",
    "ani = ArtistAnimation(fig, ims, interval=1000 , blit=True, repeat_delay=1000)\n",
    "\n",
    "# plt.show()\n",
    "\n",
    "# writer = FFMpegWriter(fps=15, metadata=dict(artist='Me'), bitrate=1800)\n",
    "# ani.save(\"movie.mp4\", writer=writer)"
   ]
  },
  {
   "cell_type": "code",
   "execution_count": null,
   "metadata": {},
   "outputs": [],
   "source": [
    "plt.matshow(data['v'][1000,:,:])\n",
    "plt.axis('off')\n",
    "plt.show()"
   ]
  },
  {
   "cell_type": "markdown",
   "metadata": {},
   "source": [
    "```\n",
    "% Create snapshot matrix\n",
    "Nt = length(S(1,1,:));\n",
    "S = reshape(permute(S, [3 2 1]), Nt, [ ]); % Reshape data into a matrix S with Nt rows\n",
    "U = S - repmat(mean(S,1), Nt, 1); % Subtract the temporal mean from each row\n",
    "\n",
    "% Create correlation matrix\n",
    "C_s = (U*U')/(Nt-1);\n",
    "\n",
    "% Solve eigenvalue problem\n",
    "[A_s LAM_s] = eig(C_s,'vector');\n",
    "\n",
    "% Sort eigenvalues and eigenvectors\n",
    "[lambda_s,ilam_s] = sort(LAM_s,'descend');\n",
    "A_s = A_s(:, ilam_s);\n",
    "\n",
    "% These are the temporal modes\n",
    "% Calculate spatial coefficients\n",
    "PHI_s = U'*A_s;\n",
    "\n",
    "% Reconstruction on mode k\n",
    "k = 1; % for example\n",
    "Utilde_k_s = A_s(:,k)*PHI_s(:,k)';\n",
    "\n",
    "% Normalization to match direct and snapshot modes (optional)\n",
    "PHI = normc(PHI_s);\n",
    "\n",
    "% Spatial modes\n",
    "A = U*PHI;\n",
    "\n",
    "% Time coefficients\n",
    "Utilde_k = A(:,k)*PHI(:,k)';\n",
    "% Reconstruction on mode k\n",
    "```"
   ]
  },
  {
   "cell_type": "code",
   "execution_count": null,
   "metadata": {
    "tags": []
   },
   "outputs": [],
   "source": [
    "S = np.transpose(u, (1,2,0))\n",
    "print(S.shape)\n",
    "Nt = u.shape[0]\n",
    "print(Nt)\n",
    "U = "
   ]
  },
  {
   "cell_type": "code",
   "execution_count": null,
   "metadata": {},
   "outputs": [],
   "source": [
    "from zipfile import ZipFile\n",
    "\n",
    "url = \"https://cgl.ethz.ch/Downloads/Data/ScientificData/cylinder2d_nc.zip\"\n",
    "file_name = \"../data2/\" + url.split('/')[-1]\n",
    "with ZipFile(file_name, 'r') as zipObj:\n",
    "   zipObj.extractall('temp')"
   ]
  },
  {
   "cell_type": "markdown",
   "metadata": {},
   "source": [
    "# Visualization"
   ]
  },
  {
   "cell_type": "code",
   "execution_count": null,
   "metadata": {},
   "outputs": [],
   "source": [
    "import numpy as np\n",
    "import matplotlib.pyplot as plt\n",
    "import matplotlib"
   ]
  },
  {
   "cell_type": "code",
   "execution_count": null,
   "metadata": {},
   "outputs": [],
   "source": [
    "Input=np.load('../data/cylinder_u.npy')"
   ]
  },
  {
   "cell_type": "code",
   "execution_count": null,
   "metadata": {},
   "outputs": [],
   "source": [
    "Output=np.load('../output/16_400.npy')\n",
    "# ip=np.load('../input/200.npy')"
   ]
  },
  {
   "cell_type": "code",
   "execution_count": null,
   "metadata": {},
   "outputs": [],
   "source": [
    "plt.imshow(Output[0,-1])"
   ]
  },
  {
   "cell_type": "code",
   "execution_count": null,
   "metadata": {},
   "outputs": [],
   "source": [
    "plt.imshow(Input[1475])\n",
    "# plt.imshow(ip[510])"
   ]
  },
  {
   "cell_type": "code",
   "execution_count": null,
   "metadata": {},
   "outputs": [],
   "source": [
    "# plt.imshow(Input[500])\n",
    "plt.imshow(Input[950])"
   ]
  },
  {
   "cell_type": "code",
   "execution_count": null,
   "metadata": {},
   "outputs": [],
   "source": [
    "fig=plt.figure(1)\n",
    "plt.subplot(2, 1, 1)\n",
    "plt.imshow(Output[800])\n",
    "plt.subplot(2,1,2)\n",
    "plt.imshow(Input[800])\n",
    "plt.savefig('comp')"
   ]
  },
  {
   "cell_type": "code",
   "execution_count": null,
   "metadata": {},
   "outputs": [],
   "source": [
    "plt.imshow(Output[800]-ip[800])\n",
    "plt.colorbar(orientation='horizontal')"
   ]
  },
  {
   "cell_type": "code",
   "execution_count": null,
   "metadata": {},
   "outputs": [],
   "source": [
    "np.max(Output[200][:,100]-Input[200][:,100])"
   ]
  },
  {
   "cell_type": "code",
   "execution_count": null,
   "metadata": {},
   "outputs": [],
   "source": [
    "print(np.min(Input[800]))\n",
    "print(np.min(Output[800]))\n",
    "print(np.max(Input[800]))\n",
    "print(np.max(Output[800]))"
   ]
  },
  {
   "cell_type": "code",
   "execution_count": null,
   "metadata": {},
   "outputs": [],
   "source": [
    "print(np.min(ip[800]))\n",
    "print(np.max(ip[800]))"
   ]
  },
  {
   "cell_type": "code",
   "execution_count": null,
   "metadata": {},
   "outputs": [],
   "source": [
    "import numpy as np\n",
    "import pyJHTDB"
   ]
  },
  {
   "cell_type": "code",
   "execution_count": null,
   "metadata": {},
   "outputs": [],
   "source": [
    "# 2048×512×1536\n",
    "t = np.linspace(0, 8*np.pi, 512)\n",
    "l = np.linspace(-1, 1, 128)\n",
    "x = np.zeros((t.shape[0], l.shape[0], 3), np.float32)\n",
    "# print(t[np.newaxis, :].shape)\n",
    "x[:, :, 0] = t[:, np.newaxis]\n",
    "x[:, :, 1] = l[np.newaxis,:]\n",
    "x[:, :, 2] = 0.\n",
    "print(x.shape)\n",
    "# x = x.transpose(0,2,1)\n",
    "# print(x)"
   ]
  },
  {
   "cell_type": "code",
   "execution_count": null,
   "metadata": {},
   "outputs": [],
   "source": [
    "t1 = np.linspace(0, 2*3.14, 256)\n",
    "t2 = np.linspace(-0.5, 0.5, 256)\n",
    "x = np.zeros((t1.shape[0], t2.shape[0], 3), np.float32)\n",
    "x[:, :, 0] = t1[np.newaxis, :]\n",
    "x[:, :, 1] = t2[:, np.newaxis]\n",
    "x[:, :, 2] = .0\n",
    "print(x.shape)"
   ]
  },
  {
   "cell_type": "code",
   "execution_count": null,
   "metadata": {},
   "outputs": [],
   "source": [
    "xy = np.mgrid[0:2048:8*np.pi, 0:1534:3*np.pi]#.reshape(2048,-1).T\n",
    "print(xy.shape)\n",
    "# print(xy)"
   ]
  },
  {
   "cell_type": "code",
   "execution_count": null,
   "metadata": {},
   "outputs": [],
   "source": [
    "lJHTDB = pyJHTDB.libJHTDB()\n",
    "lJHTDB.initialize()\n",
    "\n",
    "#Add token\n",
    "auth_token  = \"edu.cmu.andrew.ppant-68a123d6\"  #Replace with your own token here\n",
    "lJHTDB.add_token(auth_token)\n",
    "\n",
    "import pyJHTDB.dbinfo\n",
    "T = pyJHTDB.dbinfo.channel5200['time'][-1]\n",
    "# T =10.0\n",
    "\n",
    "# Select points in the database to query\n",
    "# lpoints = []\n",
    "# for i in range(0,3):\n",
    "#     lpoints.append([np.random.uniform(0, 8*3.14),np.random.uniform(-1, 1),np.random.uniform(0, 3*3.14)])\n",
    "\n",
    "# # 2D array with single precision values\n",
    "# points = np.array(lpoints,dtype='float32')\n",
    "\n",
    "# time = np.random.random()*T\n",
    "time = 24.0\n",
    "# u = lJHTDB.getData(\n",
    "#                time,\n",
    "#                x,\n",
    "#                sinterp = 4,\n",
    "#                data_set ='channel5200',\n",
    "#                getFunction='getVelocity')\n",
    "# ubox = lJHTDB.getBoxFilter(\n",
    "#                time,\n",
    "#                x,\n",
    "#                field = 'velocity',\n",
    "#                data_set = 'channel',\n",
    "#                filter_width = 5*(2*np.pi / 1024))\n",
    "# lJHTDB.finalize()\n",
    "result = lJHTDB.getData(time, x, data_set='channel',\n",
    "        sinterp = 4, tinterp = 0,\n",
    "        getFunction = 'getVelocity')\n",
    "print(result.shape)\n",
    "# print(result)\n",
    "# print(u.shape)\n",
    "print(time)"
   ]
  },
  {
   "cell_type": "code",
   "execution_count": null,
   "metadata": {},
   "outputs": [],
   "source": [
    "import matplotlib.pyplot as plt\n",
    "plt.imshow(result[:,:,0])\n",
    "plt.imsave('try.png', result[:,:,0])"
   ]
  },
  {
   "cell_type": "code",
   "execution_count": null,
   "metadata": {},
   "outputs": [],
   "source": [
    "# print(u.shape)\n",
    "fig = plt.figure(figsize = (t1[-1] - t1[0], t2[-1] - t2[0]))\n",
    "a = fig.add_subplot(121)\n",
    "a.set_axis_off()\n",
    "a.imshow([:,:,0],\n",
    "         extent = [t1[0], t1[-1] - t1[0], t2[0], t2[-1] - t2[0]],\n",
    "         interpolation = 'none')"
   ]
  },
  {
   "cell_type": "code",
   "execution_count": null,
   "metadata": {},
   "outputs": [],
   "source": [
    "import shutil\n",
    "T = np.arange(0., 25.0, 0.01)\n",
    "X = np.linspace(0, 8*np.pi, 4)\n",
    "Y = np.linspace(-1, 1, 4)\n",
    "Z = np.arange(0, 3*np.pi, 0.1)x[:, :, 0] = t1[np.newaxis, :]\n",
    "x[:, :, 1] = t2[:, np.newaxis]\n",
    "x[:, :, 2] = .0\n",
    "\n",
    "x = np.zeros((p.shape[0], p.shape[0], 3), np.float32)\n",
    "les = []\n",
    "dns = []\n",
    "count = 0\n",
    "# if os.path.exists('DNS-LES/les'):\n",
    "#     shutil.rmtree('DNS-LES/les')\n",
    "# if os.path.exists('DNS-LES/dns'):\n",
    "#     shutil.rmtree('DNS-LES/dns')\n",
    "if not os.path.exists('DNS-LES/les'):\n",
    "    os.mkdir('DNS-LES/les')\n",
    "\n",
    "if not os.path.exists('DNS-LES/dns'):\n",
    "    os.mkdir('DNS-LES/dns')"
   ]
  },
  {
   "cell_type": "code",
   "execution_count": null,
   "metadata": {},
   "outputs": [],
   "source": [
    "\n",
    "def create_turb_dataset(t):\n",
    "    count = 0\n",
    "    Nx = 512\n",
    "    Ny = 128\n",
    "    #for t in T:\n",
    "    start_time = time.time()\n",
    "    print(\"Time:\",t)\n",
    "    for idx in range(len(X)-1):\n",
    "        px = np.linspace(X[idx], X[idx+1], Nx)\n",
    "        for idy in range(len(Y)-1):\n",
    "            py = np.linspace(Y[idy], Y[idy+1], Ny)\n",
    "            for z in Z:\n",
    "            \n",
    "                x[:, :, 0] = px[np.newaxis, :]\n",
    "                x[:, :, 1] = py[:, np.newaxis]\n",
    "                x[:, :, 2] = z\n",
    "\n",
    "                u, u_box= u_data(t, x)\n",
    "                #les.append(u_box)\n",
    "                #dns.append(u)\n",
    "                if not os.path.exists('DNS-LES/les/%.2f'%t):\n",
    "                    os.mkdir('DNS-LES/les/%.2f'%t)\n",
    "                if not os.path.exists('DNS-LES/dns/%.2f'%t):\n",
    "                    os.mkdir('DNS-LES/dns/%.2f'%t)\n",
    "\n",
    "                for itx in range(3):\n",
    "                    norm1 = cv2.normalize(u[:,:,itx], 0, 255, norm_type=cv2.NORM_MINMAX, dtype=cv2.CV_32F)\n",
    "                    norm2 = cv2.normalize(u_box[:,:,itx], 0, 255,norm_type=cv2.NORM_MINMAX, dtype=cv2.CV_32F)\n",
    "                    if count%100 == 0:\n",
    "                        print(count)\n",
    "\n",
    "                    cv2.imwrite(\"DNS-LES/dns/%.2f/%d.png\"%(t,count), norm1)\n",
    "                    cv2.imwrite(\"DNS-LES/les/%.2f/%d.png\"%(t,count), norm2)\n",
    "                    count+=1\n",
    "                    end_time = time.time()\n",
    "    print(\"Time: {:.2f} s\".format(end_time-start_time))"
   ]
  },
  {
   "cell_type": "code",
   "execution_count": null,
   "metadata": {},
   "outputs": [],
   "source": [
    "# 2048×512×1536\n",
    "px = np.linspace(0, 8*np.pi, 512)\n",
    "py = np.linspace(-1, 1, 128)\n",
    "x = np.zeros((px.shape[0], py.shape[0], 3), np.float32)\n",
    "# print(t[np.newaxis, :].shape)\n",
    "x[:, :, 0] = px[:, np.newaxis]\n",
    "x[:, :, 1] = py[np.newaxis,:]\n",
    "x[:, :, 2] = 0.\n",
    "\n",
    "T = np.linspace(0., 25.9, 1000)\n",
    "dataset = np.zeros((len(T), 512, 128))\n",
    "\n",
    "for idx, time in enumerate(T):\n",
    "    print(idx)\n",
    "    dataset[idx] = lJHTDB.getData(time, x, data_set='channel',\n",
    "        sinterp = 4, tinterp = 0,\n",
    "        getFunction = 'getVelocity')[:,:,0]\n",
    "print(dataset.shape)\n",
    "np.save('../data/channel_data.npy', dataset)"
   ]
  },
  {
   "cell_type": "code",
   "execution_count": null,
   "metadata": {},
   "outputs": [],
   "source": [
    "A = np.zeros(5)\n",
    "print(A)"
   ]
  },
  {
   "cell_type": "code",
   "execution_count": null,
   "metadata": {},
   "outputs": [],
   "source": [
    "import numpy as np\n",
    "import matplotlib.pyplot as plt "
   ]
  },
  {
   "cell_type": "code",
   "execution_count": null,
   "metadata": {},
   "outputs": [],
   "source": [
    "dataset = np.load('../data/channel_data_2500.npy')\n",
    "print(dataset.shape)\n",
    "plt.imshow(dataset[-1])\n",
    "plt.show()"
   ]
  },
  {
   "cell_type": "code",
   "execution_count": null,
   "metadata": {},
   "outputs": [],
   "source": [
    "import numpy as np\n",
    "import matplotlib.pyplot as plt \n",
    "\n",
    "u_comp = np.load('../data/Velocity160.npz', allow_pickle=True)\n",
    "u_flat = u_comp['arr_0']\n",
    "print(u_flat.shape)\n",
    "u = u_flat.reshape(u_flat.shape[0], 320, 80)\n",
    "u = np.transpose(u, (0, 2, 1))\n",
    "u_new = np.zeros((u.shape[0], 80, 640))\n",
    "u_new[..., :320] = u\n",
    "u = u_new.astype(np.float32)\n",
    "plt.matshow(u[2000])"
   ]
  },
  {
   "cell_type": "code",
   "execution_count": null,
   "metadata": {},
   "outputs": [],
   "source": [
    "for it in u:\n",
    "    print(it)"
   ]
  },
  {
   "cell_type": "code",
   "execution_count": null,
   "metadata": {},
   "outputs": [],
   "source": [
    "u['arr_0'].shape"
   ]
  },
  {
   "cell_type": "code",
   "execution_count": null,
   "metadata": {},
   "outputs": [],
   "source": [
    "u = np.load('../data/Velocity160.npz', allow_pickle=True)\n",
    "u = u_comp['arr_0']\n",
    "# u = u_flat.reshape(u_flat.shape[0], 320, 80)\n",
    "# u = np.transpose(u, (0, 2, 1))\n",
    "print(u.shape)\n",
    "plt.matshow(u[200])\n"
   ]
  },
  {
   "cell_type": "code",
   "execution_count": null,
   "metadata": {},
   "outputs": [],
   "source": [
    "dataset = np.load('../data/channel_data_2500.npy')\n",
    "print(dataset.shape)"
   ]
  },
  {
   "cell_type": "code",
   "execution_count": null,
   "metadata": {},
   "outputs": [],
   "source": [
    "import numpy as np\n",
    "import matplotlib.pyplot as plt \n",
    "u_flat = np.load('../data/airfoil_80x320_data.npy', allow_pickle=True)\n",
    "# u_flat = u_comp['arr_0']\n",
    "u = u_flat.reshape(u_flat.shape[0], 320, 80)\n",
    "u = np.transpose(u, (0, 2, 1))[:,:,140:-20]\n",
    "# u_new = np.zeros((u.shape[0], 80, 640))\n",
    "# u_new[..., :320] = u\n",
    "# u = u_new.astype(np.float32)\n",
    "print(u.shape)\n",
    "print(np.max(u_flat), np.min(u_flat))\n",
    "plt.matshow(u[400])"
   ]
  },
  {
   "cell_type": "code",
   "execution_count": null,
   "metadata": {},
   "outputs": [],
   "source": [
    "import numpy as np\n",
    "import matplotlib.pyplot as plt \n",
    "u_flat = np.load('../data/platekepsilon.npy', allow_pickle=True)\n",
    "print(u_flat.shape)\n",
    "# u_flat = u_comp['arr_0']\n",
    "u = u_flat.reshape(u_flat.shape[0], 360, 180)\n",
    "u = np.transpose(u, (0, 2, 1))[:,:-20,:-40]\n",
    "# u_new = np.zeros((u.shape[0], 80, 640))\n",
    "# u_new[..., :320] = u\n",
    "# u = u_new.astype(np.float32)\n",
    "print(u.shape)\n",
    "print(np.max(u_flat), np.min(u_flat))\n",
    "plt.matshow(u[400])"
   ]
  },
  {
   "cell_type": "code",
   "execution_count": null,
   "metadata": {},
   "outputs": [],
   "source": [
    "import numpy as np\n",
    "import matplotlib.pyplot as plt\n",
    "labels = ['2D_cylinder', '2D_sq_cyl', '2D_plate']\n",
    "\n",
    "dl_rom = [0.0152, 0.0150, 0.0151]\n",
    "cfd = [0.12, 0.112, 0.128]\n",
    "\n",
    "# dl_rom = [0.926, 0.851, 0.772]\n",
    "# cfd = [0.912, 0.828, 0.737]\n",
    "\n",
    "\n",
    "x = np.arange(len(labels))  # the label locations\n",
    "width = 0.3  # the width of the bars\n",
    "\n",
    "fig, ax = plt.subplots()\n",
    "rects1 = ax.bar(x - width/2, cfd, width, label='CFD', color='gold')\n",
    "rects2 = ax.bar(x + width/2, dl_rom, width, label='DL-ROM', color='darkorange')\n",
    "\n",
    "# rects1 = ax.bar(x - width/2, cfd, width, label='LR_Input', color='royalblue')\n",
    "# rects2 = ax.bar(x + width/2, dl_rom, width, label='dl_rom', color='yellowgreen')\n",
    "\n",
    "# Add some text for labels, title and custom x-axis tick labels, etc.\n",
    "ax.set_ylabel('Iteration Time (s)')\n",
    "ax.set_ylim(0,0.2)\n",
    "# ax.set_ylabel('SSIM')\n",
    "# ax.set_xlabel('Dataset')\n",
    "\n",
    "ax.tick_params(axis = 'both', which = 'major', labelsize = 14)\n",
    "ax.yaxis.label.set_size(13)\n",
    "\n",
    "# ax.set_title('Scores by group and gender')\n",
    "ax.set_xticks(x)\n",
    "ax.set_xticklabels(labels)\n",
    "ax.legend()\n",
    "\n",
    "\n",
    "def autolabel(rects):\n",
    "    \"\"\"Attach a text label above each bar in *rects*, displaying its height.\"\"\"\n",
    "    for rect in rects:\n",
    "        height = rect.get_height()\n",
    "        ax.annotate('{}'.format(height),\n",
    "                    xy=(rect.get_x() + rect.get_width() / 2, height),\n",
    "                    xytext=(0, 3),  # 3 points vertical offset\n",
    "                    textcoords=\"offset points\",\n",
    "                    ha='center', va='bottom')\n",
    "\n",
    "\n",
    "autolabel(rects1)\n",
    "autolabel(rects2)\n",
    "\n",
    "# fig.tight_layout()\n",
    "# plt.savefig(f'barplot_PSNR.eps', dpi=600)\n",
    "# plt.savefig(f'barplot_SSIM.eps', dpi=600)\n",
    "plt.savefig(f'barplot_time.eps', dpi=600)\n",
    "\n",
    "plt.show()"
   ]
  },
  {
   "cell_type": "code",
   "execution_count": null,
   "metadata": {},
   "outputs": [],
   "source": [
    "datasets = ['2d_cylinder_CFD', '2d_sq_cyl']#,['2d_plate', 'channel_flow', 'SST']\n",
    "# datasets = ['2d_plate', 'channel_flow', 'SST']\n",
    "# x = np.arange(4)\n",
    "A = np.zeros((5, 20))\n",
    "\n",
    "fig, ax = plt.subplots()\n",
    "ax.tick_params(axis = 'both', which = 'major', labelsize = 16)\n",
    "ax.yaxis.label.set_size(16)\n",
    "ax.xaxis.label.set_size(16)\n",
    "ax.set_ylabel('Negative Log MSE')\n",
    "ax.set_xlabel('Iterations')\n",
    "ax.set_xlim(-.25,20)\n",
    "ax.set_ylim(4.5,10.5)\n",
    "# plt.xticks(x, labels, rotation ='vertical')\n",
    "\n",
    "for it, dname in enumerate(datasets):\n",
    "    mse = np.load(f'../simulate/{dname}/mse.npy')[:20]\n",
    "    A[it] = mse\n",
    "    plt.plot(-np.log(mse), \"o-\",label = dname)\n",
    "    plt.legend(loc='best')\n",
    "\n",
    "fig.tight_layout()\n",
    "plt.savefig(f'MSE_vs_iteration_1.eps', dpi=600)\n",
    "plt.show()"
   ]
  },
  {
   "cell_type": "code",
   "execution_count": null,
   "metadata": {},
   "outputs": [],
   "source": [
    "import os\n",
    "os.getcwd()"
   ]
  },
  {
   "cell_type": "code",
   "execution_count": null,
   "metadata": {},
   "outputs": [],
   "source": [
    "reduced order modelling for temporal fluid flow prediction using deep learning\n",
    "Deep learning based reduced order modelling for temporal fluid flow prediction "
   ]
  },
  {
   "cell_type": "code",
   "execution_count": null,
   "metadata": {},
   "outputs": [],
   "source": [
    "def load_transfer_learning(pretrained, model, PATH):\n",
    "\n",
    "    checkpoint = torch.load(PATH)\n",
    "    model.load_state_dict(checkpoint, strict=False)\n",
    "\n",
    "    layers = []\n",
    "\n",
    "    for param in pretrained.named_parameters():\n",
    "        print(param[0])\n",
    "        layers.append(param[0])\n",
    "\n",
    "    for param in model.named_parameters():\n",
    "        if param[0] in layers:\n",
    "            param[1].requires_grad = False\n",
    "\n",
    "    # for param in model.named_parameters():\n",
    "    #     print(param[0], param[1].requires_grad)\n",
    "\n",
    "    return model"
   ]
  },
  {
   "cell_type": "code",
   "execution_count": 150,
   "metadata": {},
   "outputs": [],
   "source": [
    "def load_transfer_learning_UNet_3D(pretrained, model, PATH, req_grad=True):\n",
    "\n",
    "    checkpoint = torch.load(PATH)\n",
    "    model.load_state_dict(checkpoint, strict=False)\n",
    "\n",
    "    layers = {}\n",
    "    # print(model.named_parameters())\n",
    "\n",
    "    for param in pretrained.named_parameters():\n",
    "        if param[0][:2] != \"d1\" and param[0][:2] != \"u5\":\n",
    "            # print(param[0])\n",
    "            # print(type(param[1]))\n",
    "            layers[param[0]] = param[1].data\n",
    "\n",
    "    for param in model.named_parameters():\n",
    "        if param[0] in layers.keys():\n",
    "            if param[0][:2] != \"d1\" and param[0][:2] != \"u5\":\n",
    "                param[1].data = layers[param[0]]\n",
    "                param[1].requires_grad = req_grad\n",
    "\n",
    "    for param in model.named_parameters():\n",
    "        print(param[0], param[1].requires_grad)\n",
    "\n",
    "    return model"
   ]
  },
  {
   "cell_type": "code",
   "execution_count": 151,
   "metadata": {
    "tags": []
   },
   "outputs": [
    {
     "output_type": "stream",
     "name": "stdout",
     "text": [
      "d1.net.0.weight True\nd1.net.0.bias True\nd1.net.1.weight True\nd1.net.1.bias True\nd1.net.2.weight True\nd1.net.2.bias True\nd2.net.0.weight False\nd2.net.0.bias False\nd2.net.1.weight False\nd2.net.1.bias False\nd2.net.2.weight False\nd2.net.2.bias False\nd3.net.0.weight False\nd3.net.0.bias False\nd3.net.1.weight False\nd3.net.1.bias False\nd3.net.2.weight False\nd3.net.2.bias False\nd4.net.0.weight False\nd4.net.0.bias False\nd4.net.1.weight False\nd4.net.1.bias False\nd4.net.2.weight False\nd4.net.2.bias False\nd5.net.0.weight False\nd5.net.0.bias False\nd5.net.1.weight False\nd5.net.1.bias False\nd5.net.2.weight False\nd5.net.2.bias False\ndown.weight False\ndown.bias False\nup.weight False\nup.bias False\nu1.net.0.weight False\nu1.net.0.bias False\nu1.net.1.weight False\nu1.net.1.bias False\nu1.net.2.weight False\nu1.net.2.bias False\nu2.net.0.weight False\nu2.net.0.bias False\nu2.net.1.weight False\nu2.net.1.bias False\nu2.net.2.weight False\nu2.net.2.bias False\nu3.net.0.weight False\nu3.net.0.bias False\nu3.net.1.weight False\nu3.net.1.bias False\nu3.net.2.weight False\nu3.net.2.bias False\nu4.net.0.weight False\nu4.net.0.bias False\nu4.net.1.weight False\nu4.net.1.bias False\nu4.net.2.weight False\nu4.net.2.bias False\nu5.net.0.weight True\nu5.net.0.bias True\nu5.net.1.weight True\nu5.net.1.bias True\nu5.net.2.weight True\nu5.net.2.bias True\n"
     ]
    }
   ],
   "source": [
    "import numpy as np\n",
    "import torch \n",
    "import  matplotlib.pyplot as plt\n",
    "\n",
    "# from utils import load_transfer_learning\n",
    "from model import UNet_3D\n",
    "pre_dataset_name = \"2d_cylinder_CFD\"\n",
    "final_dataset_name = \"2d_sq_cyl\"\n",
    "final_model = UNet_3D(name=final_dataset_name)\n",
    "pretrained = UNet_3D(name=pre_dataset_name)\n",
    "dataset = \"2d_cylinder_CFD\"\n",
    "PATH = f\"../results/{dataset}/weights/100.pth\"\n",
    "model = load_transfer_learning_UNet_3D(pretrained, final_model, PATH, False)"
   ]
  },
  {
   "source": [
    "def plot_training_from_dict(dataset_name = '2d_sq_cyl'):\n",
    "    \n",
    "    V = np.load(f'../results/{dataset_name}/weights/val_loss_dict_og.npy', allow_pickle=True).item()\n",
    "    T = np.load(f'../results/{dataset_name}/weights/train_loss_dict_og.npy', allow_pickle=True).item()\n",
    "    V_tl = np.load(f'../results/{dataset_name}/weights/val_loss_dict.npy', allow_pickle=True).item()\n",
    "    T_tl = np.load(f'../results/{dataset_name}/weights/train_loss_dict.npy', allow_pickle=True).item()\n",
    "    # T = np.array(T)\n",
    "    # V = np.array(V)\n",
    "    print(type(T))\n",
    "    print(list(T.values()))\n",
    "    fig, ax = plt.subplots()\n",
    "    plt.xlabel('Epoch')\n",
    "    plt.ylabel('Loss')\n",
    "    ax.yaxis.label.set_size(16)\n",
    "    ax.xaxis.label.set_size(16)\n",
    "    # ax.set_ylim([0.04, 0.16])\n",
    "    plt.plot(list(V.keys()), list(V.values()), 'g-')\n",
    "    plt.plot(list(T.keys()), list(T.values()), 'k-')    \n",
    "    plt.plot(list(V_tl.keys()), list(V_tl.values()), 'b-')\n",
    "    plt.plot(list(T_tl.keys()), list(T_tl.values()), 'r-')\n",
    "    \n",
    "    plt.legend(loc='best', labels=['Validation Loss', 'Training Loss', 'Validation Loss_TL', 'Training Loss_TL' ])\n",
    "    # plt.show()\n",
    "    \n",
    "    plt.savefig(f'../results/{dataset_name}/training_plot_tl.eps', dpi=600)\n",
    "    plt.close()\n"
   ],
   "cell_type": "code",
   "metadata": {},
   "execution_count": 144,
   "outputs": []
  },
  {
   "cell_type": "code",
   "execution_count": 153,
   "metadata": {},
   "outputs": [
    {
     "output_type": "stream",
     "name": "stderr",
     "text": [
      "The PostScript backend does not support transparency; partially transparent artists will be rendered opaque.\n",
      "The PostScript backend does not support transparency; partially transparent artists will be rendered opaque.\n",
      "<class 'dict'>\n",
      "[0.2350388223474676, 0.11134720864621075, 0.05670782119374384, 0.04883685174652121, 0.0388726657256484, 0.033111381429162895, 0.029192699331112883, 0.026335993019694633, 0.025083997202190487, 0.023153336295350033, 0.02333677297627384, 0.022730968553911556, 0.02199592555619099, 0.0234547739171169, 0.021196803205053915, 0.019726561509411444, 0.020850109444423157, 0.01957414129918272, 0.01925588585436344, 0.018265534022992306, 0.01849991176277399, 0.01819279497827996, 0.016857895470986314, 0.016939382280477068, 0.01594932620752264, 0.016050165307454088, 0.016080284385349263, 0.01580294437537139, 0.016186246944760733, 0.015447474740953608, 0.015381484990939498, 0.015116614670577374, 0.014960972507568922, 0.014640429205345836, 0.014414312233301725, 0.01385004122064195, 0.014421808829700405, 0.013642842902547934, 0.013766106916591525, 0.013663622868162665, 0.013317931104790081, 0.013896330069242553, 0.013557129581882195, 0.013295090799643234, 0.013441967227580872, 0.012527384858747775, 0.01361876393837685, 0.013398268365893851, 0.013047617161646485, 0.011240370444614779, 0.01105855750343339, 0.010783242971890351, 0.010547666027295318, 0.011301418131386692, 0.010347577954896471, 0.010661799841645088, 0.010264058385721662, 0.01028881283392283, 0.010279726067727262, 0.010582021543417464, 0.010008563689718192, 0.009691380408846519, 0.009817157808521932, 0.00953872135671025, 0.009605396941134875, 0.009510666576468131, 0.009878613202917304, 0.009745545261962847, 0.009829855439337816, 0.009332916911014101, 0.009045169074934993, 0.009211030682887544, 0.00904971388676627, 0.009208161680197174, 0.009190253172577783, 0.008962879169055006, 0.008989498484879732, 0.008909992323341694, 0.009032582652501085, 0.009242784168401902, 0.009075150528753346, 0.008783711162819103, 0.008764031978154724, 0.008813961049203168, 0.008749233960936015, 0.008721473055299033, 0.008695571408183738, 0.008796693101017312, 0.008765769593248313, 0.008806353075091134, 0.008738985306329349, 0.008648498110811819, 0.008650631008839066, 0.00858637893741781, 0.008603969123214483, 0.00863288664682345, 0.008594609860500152, 0.008630124682729895, 0.008602896832268347, 0.008592884098602966, 0.00853669440204447]\n"
     ]
    }
   ],
   "source": [
    "plot_training_from_dict(dataset_name = 'SST')"
   ]
  },
  {
   "cell_type": "code",
   "execution_count": 161,
   "metadata": {},
   "outputs": [
    {
     "output_type": "stream",
     "name": "stdout",
     "text": [
      "0.0005657024326352163\n0.0024539357516914608\n\n0.0013545735062644728\n0.003975335707149978\n\n0.009478562542547782\n0.04539828465726131\n\n0.0172642937852341\n0.0360599126485945\n\n"
     ]
    }
   ],
   "source": [
    "dataset_names = ['2d_sq_cyl','2d_plate','SST', 'channel_flow']\n",
    "for dataset_name in dataset_names:\n",
    "    V = np.load(f'../results/{dataset_name}/weights/val_loss_dict_og.npy', allow_pickle=True).item()\n",
    "    V_tl = np.load(f'../results/{dataset_name}/weights/val_loss_dict.npy', allow_pickle=True).item()\n",
    "\n",
    "    print(list(V.values())[-1])\n",
    "    print(list(V_tl.values())[-1])\n",
    "    print()\n"
   ]
  },
  {
   "cell_type": "code",
   "execution_count": null,
   "metadata": {},
   "outputs": [],
   "source": []
  }
 ],
 "metadata": {
  "kernelspec": {
   "display_name": "Python 3.7.6 64-bit ('pytorch_env': conda)",
   "language": "python",
   "name": "python37664bitpytorchenvcondac65bc6c7ab474553ae2b82822152b36f"
  },
  "language_info": {
   "codemirror_mode": {
    "name": "ipython",
    "version": 3
   },
   "file_extension": ".py",
   "mimetype": "text/x-python",
   "name": "python",
   "nbconvert_exporter": "python",
   "pygments_lexer": "ipython3",
   "version": "3.7.6"
  }
 },
 "nbformat": 4,
 "nbformat_minor": 2
}