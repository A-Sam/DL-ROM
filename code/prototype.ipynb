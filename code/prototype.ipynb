{
 "cells": [
  {
   "cell_type": "code",
   "execution_count": null,
   "metadata": {},
   "outputs": [],
   "source": [
    "from netCDF4 import Dataset\n",
    "import numpy as np\n",
    "import matplotlib.pyplot as plt \n",
    "from matplotlib.animation import ArtistAnimation, FFMpegWriter\n",
    "\n",
    "path_bousinessq = \"./boussinesq.nc\"\n",
    "path_2dcylinder = \"./cylinder2d.nc\""
   ]
  },
  {
   "cell_type": "code",
   "execution_count": null,
   "metadata": {},
   "outputs": [],
   "source": [
    "def loadDataset(path):\n",
    "    return Dataset(path)"
   ]
  },
  {
   "cell_type": "code",
   "execution_count": null,
   "metadata": {
    "tags": []
   },
   "outputs": [],
   "source": [
    "cylinder2D = loadDataset(path_2dcylinder)\n",
    "boussinesq = loadDataset(path_bousinessq)\n",
    "print(cylinder2D)\n",
    "print(boussinesq)"
   ]
  },
  {
   "cell_type": "markdown",
   "metadata": {},
   "source": [
    "## Info about the datasets\n",
    "\n",
    "### Cylinder 2D\n",
    "\n",
    "    dimensions(sizes): xdim(640), ydim(80), tdim(1501), const(1)\n",
    "\n",
    "    variables(dimensions): float32 u(tdim,ydim,xdim), float32 v(tdim,ydim,xdim), float32 xdim(xdim), float32 ydim(ydim), float32 tdim(tdim), float32 nu(const),                             float32 radius(const), float32 Re(const)\n",
    "\n",
    "### Bousinessq\n",
    "\n",
    "\n",
    "    dimensions(sizes): xdim(150), ydim(450), tdim(2001), const(1)\n",
    "\n",
    "    variables(dimensions): float32 u(tdim,ydim,xdim), float32 v(tdim,ydim,xdim), float32 xdim(xdim), float32 ydim(ydim), float32 tdim(tdim),\n",
    "                           float32 radius(const), float32 obstacle_pos_x(const), float32 obstacle_pos_y(const)\n",
    "\n",
    "### Accessing variables\n",
    "\n",
    "    cylinder2D['variable_name']\n"
   ]
  },
  {
   "cell_type": "code",
   "execution_count": null,
   "metadata": {
    "tags": []
   },
   "outputs": [],
   "source": [
    "type(cylinder2D['xdim'])\n",
    "print(cylinder2D['u'].shape)\n",
    "print(cylinder2D['tdim'].shape)"
   ]
  },
  {
   "cell_type": "code",
   "execution_count": null,
   "metadata": {
    "tags": []
   },
   "outputs": [],
   "source": [
    "data = cylinder2D\n",
    "\n",
    "def velFromUV(data):\n",
    "    \n",
    "    u = data['u'][1000,:,:]\n",
    "    v = data['v'][1000,:,:]\n",
    "\n",
    "    vel = np.sqrt(u**2 + v**2)"
   ]
  },
  {
   "cell_type": "code",
   "execution_count": null,
   "metadata": {
    "tags": []
   },
   "outputs": [],
   "source": [
    "u = np.array(cylinder2D['u'])\n",
    "\n",
    "fig, ax = plt.subplots()\n",
    "ims = [[ax.imshow(u[i], animated=True)] for i in range(1, len(u))]\n",
    "\n",
    "ani = ArtistAnimation(fig, ims, interval=1000 , blit=True, repeat_delay=1000)\n",
    "\n",
    "# plt.show()\n",
    "\n",
    "# writer = FFMpegWriter(fps=15, metadata=dict(artist='Me'), bitrate=1800)\n",
    "# ani.save(\"movie.mp4\", writer=writer)"
   ]
  },
  {
   "cell_type": "code",
   "execution_count": null,
   "metadata": {},
   "outputs": [],
   "source": [
    "plt.matshow(data['v'][1000,:,:])\n",
    "plt.axis('off')\n",
    "plt.show()"
   ]
  },
  {
   "cell_type": "markdown",
   "metadata": {},
   "source": [
    "```\n",
    "% Create snapshot matrix\n",
    "Nt = length(S(1,1,:));\n",
    "S = reshape(permute(S, [3 2 1]), Nt, [ ]); % Reshape data into a matrix S with Nt rows\n",
    "U = S - repmat(mean(S,1), Nt, 1); % Subtract the temporal mean from each row\n",
    "\n",
    "% Create correlation matrix\n",
    "C_s = (U*U')/(Nt-1);\n",
    "\n",
    "% Solve eigenvalue problem\n",
    "[A_s LAM_s] = eig(C_s,'vector');\n",
    "\n",
    "% Sort eigenvalues and eigenvectors\n",
    "[lambda_s,ilam_s] = sort(LAM_s,'descend');\n",
    "A_s = A_s(:, ilam_s);\n",
    "\n",
    "% These are the temporal modes\n",
    "% Calculate spatial coefficients\n",
    "PHI_s = U'*A_s;\n",
    "\n",
    "% Reconstruction on mode k\n",
    "k = 1; % for example\n",
    "Utilde_k_s = A_s(:,k)*PHI_s(:,k)';\n",
    "\n",
    "% Normalization to match direct and snapshot modes (optional)\n",
    "PHI = normc(PHI_s);\n",
    "\n",
    "% Spatial modes\n",
    "A = U*PHI;\n",
    "\n",
    "% Time coefficients\n",
    "Utilde_k = A(:,k)*PHI(:,k)';\n",
    "% Reconstruction on mode k\n",
    "```"
   ]
  },
  {
   "cell_type": "code",
   "execution_count": null,
   "metadata": {
    "tags": []
   },
   "outputs": [],
   "source": [
    "S = np.transpose(u, (1,2,0))\n",
    "print(S.shape)\n",
    "Nt = u.shape[0]\n",
    "print(Nt)\n",
    "U = "
   ]
  },
  {
   "cell_type": "code",
   "execution_count": null,
   "metadata": {},
   "outputs": [],
   "source": [
    "from zipfile import ZipFile\n",
    "\n",
    "url = \"https://cgl.ethz.ch/Downloads/Data/ScientificData/cylinder2d_nc.zip\"\n",
    "file_name = \"../data2/\" + url.split('/')[-1]\n",
    "with ZipFile(file_name, 'r') as zipObj:\n",
    "   zipObj.extractall('temp')"
   ]
  },
  {
   "cell_type": "markdown",
   "metadata": {},
   "source": [
    "# Visualization"
   ]
  },
  {
   "cell_type": "code",
   "execution_count": null,
   "metadata": {},
   "outputs": [],
   "source": [
    "import numpy as np\n",
    "import matplotlib.pyplot as plt\n",
    "import matplotlib"
   ]
  },
  {
   "cell_type": "code",
   "execution_count": null,
   "metadata": {},
   "outputs": [],
   "source": [
    "Input=np.load('../data/cylinder_u.npy')"
   ]
  },
  {
   "cell_type": "code",
   "execution_count": null,
   "metadata": {},
   "outputs": [],
   "source": [
    "Output=np.load('../output/16_400.npy')\n",
    "# ip=np.load('../input/200.npy')"
   ]
  },
  {
   "cell_type": "code",
   "execution_count": null,
   "metadata": {},
   "outputs": [],
   "source": [
    "plt.imshow(Output[0,-1])"
   ]
  },
  {
   "cell_type": "code",
   "execution_count": null,
   "metadata": {},
   "outputs": [],
   "source": [
    "plt.imshow(Input[1475])\n",
    "# plt.imshow(ip[510])"
   ]
  },
  {
   "cell_type": "code",
   "execution_count": null,
   "metadata": {},
   "outputs": [],
   "source": [
    "# plt.imshow(Input[500])\n",
    "plt.imshow(Input[950])"
   ]
  },
  {
   "cell_type": "code",
   "execution_count": null,
   "metadata": {},
   "outputs": [],
   "source": [
    "fig=plt.figure(1)\n",
    "plt.subplot(2, 1, 1)\n",
    "plt.imshow(Output[800])\n",
    "plt.subplot(2,1,2)\n",
    "plt.imshow(Input[800])\n",
    "plt.savefig('comp')"
   ]
  },
  {
   "cell_type": "code",
   "execution_count": null,
   "metadata": {},
   "outputs": [],
   "source": [
    "plt.imshow(Output[800]-ip[800])\n",
    "plt.colorbar(orientation='horizontal')"
   ]
  },
  {
   "cell_type": "code",
   "execution_count": null,
   "metadata": {},
   "outputs": [],
   "source": [
    "np.max(Output[200][:,100]-Input[200][:,100])"
   ]
  },
  {
   "cell_type": "code",
   "execution_count": null,
   "metadata": {},
   "outputs": [],
   "source": [
    "print(np.min(Input[800]))\n",
    "print(np.min(Output[800]))\n",
    "print(np.max(Input[800]))\n",
    "print(np.max(Output[800]))"
   ]
  },
  {
   "cell_type": "code",
   "execution_count": null,
   "metadata": {},
   "outputs": [],
   "source": [
    "print(np.min(ip[800]))\n",
    "print(np.max(ip[800]))"
   ]
  },
  {
   "cell_type": "code",
   "execution_count": null,
   "metadata": {},
   "outputs": [],
   "source": [
    "import numpy as np\n",
    "import pyJHTDB"
   ]
  },
  {
   "cell_type": "code",
   "execution_count": null,
   "metadata": {},
   "outputs": [],
   "source": [
    "# 2048×512×1536\n",
    "t = np.linspace(0, 8*np.pi, 512)\n",
    "l = np.linspace(-1, 1, 128)\n",
    "x = np.zeros((t.shape[0], l.shape[0], 3), np.float32)\n",
    "# print(t[np.newaxis, :].shape)\n",
    "x[:, :, 0] = t[:, np.newaxis]\n",
    "x[:, :, 1] = l[np.newaxis,:]\n",
    "x[:, :, 2] = 0.\n",
    "print(x.shape)\n",
    "# x = x.transpose(0,2,1)\n",
    "# print(x)"
   ]
  },
  {
   "cell_type": "code",
   "execution_count": null,
   "metadata": {},
   "outputs": [],
   "source": [
    "t1 = np.linspace(0, 2*3.14, 256)\n",
    "t2 = np.linspace(-0.5, 0.5, 256)\n",
    "x = np.zeros((t1.shape[0], t2.shape[0], 3), np.float32)\n",
    "x[:, :, 0] = t1[np.newaxis, :]\n",
    "x[:, :, 1] = t2[:, np.newaxis]\n",
    "x[:, :, 2] = .0\n",
    "print(x.shape)"
   ]
  },
  {
   "cell_type": "code",
   "execution_count": null,
   "metadata": {},
   "outputs": [],
   "source": [
    "xy = np.mgrid[0:2048:8*np.pi, 0:1534:3*np.pi]#.reshape(2048,-1).T\n",
    "print(xy.shape)\n",
    "# print(xy)"
   ]
  },
  {
   "cell_type": "code",
   "execution_count": null,
   "metadata": {},
   "outputs": [],
   "source": [
    "lJHTDB = pyJHTDB.libJHTDB()\n",
    "lJHTDB.initialize()\n",
    "\n",
    "#Add token\n",
    "auth_token  = \"edu.cmu.andrew.ppant-68a123d6\"  #Replace with your own token here\n",
    "lJHTDB.add_token(auth_token)\n",
    "\n",
    "import pyJHTDB.dbinfo\n",
    "T = pyJHTDB.dbinfo.channel5200['time'][-1]\n",
    "# T =10.0\n",
    "\n",
    "# Select points in the database to query\n",
    "# lpoints = []\n",
    "# for i in range(0,3):\n",
    "#     lpoints.append([np.random.uniform(0, 8*3.14),np.random.uniform(-1, 1),np.random.uniform(0, 3*3.14)])\n",
    "\n",
    "# # 2D array with single precision values\n",
    "# points = np.array(lpoints,dtype='float32')\n",
    "\n",
    "# time = np.random.random()*T\n",
    "time = 24.0\n",
    "# u = lJHTDB.getData(\n",
    "#                time,\n",
    "#                x,\n",
    "#                sinterp = 4,\n",
    "#                data_set ='channel5200',\n",
    "#                getFunction='getVelocity')\n",
    "# ubox = lJHTDB.getBoxFilter(\n",
    "#                time,\n",
    "#                x,\n",
    "#                field = 'velocity',\n",
    "#                data_set = 'channel',\n",
    "#                filter_width = 5*(2*np.pi / 1024))\n",
    "# lJHTDB.finalize()\n",
    "result = lJHTDB.getData(time, x, data_set='channel',\n",
    "        sinterp = 4, tinterp = 0,\n",
    "        getFunction = 'getVelocity')\n",
    "print(result.shape)\n",
    "# print(result)\n",
    "# print(u.shape)\n",
    "print(time)"
   ]
  },
  {
   "cell_type": "code",
   "execution_count": null,
   "metadata": {},
   "outputs": [],
   "source": [
    "import matplotlib.pyplot as plt\n",
    "plt.imshow(result[:,:,0])\n",
    "plt.imsave('try.png', result[:,:,0])"
   ]
  },
  {
   "cell_type": "code",
   "execution_count": null,
   "metadata": {},
   "outputs": [],
   "source": [
    "# print(u.shape)\n",
    "fig = plt.figure(figsize = (t1[-1] - t1[0], t2[-1] - t2[0]))\n",
    "a = fig.add_subplot(121)\n",
    "a.set_axis_off()\n",
    "a.imshow([:,:,0],\n",
    "         extent = [t1[0], t1[-1] - t1[0], t2[0], t2[-1] - t2[0]],\n",
    "         interpolation = 'none')"
   ]
  },
  {
   "cell_type": "code",
   "execution_count": null,
   "metadata": {},
   "outputs": [],
   "source": [
    "import shutil\n",
    "T = np.arange(0., 25.0, 0.01)\n",
    "X = np.linspace(0, 8*np.pi, 4)\n",
    "Y = np.linspace(-1, 1, 4)\n",
    "Z = np.arange(0, 3*np.pi, 0.1)x[:, :, 0] = t1[np.newaxis, :]\n",
    "x[:, :, 1] = t2[:, np.newaxis]\n",
    "x[:, :, 2] = .0\n",
    "\n",
    "x = np.zeros((p.shape[0], p.shape[0], 3), np.float32)\n",
    "les = []\n",
    "dns = []\n",
    "count = 0\n",
    "# if os.path.exists('DNS-LES/les'):\n",
    "#     shutil.rmtree('DNS-LES/les')\n",
    "# if os.path.exists('DNS-LES/dns'):\n",
    "#     shutil.rmtree('DNS-LES/dns')\n",
    "if not os.path.exists('DNS-LES/les'):\n",
    "    os.mkdir('DNS-LES/les')\n",
    "\n",
    "if not os.path.exists('DNS-LES/dns'):\n",
    "    os.mkdir('DNS-LES/dns')"
   ]
  },
  {
   "cell_type": "code",
   "execution_count": null,
   "metadata": {},
   "outputs": [],
   "source": [
    "\n",
    "def create_turb_dataset(t):\n",
    "    count = 0\n",
    "    Nx = 512\n",
    "    Ny = 128\n",
    "    #for t in T:\n",
    "    start_time = time.time()\n",
    "    print(\"Time:\",t)\n",
    "    for idx in range(len(X)-1):\n",
    "        px = np.linspace(X[idx], X[idx+1], Nx)\n",
    "        for idy in range(len(Y)-1):\n",
    "            py = np.linspace(Y[idy], Y[idy+1], Ny)\n",
    "            for z in Z:\n",
    "            \n",
    "                x[:, :, 0] = px[np.newaxis, :]\n",
    "                x[:, :, 1] = py[:, np.newaxis]\n",
    "                x[:, :, 2] = z\n",
    "\n",
    "                u, u_box= u_data(t, x)\n",
    "                #les.append(u_box)\n",
    "                #dns.append(u)\n",
    "                if not os.path.exists('DNS-LES/les/%.2f'%t):\n",
    "                    os.mkdir('DNS-LES/les/%.2f'%t)\n",
    "                if not os.path.exists('DNS-LES/dns/%.2f'%t):\n",
    "                    os.mkdir('DNS-LES/dns/%.2f'%t)\n",
    "\n",
    "                for itx in range(3):\n",
    "                    norm1 = cv2.normalize(u[:,:,itx], 0, 255, norm_type=cv2.NORM_MINMAX, dtype=cv2.CV_32F)\n",
    "                    norm2 = cv2.normalize(u_box[:,:,itx], 0, 255,norm_type=cv2.NORM_MINMAX, dtype=cv2.CV_32F)\n",
    "                    if count%100 == 0:\n",
    "                        print(count)\n",
    "\n",
    "                    cv2.imwrite(\"DNS-LES/dns/%.2f/%d.png\"%(t,count), norm1)\n",
    "                    cv2.imwrite(\"DNS-LES/les/%.2f/%d.png\"%(t,count), norm2)\n",
    "                    count+=1\n",
    "                    end_time = time.time()\n",
    "    print(\"Time: {:.2f} s\".format(end_time-start_time))"
   ]
  },
  {
   "cell_type": "code",
   "execution_count": null,
   "metadata": {},
   "outputs": [],
   "source": [
    "# 2048×512×1536\n",
    "px = np.linspace(0, 8*np.pi, 512)\n",
    "py = np.linspace(-1, 1, 128)\n",
    "x = np.zeros((px.shape[0], py.shape[0], 3), np.float32)\n",
    "# print(t[np.newaxis, :].shape)\n",
    "x[:, :, 0] = px[:, np.newaxis]\n",
    "x[:, :, 1] = py[np.newaxis,:]\n",
    "x[:, :, 2] = 0.\n",
    "\n",
    "T = np.linspace(0., 25.9, 1000)\n",
    "dataset = np.zeros((len(T), 512, 128))\n",
    "\n",
    "for idx, time in enumerate(T):\n",
    "    print(idx)\n",
    "    dataset[idx] = lJHTDB.getData(time, x, data_set='channel',\n",
    "        sinterp = 4, tinterp = 0,\n",
    "        getFunction = 'getVelocity')[:,:,0]\n",
    "print(dataset.shape)\n",
    "np.save('../data/channel_data.npy', dataset)"
   ]
  },
  {
   "cell_type": "code",
   "execution_count": null,
   "metadata": {},
   "outputs": [],
   "source": [
    "A = np.zeros(5)\n",
    "print(A)"
   ]
  },
  {
   "cell_type": "code",
   "execution_count": null,
   "metadata": {},
   "outputs": [],
   "source": [
    "import numpy as np\n",
    "import matplotlib.pyplot as plt "
   ]
  },
  {
   "cell_type": "code",
   "execution_count": null,
   "metadata": {},
   "outputs": [],
   "source": [
    "dataset = np.load('../data/channel_data_2500.npy')\n",
    "print(dataset.shape)\n",
    "plt.imshow(dataset[-1])\n",
    "plt.show()"
   ]
  },
  {
   "cell_type": "code",
   "execution_count": null,
   "metadata": {},
   "outputs": [],
   "source": [
    "import numpy as np\n",
    "import matplotlib.pyplot as plt \n",
    "\n",
    "u_comp = np.load('../data/Velocity160.npz', allow_pickle=True)\n",
    "u_flat = u_comp['arr_0']\n",
    "print(u_flat.shape)\n",
    "u = u_flat.reshape(u_flat.shape[0], 320, 80)\n",
    "u = np.transpose(u, (0, 2, 1))\n",
    "u_new = np.zeros((u.shape[0], 80, 640))\n",
    "u_new[..., :320] = u\n",
    "u = u_new.astype(np.float32)\n",
    "plt.matshow(u[2000])"
   ]
  },
  {
   "cell_type": "code",
   "execution_count": null,
   "metadata": {},
   "outputs": [],
   "source": [
    "for it in u:\n",
    "    print(it)"
   ]
  },
  {
   "cell_type": "code",
   "execution_count": null,
   "metadata": {},
   "outputs": [],
   "source": [
    "u['arr_0'].shape"
   ]
  },
  {
   "cell_type": "code",
   "execution_count": null,
   "metadata": {},
   "outputs": [],
   "source": [
    "u = np.load('../data/Velocity160.npz', allow_pickle=True)\n",
    "u = u_comp['arr_0']\n",
    "# u = u_flat.reshape(u_flat.shape[0], 320, 80)\n",
    "# u = np.transpose(u, (0, 2, 1))\n",
    "print(u.shape)\n",
    "plt.matshow(u[200])\n"
   ]
  },
  {
   "cell_type": "code",
   "execution_count": null,
   "metadata": {},
   "outputs": [],
   "source": [
    "dataset = np.load('../data/channel_data_2500.npy')\n",
    "print(dataset.shape)"
   ]
  },
  {
   "cell_type": "code",
   "execution_count": 18,
   "metadata": {},
   "outputs": [
    {
     "output_type": "stream",
     "name": "stdout",
     "text": [
      "(1223, 80, 160)\n3.51482 0.0\n"
     ]
    },
    {
     "output_type": "execute_result",
     "data": {
      "text/plain": [
       "<matplotlib.image.AxesImage at 0x7feafe840dd0>"
      ]
     },
     "metadata": {},
     "execution_count": 18
    },
    {
     "output_type": "display_data",
     "data": {
      "text/plain": "<Figure size 576x288 with 1 Axes>",
      "image/svg+xml": "<?xml version=\"1.0\" encoding=\"utf-8\" standalone=\"no\"?>\n<!DOCTYPE svg PUBLIC \"-//W3C//DTD SVG 1.1//EN\"\n  \"http://www.w3.org/Graphics/SVG/1.1/DTD/svg11.dtd\">\n<!-- Created with matplotlib (https://matplotlib.org/) -->\n<svg height=\"257.778125pt\" version=\"1.1\" viewBox=\"0 0 480.525 257.778125\" width=\"480.525pt\" xmlns=\"http://www.w3.org/2000/svg\" xmlns:xlink=\"http://www.w3.org/1999/xlink\">\n <defs>\n  <style type=\"text/css\">\n*{stroke-linecap:butt;stroke-linejoin:round;}\n  </style>\n </defs>\n <g id=\"figure_1\">\n  <g id=\"patch_1\">\n   <path d=\"M 0 257.778125 \nL 480.525 257.778125 \nL 480.525 0 \nL 0 0 \nz\n\" style=\"fill:none;\"/>\n  </g>\n  <g id=\"axes_1\">\n   <g id=\"patch_2\">\n    <path d=\"M 26.925 247.078125 \nL 473.325 247.078125 \nL 473.325 23.878125 \nL 26.925 23.878125 \nz\n\" style=\"fill:#ffffff;\"/>\n   </g>\n   <g clip-path=\"url(#p313833f1b1)\">\n    <image height=\"224\" id=\"imageb441215b5b\" transform=\"scale(1 -1)translate(0 -224)\" width=\"447\" x=\"26.925\" xlink:href=\"data:image/png;base64,\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\" y=\"-23.078125\"/>\n   </g>\n   <g id=\"matplotlib.axis_1\">\n    <g id=\"xtick_1\">\n     <g id=\"line2d_1\">\n      <defs>\n       <path d=\"M 0 0 \nL 0 3.5 \n\" id=\"m3cc5180379\" style=\"stroke:#000000;stroke-width:0.8;\"/>\n      </defs>\n      <g>\n       <use style=\"stroke:#000000;stroke-width:0.8;\" x=\"28.32\" xlink:href=\"#m3cc5180379\" y=\"247.078125\"/>\n      </g>\n     </g>\n     <g id=\"line2d_2\">\n      <defs>\n       <path d=\"M 0 0 \nL 0 -3.5 \n\" id=\"m7bcee3ee9e\" style=\"stroke:#000000;stroke-width:0.8;\"/>\n      </defs>\n      <g>\n       <use style=\"stroke:#000000;stroke-width:0.8;\" x=\"28.32\" xlink:href=\"#m7bcee3ee9e\" y=\"23.878125\"/>\n      </g>\n     </g>\n     <g id=\"text_1\">\n      <!-- 0 -->\n      <defs>\n       <path d=\"M 31.78125 66.40625 \nQ 24.171875 66.40625 20.328125 58.90625 \nQ 16.5 51.421875 16.5 36.375 \nQ 16.5 21.390625 20.328125 13.890625 \nQ 24.171875 6.390625 31.78125 6.390625 \nQ 39.453125 6.390625 43.28125 13.890625 \nQ 47.125 21.390625 47.125 36.375 \nQ 47.125 51.421875 43.28125 58.90625 \nQ 39.453125 66.40625 31.78125 66.40625 \nz\nM 31.78125 74.21875 \nQ 44.046875 74.21875 50.515625 64.515625 \nQ 56.984375 54.828125 56.984375 36.375 \nQ 56.984375 17.96875 50.515625 8.265625 \nQ 44.046875 -1.421875 31.78125 -1.421875 \nQ 19.53125 -1.421875 13.0625 8.265625 \nQ 6.59375 17.96875 6.59375 36.375 \nQ 6.59375 54.828125 13.0625 64.515625 \nQ 19.53125 74.21875 31.78125 74.21875 \nz\n\" id=\"DejaVuSans-48\"/>\n      </defs>\n      <g transform=\"translate(25.13875 14.798438)scale(0.1 -0.1)\">\n       <use xlink:href=\"#DejaVuSans-48\"/>\n      </g>\n     </g>\n    </g>\n    <g id=\"xtick_2\">\n     <g id=\"line2d_3\">\n      <g>\n       <use style=\"stroke:#000000;stroke-width:0.8;\" x=\"84.12\" xlink:href=\"#m3cc5180379\" y=\"247.078125\"/>\n      </g>\n     </g>\n     <g id=\"line2d_4\">\n      <g>\n       <use style=\"stroke:#000000;stroke-width:0.8;\" x=\"84.12\" xlink:href=\"#m7bcee3ee9e\" y=\"23.878125\"/>\n      </g>\n     </g>\n     <g id=\"text_2\">\n      <!-- 20 -->\n      <defs>\n       <path d=\"M 19.1875 8.296875 \nL 53.609375 8.296875 \nL 53.609375 0 \nL 7.328125 0 \nL 7.328125 8.296875 \nQ 12.9375 14.109375 22.625 23.890625 \nQ 32.328125 33.6875 34.8125 36.53125 \nQ 39.546875 41.84375 41.421875 45.53125 \nQ 43.3125 49.21875 43.3125 52.78125 \nQ 43.3125 58.59375 39.234375 62.25 \nQ 35.15625 65.921875 28.609375 65.921875 \nQ 23.96875 65.921875 18.8125 64.3125 \nQ 13.671875 62.703125 7.8125 59.421875 \nL 7.8125 69.390625 \nQ 13.765625 71.78125 18.9375 73 \nQ 24.125 74.21875 28.421875 74.21875 \nQ 39.75 74.21875 46.484375 68.546875 \nQ 53.21875 62.890625 53.21875 53.421875 \nQ 53.21875 48.921875 51.53125 44.890625 \nQ 49.859375 40.875 45.40625 35.40625 \nQ 44.1875 33.984375 37.640625 27.21875 \nQ 31.109375 20.453125 19.1875 8.296875 \nz\n\" id=\"DejaVuSans-50\"/>\n      </defs>\n      <g transform=\"translate(77.7575 14.798438)scale(0.1 -0.1)\">\n       <use xlink:href=\"#DejaVuSans-50\"/>\n       <use x=\"63.623047\" xlink:href=\"#DejaVuSans-48\"/>\n      </g>\n     </g>\n    </g>\n    <g id=\"xtick_3\">\n     <g id=\"line2d_5\">\n      <g>\n       <use style=\"stroke:#000000;stroke-width:0.8;\" x=\"139.92\" xlink:href=\"#m3cc5180379\" y=\"247.078125\"/>\n      </g>\n     </g>\n     <g id=\"line2d_6\">\n      <g>\n       <use style=\"stroke:#000000;stroke-width:0.8;\" x=\"139.92\" xlink:href=\"#m7bcee3ee9e\" y=\"23.878125\"/>\n      </g>\n     </g>\n     <g id=\"text_3\">\n      <!-- 40 -->\n      <defs>\n       <path d=\"M 37.796875 64.3125 \nL 12.890625 25.390625 \nL 37.796875 25.390625 \nz\nM 35.203125 72.90625 \nL 47.609375 72.90625 \nL 47.609375 25.390625 \nL 58.015625 25.390625 \nL 58.015625 17.1875 \nL 47.609375 17.1875 \nL 47.609375 0 \nL 37.796875 0 \nL 37.796875 17.1875 \nL 4.890625 17.1875 \nL 4.890625 26.703125 \nz\n\" id=\"DejaVuSans-52\"/>\n      </defs>\n      <g transform=\"translate(133.5575 14.798438)scale(0.1 -0.1)\">\n       <use xlink:href=\"#DejaVuSans-52\"/>\n       <use x=\"63.623047\" xlink:href=\"#DejaVuSans-48\"/>\n      </g>\n     </g>\n    </g>\n    <g id=\"xtick_4\">\n     <g id=\"line2d_7\">\n      <g>\n       <use style=\"stroke:#000000;stroke-width:0.8;\" x=\"195.72\" xlink:href=\"#m3cc5180379\" y=\"247.078125\"/>\n      </g>\n     </g>\n     <g id=\"line2d_8\">\n      <g>\n       <use style=\"stroke:#000000;stroke-width:0.8;\" x=\"195.72\" xlink:href=\"#m7bcee3ee9e\" y=\"23.878125\"/>\n      </g>\n     </g>\n     <g id=\"text_4\">\n      <!-- 60 -->\n      <defs>\n       <path d=\"M 33.015625 40.375 \nQ 26.375 40.375 22.484375 35.828125 \nQ 18.609375 31.296875 18.609375 23.390625 \nQ 18.609375 15.53125 22.484375 10.953125 \nQ 26.375 6.390625 33.015625 6.390625 \nQ 39.65625 6.390625 43.53125 10.953125 \nQ 47.40625 15.53125 47.40625 23.390625 \nQ 47.40625 31.296875 43.53125 35.828125 \nQ 39.65625 40.375 33.015625 40.375 \nz\nM 52.59375 71.296875 \nL 52.59375 62.3125 \nQ 48.875 64.0625 45.09375 64.984375 \nQ 41.3125 65.921875 37.59375 65.921875 \nQ 27.828125 65.921875 22.671875 59.328125 \nQ 17.53125 52.734375 16.796875 39.40625 \nQ 19.671875 43.65625 24.015625 45.921875 \nQ 28.375 48.1875 33.59375 48.1875 \nQ 44.578125 48.1875 50.953125 41.515625 \nQ 57.328125 34.859375 57.328125 23.390625 \nQ 57.328125 12.15625 50.6875 5.359375 \nQ 44.046875 -1.421875 33.015625 -1.421875 \nQ 20.359375 -1.421875 13.671875 8.265625 \nQ 6.984375 17.96875 6.984375 36.375 \nQ 6.984375 53.65625 15.1875 63.9375 \nQ 23.390625 74.21875 37.203125 74.21875 \nQ 40.921875 74.21875 44.703125 73.484375 \nQ 48.484375 72.75 52.59375 71.296875 \nz\n\" id=\"DejaVuSans-54\"/>\n      </defs>\n      <g transform=\"translate(189.3575 14.798438)scale(0.1 -0.1)\">\n       <use xlink:href=\"#DejaVuSans-54\"/>\n       <use x=\"63.623047\" xlink:href=\"#DejaVuSans-48\"/>\n      </g>\n     </g>\n    </g>\n    <g id=\"xtick_5\">\n     <g id=\"line2d_9\">\n      <g>\n       <use style=\"stroke:#000000;stroke-width:0.8;\" x=\"251.52\" xlink:href=\"#m3cc5180379\" y=\"247.078125\"/>\n      </g>\n     </g>\n     <g id=\"line2d_10\">\n      <g>\n       <use style=\"stroke:#000000;stroke-width:0.8;\" x=\"251.52\" xlink:href=\"#m7bcee3ee9e\" y=\"23.878125\"/>\n      </g>\n     </g>\n     <g id=\"text_5\">\n      <!-- 80 -->\n      <defs>\n       <path d=\"M 31.78125 34.625 \nQ 24.75 34.625 20.71875 30.859375 \nQ 16.703125 27.09375 16.703125 20.515625 \nQ 16.703125 13.921875 20.71875 10.15625 \nQ 24.75 6.390625 31.78125 6.390625 \nQ 38.8125 6.390625 42.859375 10.171875 \nQ 46.921875 13.96875 46.921875 20.515625 \nQ 46.921875 27.09375 42.890625 30.859375 \nQ 38.875 34.625 31.78125 34.625 \nz\nM 21.921875 38.8125 \nQ 15.578125 40.375 12.03125 44.71875 \nQ 8.5 49.078125 8.5 55.328125 \nQ 8.5 64.0625 14.71875 69.140625 \nQ 20.953125 74.21875 31.78125 74.21875 \nQ 42.671875 74.21875 48.875 69.140625 \nQ 55.078125 64.0625 55.078125 55.328125 \nQ 55.078125 49.078125 51.53125 44.71875 \nQ 48 40.375 41.703125 38.8125 \nQ 48.828125 37.15625 52.796875 32.3125 \nQ 56.78125 27.484375 56.78125 20.515625 \nQ 56.78125 9.90625 50.3125 4.234375 \nQ 43.84375 -1.421875 31.78125 -1.421875 \nQ 19.734375 -1.421875 13.25 4.234375 \nQ 6.78125 9.90625 6.78125 20.515625 \nQ 6.78125 27.484375 10.78125 32.3125 \nQ 14.796875 37.15625 21.921875 38.8125 \nz\nM 18.3125 54.390625 \nQ 18.3125 48.734375 21.84375 45.5625 \nQ 25.390625 42.390625 31.78125 42.390625 \nQ 38.140625 42.390625 41.71875 45.5625 \nQ 45.3125 48.734375 45.3125 54.390625 \nQ 45.3125 60.0625 41.71875 63.234375 \nQ 38.140625 66.40625 31.78125 66.40625 \nQ 25.390625 66.40625 21.84375 63.234375 \nQ 18.3125 60.0625 18.3125 54.390625 \nz\n\" id=\"DejaVuSans-56\"/>\n      </defs>\n      <g transform=\"translate(245.1575 14.798438)scale(0.1 -0.1)\">\n       <use xlink:href=\"#DejaVuSans-56\"/>\n       <use x=\"63.623047\" xlink:href=\"#DejaVuSans-48\"/>\n      </g>\n     </g>\n    </g>\n    <g id=\"xtick_6\">\n     <g id=\"line2d_11\">\n      <g>\n       <use style=\"stroke:#000000;stroke-width:0.8;\" x=\"307.32\" xlink:href=\"#m3cc5180379\" y=\"247.078125\"/>\n      </g>\n     </g>\n     <g id=\"line2d_12\">\n      <g>\n       <use style=\"stroke:#000000;stroke-width:0.8;\" x=\"307.32\" xlink:href=\"#m7bcee3ee9e\" y=\"23.878125\"/>\n      </g>\n     </g>\n     <g id=\"text_6\">\n      <!-- 100 -->\n      <defs>\n       <path d=\"M 12.40625 8.296875 \nL 28.515625 8.296875 \nL 28.515625 63.921875 \nL 10.984375 60.40625 \nL 10.984375 69.390625 \nL 28.421875 72.90625 \nL 38.28125 72.90625 \nL 38.28125 8.296875 \nL 54.390625 8.296875 \nL 54.390625 0 \nL 12.40625 0 \nz\n\" id=\"DejaVuSans-49\"/>\n      </defs>\n      <g transform=\"translate(297.77625 14.798438)scale(0.1 -0.1)\">\n       <use xlink:href=\"#DejaVuSans-49\"/>\n       <use x=\"63.623047\" xlink:href=\"#DejaVuSans-48\"/>\n       <use x=\"127.246094\" xlink:href=\"#DejaVuSans-48\"/>\n      </g>\n     </g>\n    </g>\n    <g id=\"xtick_7\">\n     <g id=\"line2d_13\">\n      <g>\n       <use style=\"stroke:#000000;stroke-width:0.8;\" x=\"363.12\" xlink:href=\"#m3cc5180379\" y=\"247.078125\"/>\n      </g>\n     </g>\n     <g id=\"line2d_14\">\n      <g>\n       <use style=\"stroke:#000000;stroke-width:0.8;\" x=\"363.12\" xlink:href=\"#m7bcee3ee9e\" y=\"23.878125\"/>\n      </g>\n     </g>\n     <g id=\"text_7\">\n      <!-- 120 -->\n      <g transform=\"translate(353.57625 14.798438)scale(0.1 -0.1)\">\n       <use xlink:href=\"#DejaVuSans-49\"/>\n       <use x=\"63.623047\" xlink:href=\"#DejaVuSans-50\"/>\n       <use x=\"127.246094\" xlink:href=\"#DejaVuSans-48\"/>\n      </g>\n     </g>\n    </g>\n    <g id=\"xtick_8\">\n     <g id=\"line2d_15\">\n      <g>\n       <use style=\"stroke:#000000;stroke-width:0.8;\" x=\"418.92\" xlink:href=\"#m3cc5180379\" y=\"247.078125\"/>\n      </g>\n     </g>\n     <g id=\"line2d_16\">\n      <g>\n       <use style=\"stroke:#000000;stroke-width:0.8;\" x=\"418.92\" xlink:href=\"#m7bcee3ee9e\" y=\"23.878125\"/>\n      </g>\n     </g>\n     <g id=\"text_8\">\n      <!-- 140 -->\n      <g transform=\"translate(409.37625 14.798438)scale(0.1 -0.1)\">\n       <use xlink:href=\"#DejaVuSans-49\"/>\n       <use x=\"63.623047\" xlink:href=\"#DejaVuSans-52\"/>\n       <use x=\"127.246094\" xlink:href=\"#DejaVuSans-48\"/>\n      </g>\n     </g>\n    </g>\n   </g>\n   <g id=\"matplotlib.axis_2\">\n    <g id=\"ytick_1\">\n     <g id=\"line2d_17\">\n      <defs>\n       <path d=\"M 0 0 \nL -3.5 0 \n\" id=\"mad142f02ef\" style=\"stroke:#000000;stroke-width:0.8;\"/>\n      </defs>\n      <g>\n       <use style=\"stroke:#000000;stroke-width:0.8;\" x=\"26.925\" xlink:href=\"#mad142f02ef\" y=\"25.273125\"/>\n      </g>\n     </g>\n     <g id=\"text_9\">\n      <!-- 0 -->\n      <g transform=\"translate(13.5625 29.072344)scale(0.1 -0.1)\">\n       <use xlink:href=\"#DejaVuSans-48\"/>\n      </g>\n     </g>\n    </g>\n    <g id=\"ytick_2\">\n     <g id=\"line2d_18\">\n      <g>\n       <use style=\"stroke:#000000;stroke-width:0.8;\" x=\"26.925\" xlink:href=\"#mad142f02ef\" y=\"53.173125\"/>\n      </g>\n     </g>\n     <g id=\"text_10\">\n      <!-- 10 -->\n      <g transform=\"translate(7.2 56.972344)scale(0.1 -0.1)\">\n       <use xlink:href=\"#DejaVuSans-49\"/>\n       <use x=\"63.623047\" xlink:href=\"#DejaVuSans-48\"/>\n      </g>\n     </g>\n    </g>\n    <g id=\"ytick_3\">\n     <g id=\"line2d_19\">\n      <g>\n       <use style=\"stroke:#000000;stroke-width:0.8;\" x=\"26.925\" xlink:href=\"#mad142f02ef\" y=\"81.073125\"/>\n      </g>\n     </g>\n     <g id=\"text_11\">\n      <!-- 20 -->\n      <g transform=\"translate(7.2 84.872344)scale(0.1 -0.1)\">\n       <use xlink:href=\"#DejaVuSans-50\"/>\n       <use x=\"63.623047\" xlink:href=\"#DejaVuSans-48\"/>\n      </g>\n     </g>\n    </g>\n    <g id=\"ytick_4\">\n     <g id=\"line2d_20\">\n      <g>\n       <use style=\"stroke:#000000;stroke-width:0.8;\" x=\"26.925\" xlink:href=\"#mad142f02ef\" y=\"108.973125\"/>\n      </g>\n     </g>\n     <g id=\"text_12\">\n      <!-- 30 -->\n      <defs>\n       <path d=\"M 40.578125 39.3125 \nQ 47.65625 37.796875 51.625 33 \nQ 55.609375 28.21875 55.609375 21.1875 \nQ 55.609375 10.40625 48.1875 4.484375 \nQ 40.765625 -1.421875 27.09375 -1.421875 \nQ 22.515625 -1.421875 17.65625 -0.515625 \nQ 12.796875 0.390625 7.625 2.203125 \nL 7.625 11.71875 \nQ 11.71875 9.328125 16.59375 8.109375 \nQ 21.484375 6.890625 26.8125 6.890625 \nQ 36.078125 6.890625 40.9375 10.546875 \nQ 45.796875 14.203125 45.796875 21.1875 \nQ 45.796875 27.640625 41.28125 31.265625 \nQ 36.765625 34.90625 28.71875 34.90625 \nL 20.21875 34.90625 \nL 20.21875 43.015625 \nL 29.109375 43.015625 \nQ 36.375 43.015625 40.234375 45.921875 \nQ 44.09375 48.828125 44.09375 54.296875 \nQ 44.09375 59.90625 40.109375 62.90625 \nQ 36.140625 65.921875 28.71875 65.921875 \nQ 24.65625 65.921875 20.015625 65.03125 \nQ 15.375 64.15625 9.8125 62.3125 \nL 9.8125 71.09375 \nQ 15.4375 72.65625 20.34375 73.4375 \nQ 25.25 74.21875 29.59375 74.21875 \nQ 40.828125 74.21875 47.359375 69.109375 \nQ 53.90625 64.015625 53.90625 55.328125 \nQ 53.90625 49.265625 50.4375 45.09375 \nQ 46.96875 40.921875 40.578125 39.3125 \nz\n\" id=\"DejaVuSans-51\"/>\n      </defs>\n      <g transform=\"translate(7.2 112.772344)scale(0.1 -0.1)\">\n       <use xlink:href=\"#DejaVuSans-51\"/>\n       <use x=\"63.623047\" xlink:href=\"#DejaVuSans-48\"/>\n      </g>\n     </g>\n    </g>\n    <g id=\"ytick_5\">\n     <g id=\"line2d_21\">\n      <g>\n       <use style=\"stroke:#000000;stroke-width:0.8;\" x=\"26.925\" xlink:href=\"#mad142f02ef\" y=\"136.873125\"/>\n      </g>\n     </g>\n     <g id=\"text_13\">\n      <!-- 40 -->\n      <g transform=\"translate(7.2 140.672344)scale(0.1 -0.1)\">\n       <use xlink:href=\"#DejaVuSans-52\"/>\n       <use x=\"63.623047\" xlink:href=\"#DejaVuSans-48\"/>\n      </g>\n     </g>\n    </g>\n    <g id=\"ytick_6\">\n     <g id=\"line2d_22\">\n      <g>\n       <use style=\"stroke:#000000;stroke-width:0.8;\" x=\"26.925\" xlink:href=\"#mad142f02ef\" y=\"164.773125\"/>\n      </g>\n     </g>\n     <g id=\"text_14\">\n      <!-- 50 -->\n      <defs>\n       <path d=\"M 10.796875 72.90625 \nL 49.515625 72.90625 \nL 49.515625 64.59375 \nL 19.828125 64.59375 \nL 19.828125 46.734375 \nQ 21.96875 47.46875 24.109375 47.828125 \nQ 26.265625 48.1875 28.421875 48.1875 \nQ 40.625 48.1875 47.75 41.5 \nQ 54.890625 34.8125 54.890625 23.390625 \nQ 54.890625 11.625 47.5625 5.09375 \nQ 40.234375 -1.421875 26.90625 -1.421875 \nQ 22.3125 -1.421875 17.546875 -0.640625 \nQ 12.796875 0.140625 7.71875 1.703125 \nL 7.71875 11.625 \nQ 12.109375 9.234375 16.796875 8.0625 \nQ 21.484375 6.890625 26.703125 6.890625 \nQ 35.15625 6.890625 40.078125 11.328125 \nQ 45.015625 15.765625 45.015625 23.390625 \nQ 45.015625 31 40.078125 35.4375 \nQ 35.15625 39.890625 26.703125 39.890625 \nQ 22.75 39.890625 18.8125 39.015625 \nQ 14.890625 38.140625 10.796875 36.28125 \nz\n\" id=\"DejaVuSans-53\"/>\n      </defs>\n      <g transform=\"translate(7.2 168.572344)scale(0.1 -0.1)\">\n       <use xlink:href=\"#DejaVuSans-53\"/>\n       <use x=\"63.623047\" xlink:href=\"#DejaVuSans-48\"/>\n      </g>\n     </g>\n    </g>\n    <g id=\"ytick_7\">\n     <g id=\"line2d_23\">\n      <g>\n       <use style=\"stroke:#000000;stroke-width:0.8;\" x=\"26.925\" xlink:href=\"#mad142f02ef\" y=\"192.673125\"/>\n      </g>\n     </g>\n     <g id=\"text_15\">\n      <!-- 60 -->\n      <g transform=\"translate(7.2 196.472344)scale(0.1 -0.1)\">\n       <use xlink:href=\"#DejaVuSans-54\"/>\n       <use x=\"63.623047\" xlink:href=\"#DejaVuSans-48\"/>\n      </g>\n     </g>\n    </g>\n    <g id=\"ytick_8\">\n     <g id=\"line2d_24\">\n      <g>\n       <use style=\"stroke:#000000;stroke-width:0.8;\" x=\"26.925\" xlink:href=\"#mad142f02ef\" y=\"220.573125\"/>\n      </g>\n     </g>\n     <g id=\"text_16\">\n      <!-- 70 -->\n      <defs>\n       <path d=\"M 8.203125 72.90625 \nL 55.078125 72.90625 \nL 55.078125 68.703125 \nL 28.609375 0 \nL 18.3125 0 \nL 43.21875 64.59375 \nL 8.203125 64.59375 \nz\n\" id=\"DejaVuSans-55\"/>\n      </defs>\n      <g transform=\"translate(7.2 224.372344)scale(0.1 -0.1)\">\n       <use xlink:href=\"#DejaVuSans-55\"/>\n       <use x=\"63.623047\" xlink:href=\"#DejaVuSans-48\"/>\n      </g>\n     </g>\n    </g>\n   </g>\n   <g id=\"patch_3\">\n    <path d=\"M 26.925 247.078125 \nL 26.925 23.878125 \n\" style=\"fill:none;stroke:#000000;stroke-linecap:square;stroke-linejoin:miter;stroke-width:0.8;\"/>\n   </g>\n   <g id=\"patch_4\">\n    <path d=\"M 473.325 247.078125 \nL 473.325 23.878125 \n\" style=\"fill:none;stroke:#000000;stroke-linecap:square;stroke-linejoin:miter;stroke-width:0.8;\"/>\n   </g>\n   <g id=\"patch_5\">\n    <path d=\"M 26.925 247.078125 \nL 473.325 247.078125 \n\" style=\"fill:none;stroke:#000000;stroke-linecap:square;stroke-linejoin:miter;stroke-width:0.8;\"/>\n   </g>\n   <g id=\"patch_6\">\n    <path d=\"M 26.925 23.878125 \nL 473.325 23.878125 \n\" style=\"fill:none;stroke:#000000;stroke-linecap:square;stroke-linejoin:miter;stroke-width:0.8;\"/>\n   </g>\n  </g>\n </g>\n <defs>\n  <clipPath id=\"p313833f1b1\">\n   <rect height=\"223.2\" width=\"446.4\" x=\"26.925\" y=\"23.878125\"/>\n  </clipPath>\n </defs>\n</svg>\n",
      "image/png": "[encoded data removed]"
     },
     "metadata": {
      "needs_background": "light"
     }
    }
   ],
   "source": [
    "import numpy as np\n",
    "import matplotlib.pyplot as plt \n",
    "u_flat = np.load('../data/airfoil_80x320_data.npy', allow_pickle=True)\n",
    "# u_flat = u_comp['arr_0']\n",
    "u = u_flat.reshape(u_flat.shape[0], 320, 80)\n",
    "u = np.transpose(u, (0, 2, 1))[:,:,140:-20]\n",
    "# u_new = np.zeros((u.shape[0], 80, 640))\n",
    "# u_new[..., :320] = u\n",
    "# u = u_new.astype(np.float32)\n",
    "print(u.shape)\n",
    "print(np.max(u_flat), np.min(u_flat))\n",
    "plt.matshow(u[400])"
   ]
  },
  {
   "cell_type": "code",
   "execution_count": 14,
   "metadata": {},
   "outputs": [
    {
     "output_type": "stream",
     "name": "stdout",
     "text": [
      "(1500, 64800)\n(1500, 160, 320)\n65.4571 1.29765e-10\n"
     ]
    },
    {
     "output_type": "execute_result",
     "data": {
      "text/plain": [
       "<matplotlib.image.AxesImage at 0x7feafea5c210>"
      ]
     },
     "metadata": {},
     "execution_count": 14
    },
    {
     "output_type": "display_data",
     "data": {
      "text/plain": "<Figure size 576x288 with 1 Axes>",
      "image/svg+xml": "<?xml version=\"1.0\" encoding=\"utf-8\" standalone=\"no\"?>\n<!DOCTYPE svg PUBLIC \"-//W3C//DTD SVG 1.1//EN\"\n  \"http://www.w3.org/Graphics/SVG/1.1/DTD/svg11.dtd\">\n<!-- Created with matplotlib (https://matplotlib.org/) -->\n<svg height=\"257.778125pt\" version=\"1.1\" viewBox=\"0 0 486.8875 257.778125\" width=\"486.8875pt\" xmlns=\"http://www.w3.org/2000/svg\" xmlns:xlink=\"http://www.w3.org/1999/xlink\">\n <defs>\n  <style type=\"text/css\">\n*{stroke-linecap:butt;stroke-linejoin:round;}\n  </style>\n </defs>\n <g id=\"figure_1\">\n  <g id=\"patch_1\">\n   <path d=\"M 0 257.778125 \nL 486.8875 257.778125 \nL 486.8875 0 \nL 0 0 \nz\n\" style=\"fill:none;\"/>\n  </g>\n  <g id=\"axes_1\">\n   <g id=\"patch_2\">\n    <path d=\"M 33.2875 247.078125 \nL 479.6875 247.078125 \nL 479.6875 23.878125 \nL 33.2875 23.878125 \nz\n\" style=\"fill:#ffffff;\"/>\n   </g>\n   <g clip-path=\"url(#p63fbd826f1)\">\n    <image height=\"224\" id=\"imageb3dc1e2a37\" transform=\"scale(1 -1)translate(0 -224)\" width=\"447\" x=\"33.2875\" xlink:href=\"data:image/png;base64,\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\" y=\"-23.078125\"/>\n   </g>\n   <g id=\"matplotlib.axis_1\">\n    <g id=\"xtick_1\">\n     <g id=\"line2d_1\">\n      <defs>\n       <path d=\"M 0 0 \nL 0 3.5 \n\" id=\"m94b8ef1b5a\" style=\"stroke:#000000;stroke-width:0.8;\"/>\n      </defs>\n      <g>\n       <use style=\"stroke:#000000;stroke-width:0.8;\" x=\"33.985\" xlink:href=\"#m94b8ef1b5a\" y=\"247.078125\"/>\n      </g>\n     </g>\n     <g id=\"line2d_2\">\n      <defs>\n       <path d=\"M 0 0 \nL 0 -3.5 \n\" id=\"m6494aaa711\" style=\"stroke:#000000;stroke-width:0.8;\"/>\n      </defs>\n      <g>\n       <use style=\"stroke:#000000;stroke-width:0.8;\" x=\"33.985\" xlink:href=\"#m6494aaa711\" y=\"23.878125\"/>\n      </g>\n     </g>\n     <g id=\"text_1\">\n      <!-- 0 -->\n      <defs>\n       <path d=\"M 31.78125 66.40625 \nQ 24.171875 66.40625 20.328125 58.90625 \nQ 16.5 51.421875 16.5 36.375 \nQ 16.5 21.390625 20.328125 13.890625 \nQ 24.171875 6.390625 31.78125 6.390625 \nQ 39.453125 6.390625 43.28125 13.890625 \nQ 47.125 21.390625 47.125 36.375 \nQ 47.125 51.421875 43.28125 58.90625 \nQ 39.453125 66.40625 31.78125 66.40625 \nz\nM 31.78125 74.21875 \nQ 44.046875 74.21875 50.515625 64.515625 \nQ 56.984375 54.828125 56.984375 36.375 \nQ 56.984375 17.96875 50.515625 8.265625 \nQ 44.046875 -1.421875 31.78125 -1.421875 \nQ 19.53125 -1.421875 13.0625 8.265625 \nQ 6.59375 17.96875 6.59375 36.375 \nQ 6.59375 54.828125 13.0625 64.515625 \nQ 19.53125 74.21875 31.78125 74.21875 \nz\n\" id=\"DejaVuSans-48\"/>\n      </defs>\n      <g transform=\"translate(30.80375 14.798438)scale(0.1 -0.1)\">\n       <use xlink:href=\"#DejaVuSans-48\"/>\n      </g>\n     </g>\n    </g>\n    <g id=\"xtick_2\">\n     <g id=\"line2d_3\">\n      <g>\n       <use style=\"stroke:#000000;stroke-width:0.8;\" x=\"103.735\" xlink:href=\"#m94b8ef1b5a\" y=\"247.078125\"/>\n      </g>\n     </g>\n     <g id=\"line2d_4\">\n      <g>\n       <use style=\"stroke:#000000;stroke-width:0.8;\" x=\"103.735\" xlink:href=\"#m6494aaa711\" y=\"23.878125\"/>\n      </g>\n     </g>\n     <g id=\"text_2\">\n      <!-- 50 -->\n      <defs>\n       <path d=\"M 10.796875 72.90625 \nL 49.515625 72.90625 \nL 49.515625 64.59375 \nL 19.828125 64.59375 \nL 19.828125 46.734375 \nQ 21.96875 47.46875 24.109375 47.828125 \nQ 26.265625 48.1875 28.421875 48.1875 \nQ 40.625 48.1875 47.75 41.5 \nQ 54.890625 34.8125 54.890625 23.390625 \nQ 54.890625 11.625 47.5625 5.09375 \nQ 40.234375 -1.421875 26.90625 -1.421875 \nQ 22.3125 -1.421875 17.546875 -0.640625 \nQ 12.796875 0.140625 7.71875 1.703125 \nL 7.71875 11.625 \nQ 12.109375 9.234375 16.796875 8.0625 \nQ 21.484375 6.890625 26.703125 6.890625 \nQ 35.15625 6.890625 40.078125 11.328125 \nQ 45.015625 15.765625 45.015625 23.390625 \nQ 45.015625 31 40.078125 35.4375 \nQ 35.15625 39.890625 26.703125 39.890625 \nQ 22.75 39.890625 18.8125 39.015625 \nQ 14.890625 38.140625 10.796875 36.28125 \nz\n\" id=\"DejaVuSans-53\"/>\n      </defs>\n      <g transform=\"translate(97.3725 14.798438)scale(0.1 -0.1)\">\n       <use xlink:href=\"#DejaVuSans-53\"/>\n       <use x=\"63.623047\" xlink:href=\"#DejaVuSans-48\"/>\n      </g>\n     </g>\n    </g>\n    <g id=\"xtick_3\">\n     <g id=\"line2d_5\">\n      <g>\n       <use style=\"stroke:#000000;stroke-width:0.8;\" x=\"173.485\" xlink:href=\"#m94b8ef1b5a\" y=\"247.078125\"/>\n      </g>\n     </g>\n     <g id=\"line2d_6\">\n      <g>\n       <use style=\"stroke:#000000;stroke-width:0.8;\" x=\"173.485\" xlink:href=\"#m6494aaa711\" y=\"23.878125\"/>\n      </g>\n     </g>\n     <g id=\"text_3\">\n      <!-- 100 -->\n      <defs>\n       <path d=\"M 12.40625 8.296875 \nL 28.515625 8.296875 \nL 28.515625 63.921875 \nL 10.984375 60.40625 \nL 10.984375 69.390625 \nL 28.421875 72.90625 \nL 38.28125 72.90625 \nL 38.28125 8.296875 \nL 54.390625 8.296875 \nL 54.390625 0 \nL 12.40625 0 \nz\n\" id=\"DejaVuSans-49\"/>\n      </defs>\n      <g transform=\"translate(163.94125 14.798438)scale(0.1 -0.1)\">\n       <use xlink:href=\"#DejaVuSans-49\"/>\n       <use x=\"63.623047\" xlink:href=\"#DejaVuSans-48\"/>\n       <use x=\"127.246094\" xlink:href=\"#DejaVuSans-48\"/>\n      </g>\n     </g>\n    </g>\n    <g id=\"xtick_4\">\n     <g id=\"line2d_7\">\n      <g>\n       <use style=\"stroke:#000000;stroke-width:0.8;\" x=\"243.235\" xlink:href=\"#m94b8ef1b5a\" y=\"247.078125\"/>\n      </g>\n     </g>\n     <g id=\"line2d_8\">\n      <g>\n       <use style=\"stroke:#000000;stroke-width:0.8;\" x=\"243.235\" xlink:href=\"#m6494aaa711\" y=\"23.878125\"/>\n      </g>\n     </g>\n     <g id=\"text_4\">\n      <!-- 150 -->\n      <g transform=\"translate(233.69125 14.798438)scale(0.1 -0.1)\">\n       <use xlink:href=\"#DejaVuSans-49\"/>\n       <use x=\"63.623047\" xlink:href=\"#DejaVuSans-53\"/>\n       <use x=\"127.246094\" xlink:href=\"#DejaVuSans-48\"/>\n      </g>\n     </g>\n    </g>\n    <g id=\"xtick_5\">\n     <g id=\"line2d_9\">\n      <g>\n       <use style=\"stroke:#000000;stroke-width:0.8;\" x=\"312.985\" xlink:href=\"#m94b8ef1b5a\" y=\"247.078125\"/>\n      </g>\n     </g>\n     <g id=\"line2d_10\">\n      <g>\n       <use style=\"stroke:#000000;stroke-width:0.8;\" x=\"312.985\" xlink:href=\"#m6494aaa711\" y=\"23.878125\"/>\n      </g>\n     </g>\n     <g id=\"text_5\">\n      <!-- 200 -->\n      <defs>\n       <path d=\"M 19.1875 8.296875 \nL 53.609375 8.296875 \nL 53.609375 0 \nL 7.328125 0 \nL 7.328125 8.296875 \nQ 12.9375 14.109375 22.625 23.890625 \nQ 32.328125 33.6875 34.8125 36.53125 \nQ 39.546875 41.84375 41.421875 45.53125 \nQ 43.3125 49.21875 43.3125 52.78125 \nQ 43.3125 58.59375 39.234375 62.25 \nQ 35.15625 65.921875 28.609375 65.921875 \nQ 23.96875 65.921875 18.8125 64.3125 \nQ 13.671875 62.703125 7.8125 59.421875 \nL 7.8125 69.390625 \nQ 13.765625 71.78125 18.9375 73 \nQ 24.125 74.21875 28.421875 74.21875 \nQ 39.75 74.21875 46.484375 68.546875 \nQ 53.21875 62.890625 53.21875 53.421875 \nQ 53.21875 48.921875 51.53125 44.890625 \nQ 49.859375 40.875 45.40625 35.40625 \nQ 44.1875 33.984375 37.640625 27.21875 \nQ 31.109375 20.453125 19.1875 8.296875 \nz\n\" id=\"DejaVuSans-50\"/>\n      </defs>\n      <g transform=\"translate(303.44125 14.798438)scale(0.1 -0.1)\">\n       <use xlink:href=\"#DejaVuSans-50\"/>\n       <use x=\"63.623047\" xlink:href=\"#DejaVuSans-48\"/>\n       <use x=\"127.246094\" xlink:href=\"#DejaVuSans-48\"/>\n      </g>\n     </g>\n    </g>\n    <g id=\"xtick_6\">\n     <g id=\"line2d_11\">\n      <g>\n       <use style=\"stroke:#000000;stroke-width:0.8;\" x=\"382.735\" xlink:href=\"#m94b8ef1b5a\" y=\"247.078125\"/>\n      </g>\n     </g>\n     <g id=\"line2d_12\">\n      <g>\n       <use style=\"stroke:#000000;stroke-width:0.8;\" x=\"382.735\" xlink:href=\"#m6494aaa711\" y=\"23.878125\"/>\n      </g>\n     </g>\n     <g id=\"text_6\">\n      <!-- 250 -->\n      <g transform=\"translate(373.19125 14.798438)scale(0.1 -0.1)\">\n       <use xlink:href=\"#DejaVuSans-50\"/>\n       <use x=\"63.623047\" xlink:href=\"#DejaVuSans-53\"/>\n       <use x=\"127.246094\" xlink:href=\"#DejaVuSans-48\"/>\n      </g>\n     </g>\n    </g>\n    <g id=\"xtick_7\">\n     <g id=\"line2d_13\">\n      <g>\n       <use style=\"stroke:#000000;stroke-width:0.8;\" x=\"452.485\" xlink:href=\"#m94b8ef1b5a\" y=\"247.078125\"/>\n      </g>\n     </g>\n     <g id=\"line2d_14\">\n      <g>\n       <use style=\"stroke:#000000;stroke-width:0.8;\" x=\"452.485\" xlink:href=\"#m6494aaa711\" y=\"23.878125\"/>\n      </g>\n     </g>\n     <g id=\"text_7\">\n      <!-- 300 -->\n      <defs>\n       <path d=\"M 40.578125 39.3125 \nQ 47.65625 37.796875 51.625 33 \nQ 55.609375 28.21875 55.609375 21.1875 \nQ 55.609375 10.40625 48.1875 4.484375 \nQ 40.765625 -1.421875 27.09375 -1.421875 \nQ 22.515625 -1.421875 17.65625 -0.515625 \nQ 12.796875 0.390625 7.625 2.203125 \nL 7.625 11.71875 \nQ 11.71875 9.328125 16.59375 8.109375 \nQ 21.484375 6.890625 26.8125 6.890625 \nQ 36.078125 6.890625 40.9375 10.546875 \nQ 45.796875 14.203125 45.796875 21.1875 \nQ 45.796875 27.640625 41.28125 31.265625 \nQ 36.765625 34.90625 28.71875 34.90625 \nL 20.21875 34.90625 \nL 20.21875 43.015625 \nL 29.109375 43.015625 \nQ 36.375 43.015625 40.234375 45.921875 \nQ 44.09375 48.828125 44.09375 54.296875 \nQ 44.09375 59.90625 40.109375 62.90625 \nQ 36.140625 65.921875 28.71875 65.921875 \nQ 24.65625 65.921875 20.015625 65.03125 \nQ 15.375 64.15625 9.8125 62.3125 \nL 9.8125 71.09375 \nQ 15.4375 72.65625 20.34375 73.4375 \nQ 25.25 74.21875 29.59375 74.21875 \nQ 40.828125 74.21875 47.359375 69.109375 \nQ 53.90625 64.015625 53.90625 55.328125 \nQ 53.90625 49.265625 50.4375 45.09375 \nQ 46.96875 40.921875 40.578125 39.3125 \nz\n\" id=\"DejaVuSans-51\"/>\n      </defs>\n      <g transform=\"translate(442.94125 14.798438)scale(0.1 -0.1)\">\n       <use xlink:href=\"#DejaVuSans-51\"/>\n       <use x=\"63.623047\" xlink:href=\"#DejaVuSans-48\"/>\n       <use x=\"127.246094\" xlink:href=\"#DejaVuSans-48\"/>\n      </g>\n     </g>\n    </g>\n   </g>\n   <g id=\"matplotlib.axis_2\">\n    <g id=\"ytick_1\">\n     <g id=\"line2d_15\">\n      <defs>\n       <path d=\"M 0 0 \nL -3.5 0 \n\" id=\"m8904e102bf\" style=\"stroke:#000000;stroke-width:0.8;\"/>\n      </defs>\n      <g>\n       <use style=\"stroke:#000000;stroke-width:0.8;\" x=\"33.2875\" xlink:href=\"#m8904e102bf\" y=\"24.575625\"/>\n      </g>\n     </g>\n     <g id=\"text_8\">\n      <!-- 0 -->\n      <g transform=\"translate(19.925 28.374844)scale(0.1 -0.1)\">\n       <use xlink:href=\"#DejaVuSans-48\"/>\n      </g>\n     </g>\n    </g>\n    <g id=\"ytick_2\">\n     <g id=\"line2d_16\">\n      <g>\n       <use style=\"stroke:#000000;stroke-width:0.8;\" x=\"33.2875\" xlink:href=\"#m8904e102bf\" y=\"52.475625\"/>\n      </g>\n     </g>\n     <g id=\"text_9\">\n      <!-- 20 -->\n      <g transform=\"translate(13.5625 56.274844)scale(0.1 -0.1)\">\n       <use xlink:href=\"#DejaVuSans-50\"/>\n       <use x=\"63.623047\" xlink:href=\"#DejaVuSans-48\"/>\n      </g>\n     </g>\n    </g>\n    <g id=\"ytick_3\">\n     <g id=\"line2d_17\">\n      <g>\n       <use style=\"stroke:#000000;stroke-width:0.8;\" x=\"33.2875\" xlink:href=\"#m8904e102bf\" y=\"80.375625\"/>\n      </g>\n     </g>\n     <g id=\"text_10\">\n      <!-- 40 -->\n      <defs>\n       <path d=\"M 37.796875 64.3125 \nL 12.890625 25.390625 \nL 37.796875 25.390625 \nz\nM 35.203125 72.90625 \nL 47.609375 72.90625 \nL 47.609375 25.390625 \nL 58.015625 25.390625 \nL 58.015625 17.1875 \nL 47.609375 17.1875 \nL 47.609375 0 \nL 37.796875 0 \nL 37.796875 17.1875 \nL 4.890625 17.1875 \nL 4.890625 26.703125 \nz\n\" id=\"DejaVuSans-52\"/>\n      </defs>\n      <g transform=\"translate(13.5625 84.174844)scale(0.1 -0.1)\">\n       <use xlink:href=\"#DejaVuSans-52\"/>\n       <use x=\"63.623047\" xlink:href=\"#DejaVuSans-48\"/>\n      </g>\n     </g>\n    </g>\n    <g id=\"ytick_4\">\n     <g id=\"line2d_18\">\n      <g>\n       <use style=\"stroke:#000000;stroke-width:0.8;\" x=\"33.2875\" xlink:href=\"#m8904e102bf\" y=\"108.275625\"/>\n      </g>\n     </g>\n     <g id=\"text_11\">\n      <!-- 60 -->\n      <defs>\n       <path d=\"M 33.015625 40.375 \nQ 26.375 40.375 22.484375 35.828125 \nQ 18.609375 31.296875 18.609375 23.390625 \nQ 18.609375 15.53125 22.484375 10.953125 \nQ 26.375 6.390625 33.015625 6.390625 \nQ 39.65625 6.390625 43.53125 10.953125 \nQ 47.40625 15.53125 47.40625 23.390625 \nQ 47.40625 31.296875 43.53125 35.828125 \nQ 39.65625 40.375 33.015625 40.375 \nz\nM 52.59375 71.296875 \nL 52.59375 62.3125 \nQ 48.875 64.0625 45.09375 64.984375 \nQ 41.3125 65.921875 37.59375 65.921875 \nQ 27.828125 65.921875 22.671875 59.328125 \nQ 17.53125 52.734375 16.796875 39.40625 \nQ 19.671875 43.65625 24.015625 45.921875 \nQ 28.375 48.1875 33.59375 48.1875 \nQ 44.578125 48.1875 50.953125 41.515625 \nQ 57.328125 34.859375 57.328125 23.390625 \nQ 57.328125 12.15625 50.6875 5.359375 \nQ 44.046875 -1.421875 33.015625 -1.421875 \nQ 20.359375 -1.421875 13.671875 8.265625 \nQ 6.984375 17.96875 6.984375 36.375 \nQ 6.984375 53.65625 15.1875 63.9375 \nQ 23.390625 74.21875 37.203125 74.21875 \nQ 40.921875 74.21875 44.703125 73.484375 \nQ 48.484375 72.75 52.59375 71.296875 \nz\n\" id=\"DejaVuSans-54\"/>\n      </defs>\n      <g transform=\"translate(13.5625 112.074844)scale(0.1 -0.1)\">\n       <use xlink:href=\"#DejaVuSans-54\"/>\n       <use x=\"63.623047\" xlink:href=\"#DejaVuSans-48\"/>\n      </g>\n     </g>\n    </g>\n    <g id=\"ytick_5\">\n     <g id=\"line2d_19\">\n      <g>\n       <use style=\"stroke:#000000;stroke-width:0.8;\" x=\"33.2875\" xlink:href=\"#m8904e102bf\" y=\"136.175625\"/>\n      </g>\n     </g>\n     <g id=\"text_12\">\n      <!-- 80 -->\n      <defs>\n       <path d=\"M 31.78125 34.625 \nQ 24.75 34.625 20.71875 30.859375 \nQ 16.703125 27.09375 16.703125 20.515625 \nQ 16.703125 13.921875 20.71875 10.15625 \nQ 24.75 6.390625 31.78125 6.390625 \nQ 38.8125 6.390625 42.859375 10.171875 \nQ 46.921875 13.96875 46.921875 20.515625 \nQ 46.921875 27.09375 42.890625 30.859375 \nQ 38.875 34.625 31.78125 34.625 \nz\nM 21.921875 38.8125 \nQ 15.578125 40.375 12.03125 44.71875 \nQ 8.5 49.078125 8.5 55.328125 \nQ 8.5 64.0625 14.71875 69.140625 \nQ 20.953125 74.21875 31.78125 74.21875 \nQ 42.671875 74.21875 48.875 69.140625 \nQ 55.078125 64.0625 55.078125 55.328125 \nQ 55.078125 49.078125 51.53125 44.71875 \nQ 48 40.375 41.703125 38.8125 \nQ 48.828125 37.15625 52.796875 32.3125 \nQ 56.78125 27.484375 56.78125 20.515625 \nQ 56.78125 9.90625 50.3125 4.234375 \nQ 43.84375 -1.421875 31.78125 -1.421875 \nQ 19.734375 -1.421875 13.25 4.234375 \nQ 6.78125 9.90625 6.78125 20.515625 \nQ 6.78125 27.484375 10.78125 32.3125 \nQ 14.796875 37.15625 21.921875 38.8125 \nz\nM 18.3125 54.390625 \nQ 18.3125 48.734375 21.84375 45.5625 \nQ 25.390625 42.390625 31.78125 42.390625 \nQ 38.140625 42.390625 41.71875 45.5625 \nQ 45.3125 48.734375 45.3125 54.390625 \nQ 45.3125 60.0625 41.71875 63.234375 \nQ 38.140625 66.40625 31.78125 66.40625 \nQ 25.390625 66.40625 21.84375 63.234375 \nQ 18.3125 60.0625 18.3125 54.390625 \nz\n\" id=\"DejaVuSans-56\"/>\n      </defs>\n      <g transform=\"translate(13.5625 139.974844)scale(0.1 -0.1)\">\n       <use xlink:href=\"#DejaVuSans-56\"/>\n       <use x=\"63.623047\" xlink:href=\"#DejaVuSans-48\"/>\n      </g>\n     </g>\n    </g>\n    <g id=\"ytick_6\">\n     <g id=\"line2d_20\">\n      <g>\n       <use style=\"stroke:#000000;stroke-width:0.8;\" x=\"33.2875\" xlink:href=\"#m8904e102bf\" y=\"164.075625\"/>\n      </g>\n     </g>\n     <g id=\"text_13\">\n      <!-- 100 -->\n      <g transform=\"translate(7.2 167.874844)scale(0.1 -0.1)\">\n       <use xlink:href=\"#DejaVuSans-49\"/>\n       <use x=\"63.623047\" xlink:href=\"#DejaVuSans-48\"/>\n       <use x=\"127.246094\" xlink:href=\"#DejaVuSans-48\"/>\n      </g>\n     </g>\n    </g>\n    <g id=\"ytick_7\">\n     <g id=\"line2d_21\">\n      <g>\n       <use style=\"stroke:#000000;stroke-width:0.8;\" x=\"33.2875\" xlink:href=\"#m8904e102bf\" y=\"191.975625\"/>\n      </g>\n     </g>\n     <g id=\"text_14\">\n      <!-- 120 -->\n      <g transform=\"translate(7.2 195.774844)scale(0.1 -0.1)\">\n       <use xlink:href=\"#DejaVuSans-49\"/>\n       <use x=\"63.623047\" xlink:href=\"#DejaVuSans-50\"/>\n       <use x=\"127.246094\" xlink:href=\"#DejaVuSans-48\"/>\n      </g>\n     </g>\n    </g>\n    <g id=\"ytick_8\">\n     <g id=\"line2d_22\">\n      <g>\n       <use style=\"stroke:#000000;stroke-width:0.8;\" x=\"33.2875\" xlink:href=\"#m8904e102bf\" y=\"219.875625\"/>\n      </g>\n     </g>\n     <g id=\"text_15\">\n      <!-- 140 -->\n      <g transform=\"translate(7.2 223.674844)scale(0.1 -0.1)\">\n       <use xlink:href=\"#DejaVuSans-49\"/>\n       <use x=\"63.623047\" xlink:href=\"#DejaVuSans-52\"/>\n       <use x=\"127.246094\" xlink:href=\"#DejaVuSans-48\"/>\n      </g>\n     </g>\n    </g>\n   </g>\n   <g id=\"patch_3\">\n    <path d=\"M 33.2875 247.078125 \nL 33.2875 23.878125 \n\" style=\"fill:none;stroke:#000000;stroke-linecap:square;stroke-linejoin:miter;stroke-width:0.8;\"/>\n   </g>\n   <g id=\"patch_4\">\n    <path d=\"M 479.6875 247.078125 \nL 479.6875 23.878125 \n\" style=\"fill:none;stroke:#000000;stroke-linecap:square;stroke-linejoin:miter;stroke-width:0.8;\"/>\n   </g>\n   <g id=\"patch_5\">\n    <path d=\"M 33.2875 247.078125 \nL 479.6875 247.078125 \n\" style=\"fill:none;stroke:#000000;stroke-linecap:square;stroke-linejoin:miter;stroke-width:0.8;\"/>\n   </g>\n   <g id=\"patch_6\">\n    <path d=\"M 33.2875 23.878125 \nL 479.6875 23.878125 \n\" style=\"fill:none;stroke:#000000;stroke-linecap:square;stroke-linejoin:miter;stroke-width:0.8;\"/>\n   </g>\n  </g>\n </g>\n <defs>\n  <clipPath id=\"p63fbd826f1\">\n   <rect height=\"223.2\" width=\"446.4\" x=\"33.2875\" y=\"23.878125\"/>\n  </clipPath>\n </defs>\n</svg>\n",
      "image/png": "[encoded data removed]"
     },
     "metadata": {
      "needs_background": "light"
     }
    }
   ],
   "source": [
    "import numpy as np\n",
    "import matplotlib.pyplot as plt \n",
    "u_flat = np.load('../data/platekepsilon.npy', allow_pickle=True)\n",
    "print(u_flat.shape)\n",
    "# u_flat = u_comp['arr_0']\n",
    "u = u_flat.reshape(u_flat.shape[0], 360, 180)\n",
    "u = np.transpose(u, (0, 2, 1))[:,:-20,:-40]\n",
    "# u_new = np.zeros((u.shape[0], 80, 640))\n",
    "# u_new[..., :320] = u\n",
    "# u = u_new.astype(np.float32)\n",
    "print(u.shape)\n",
    "print(np.max(u_flat), np.min(u_flat))\n",
    "plt.matshow(u[400])"
   ]
  },
  {
   "cell_type": "code",
   "execution_count": null,
   "metadata": {},
   "outputs": [],
   "source": []
  }
 ],
 "metadata": {
  "kernelspec": {
   "display_name": "Python 3.7.6 64-bit ('pytorch_env': conda)",
   "language": "python",
   "name": "python37664bitpytorchenvcondac65bc6c7ab474553ae2b82822152b36f"
  },
  "language_info": {
   "codemirror_mode": {
    "name": "ipython",
    "version": 3
   },
   "file_extension": ".py",
   "mimetype": "text/x-python",
   "name": "python",
   "nbconvert_exporter": "python",
   "pygments_lexer": "ipython3",
   "version": "3.7.6"
  }
 },
 "nbformat": 4,
 "nbformat_minor": 2
}