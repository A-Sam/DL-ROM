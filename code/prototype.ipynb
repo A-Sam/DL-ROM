{
 "cells": [
  {
   "cell_type": "code",
   "execution_count": null,
   "metadata": {},
   "outputs": [],
   "source": [
    "from netCDF4 import Dataset\n",
    "import numpy as np\n",
    "import matplotlib.pyplot as plt \n",
    "from matplotlib.animation import ArtistAnimation, FFMpegWriter\n",
    "\n",
    "path_bousinessq = \"./boussinesq.nc\"\n",
    "path_2dcylinder = \"./cylinder2d.nc\""
   ]
  },
  {
   "cell_type": "code",
   "execution_count": null,
   "metadata": {},
   "outputs": [],
   "source": [
    "def loadDataset(path):\n",
    "    return Dataset(path)"
   ]
  },
  {
   "cell_type": "code",
   "execution_count": null,
   "metadata": {
    "tags": []
   },
   "outputs": [],
   "source": [
    "cylinder2D = loadDataset(path_2dcylinder)\n",
    "boussinesq = loadDataset(path_bousinessq)\n",
    "print(cylinder2D)\n",
    "print(boussinesq)"
   ]
  },
  {
   "cell_type": "markdown",
   "metadata": {},
   "source": [
    "## Info about the datasets\n",
    "\n",
    "### Cylinder 2D\n",
    "\n",
    "    dimensions(sizes): xdim(640), ydim(80), tdim(1501), const(1)\n",
    "\n",
    "    variables(dimensions): float32 u(tdim,ydim,xdim), float32 v(tdim,ydim,xdim), float32 xdim(xdim), float32 ydim(ydim), float32 tdim(tdim), float32 nu(const),                             float32 radius(const), float32 Re(const)\n",
    "\n",
    "### Bousinessq\n",
    "\n",
    "\n",
    "    dimensions(sizes): xdim(150), ydim(450), tdim(2001), const(1)\n",
    "\n",
    "    variables(dimensions): float32 u(tdim,ydim,xdim), float32 v(tdim,ydim,xdim), float32 xdim(xdim), float32 ydim(ydim), float32 tdim(tdim),\n",
    "                           float32 radius(const), float32 obstacle_pos_x(const), float32 obstacle_pos_y(const)\n",
    "\n",
    "### Accessing variables\n",
    "\n",
    "    cylinder2D['variable_name']\n"
   ]
  },
  {
   "cell_type": "code",
   "execution_count": null,
   "metadata": {
    "tags": []
   },
   "outputs": [],
   "source": [
    "type(cylinder2D['xdim'])\n",
    "print(cylinder2D['u'].shape)\n",
    "print(cylinder2D['tdim'].shape)"
   ]
  },
  {
   "cell_type": "code",
   "execution_count": null,
   "metadata": {
    "tags": []
   },
   "outputs": [],
   "source": [
    "data = cylinder2D\n",
    "\n",
    "def velFromUV(data):\n",
    "    \n",
    "    u = data['u'][1000,:,:]\n",
    "    v = data['v'][1000,:,:]\n",
    "\n",
    "    vel = np.sqrt(u**2 + v**2)"
   ]
  },
  {
   "cell_type": "code",
   "execution_count": null,
   "metadata": {
    "tags": []
   },
   "outputs": [],
   "source": [
    "u = np.array(cylinder2D['u'])\n",
    "\n",
    "fig, ax = plt.subplots()\n",
    "ims = [[ax.imshow(u[i], animated=True)] for i in range(1, len(u))]\n",
    "\n",
    "ani = ArtistAnimation(fig, ims, interval=1000 , blit=True, repeat_delay=1000)\n",
    "\n",
    "# plt.show()\n",
    "\n",
    "# writer = FFMpegWriter(fps=15, metadata=dict(artist='Me'), bitrate=1800)\n",
    "# ani.save(\"movie.mp4\", writer=writer)"
   ]
  },
  {
   "cell_type": "code",
   "execution_count": null,
   "metadata": {},
   "outputs": [],
   "source": [
    "plt.matshow(data['v'][1000,:,:])\n",
    "plt.axis('off')\n",
    "plt.show()"
   ]
  },
  {
   "cell_type": "markdown",
   "metadata": {},
   "source": [
    "```\n",
    "% Create snapshot matrix\n",
    "Nt = length(S(1,1,:));\n",
    "S = reshape(permute(S, [3 2 1]), Nt, [ ]); % Reshape data into a matrix S with Nt rows\n",
    "U = S - repmat(mean(S,1), Nt, 1); % Subtract the temporal mean from each row\n",
    "\n",
    "% Create correlation matrix\n",
    "C_s = (U*U')/(Nt-1);\n",
    "\n",
    "% Solve eigenvalue problem\n",
    "[A_s LAM_s] = eig(C_s,'vector');\n",
    "\n",
    "% Sort eigenvalues and eigenvectors\n",
    "[lambda_s,ilam_s] = sort(LAM_s,'descend');\n",
    "A_s = A_s(:, ilam_s);\n",
    "\n",
    "% These are the temporal modes\n",
    "% Calculate spatial coefficients\n",
    "PHI_s = U'*A_s;\n",
    "\n",
    "% Reconstruction on mode k\n",
    "k = 1; % for example\n",
    "Utilde_k_s = A_s(:,k)*PHI_s(:,k)';\n",
    "\n",
    "% Normalization to match direct and snapshot modes (optional)\n",
    "PHI = normc(PHI_s);\n",
    "\n",
    "% Spatial modes\n",
    "A = U*PHI;\n",
    "\n",
    "% Time coefficients\n",
    "Utilde_k = A(:,k)*PHI(:,k)';\n",
    "% Reconstruction on mode k\n",
    "```"
   ]
  },
  {
   "cell_type": "code",
   "execution_count": null,
   "metadata": {
    "tags": []
   },
   "outputs": [],
   "source": [
    "S = np.transpose(u, (1,2,0))\n",
    "print(S.shape)\n",
    "Nt = u.shape[0]\n",
    "print(Nt)\n",
    "U = "
   ]
  },
  {
   "cell_type": "code",
   "execution_count": null,
   "metadata": {},
   "outputs": [],
   "source": [
    "from zipfile import ZipFile\n",
    "\n",
    "url = \"https://cgl.ethz.ch/Downloads/Data/ScientificData/cylinder2d_nc.zip\"\n",
    "file_name = \"../data2/\" + url.split('/')[-1]\n",
    "with ZipFile(file_name, 'r') as zipObj:\n",
    "   zipObj.extractall('temp')"
   ]
  },
  {
   "cell_type": "markdown",
   "metadata": {},
   "source": [
    "# Visualization"
   ]
  },
  {
   "cell_type": "code",
   "execution_count": null,
   "metadata": {},
   "outputs": [],
   "source": [
    "import numpy as np\n",
    "import matplotlib.pyplot as plt\n",
    "import matplotlib"
   ]
  },
  {
   "cell_type": "code",
   "execution_count": null,
   "metadata": {},
   "outputs": [],
   "source": [
    "Input=np.load('../data/cylinder_u.npy')"
   ]
  },
  {
   "cell_type": "code",
   "execution_count": null,
   "metadata": {},
   "outputs": [],
   "source": [
    "Output=np.load('../output/16_400.npy')\n",
    "# ip=np.load('../input/200.npy')"
   ]
  },
  {
   "cell_type": "code",
   "execution_count": null,
   "metadata": {},
   "outputs": [],
   "source": [
    "plt.imshow(Output[0,-1])"
   ]
  },
  {
   "cell_type": "code",
   "execution_count": null,
   "metadata": {},
   "outputs": [],
   "source": [
    "plt.imshow(Input[1475])\n",
    "# plt.imshow(ip[510])"
   ]
  },
  {
   "cell_type": "code",
   "execution_count": null,
   "metadata": {},
   "outputs": [],
   "source": [
    "# plt.imshow(Input[500])\n",
    "plt.imshow(Input[950])"
   ]
  },
  {
   "cell_type": "code",
   "execution_count": null,
   "metadata": {},
   "outputs": [],
   "source": [
    "fig=plt.figure(1)\n",
    "plt.subplot(2, 1, 1)\n",
    "plt.imshow(Output[800])\n",
    "plt.subplot(2,1,2)\n",
    "plt.imshow(Input[800])\n",
    "plt.savefig('comp')"
   ]
  },
  {
   "cell_type": "code",
   "execution_count": null,
   "metadata": {},
   "outputs": [],
   "source": [
    "plt.imshow(Output[800]-ip[800])\n",
    "plt.colorbar(orientation='horizontal')"
   ]
  },
  {
   "cell_type": "code",
   "execution_count": null,
   "metadata": {},
   "outputs": [],
   "source": [
    "np.max(Output[200][:,100]-Input[200][:,100])"
   ]
  },
  {
   "cell_type": "code",
   "execution_count": null,
   "metadata": {},
   "outputs": [],
   "source": [
    "print(np.min(Input[800]))\n",
    "print(np.min(Output[800]))\n",
    "print(np.max(Input[800]))\n",
    "print(np.max(Output[800]))"
   ]
  },
  {
   "cell_type": "code",
   "execution_count": null,
   "metadata": {},
   "outputs": [],
   "source": [
    "print(np.min(ip[800]))\n",
    "print(np.max(ip[800]))"
   ]
  },
  {
   "cell_type": "code",
   "execution_count": null,
   "metadata": {},
   "outputs": [],
   "source": [
    "import numpy as np\n",
    "import pyJHTDB"
   ]
  },
  {
   "cell_type": "code",
   "execution_count": null,
   "metadata": {},
   "outputs": [],
   "source": [
    "# 2048×512×1536\n",
    "t = np.linspace(0, 8*np.pi, 512)\n",
    "l = np.linspace(-1, 1, 128)\n",
    "x = np.zeros((t.shape[0], l.shape[0], 3), np.float32)\n",
    "# print(t[np.newaxis, :].shape)\n",
    "x[:, :, 0] = t[:, np.newaxis]\n",
    "x[:, :, 1] = l[np.newaxis,:]\n",
    "x[:, :, 2] = 0.\n",
    "print(x.shape)\n",
    "# x = x.transpose(0,2,1)\n",
    "# print(x)"
   ]
  },
  {
   "cell_type": "code",
   "execution_count": null,
   "metadata": {},
   "outputs": [],
   "source": [
    "t1 = np.linspace(0, 2*3.14, 256)\n",
    "t2 = np.linspace(-0.5, 0.5, 256)\n",
    "x = np.zeros((t1.shape[0], t2.shape[0], 3), np.float32)\n",
    "x[:, :, 0] = t1[np.newaxis, :]\n",
    "x[:, :, 1] = t2[:, np.newaxis]\n",
    "x[:, :, 2] = .0\n",
    "print(x.shape)"
   ]
  },
  {
   "cell_type": "code",
   "execution_count": null,
   "metadata": {},
   "outputs": [],
   "source": [
    "xy = np.mgrid[0:2048:8*np.pi, 0:1534:3*np.pi]#.reshape(2048,-1).T\n",
    "print(xy.shape)\n",
    "# print(xy)"
   ]
  },
  {
   "cell_type": "code",
   "execution_count": null,
   "metadata": {},
   "outputs": [],
   "source": [
    "lJHTDB = pyJHTDB.libJHTDB()\n",
    "lJHTDB.initialize()\n",
    "\n",
    "#Add token\n",
    "auth_token  = \"edu.cmu.andrew.ppant-68a123d6\"  #Replace with your own token here\n",
    "lJHTDB.add_token(auth_token)\n",
    "\n",
    "import pyJHTDB.dbinfo\n",
    "T = pyJHTDB.dbinfo.channel5200['time'][-1]\n",
    "# T =10.0\n",
    "\n",
    "# Select points in the database to query\n",
    "# lpoints = []\n",
    "# for i in range(0,3):\n",
    "#     lpoints.append([np.random.uniform(0, 8*3.14),np.random.uniform(-1, 1),np.random.uniform(0, 3*3.14)])\n",
    "\n",
    "# # 2D array with single precision values\n",
    "# points = np.array(lpoints,dtype='float32')\n",
    "\n",
    "# time = np.random.random()*T\n",
    "time = 24.0\n",
    "# u = lJHTDB.getData(\n",
    "#                time,\n",
    "#                x,\n",
    "#                sinterp = 4,\n",
    "#                data_set ='channel5200',\n",
    "#                getFunction='getVelocity')\n",
    "# ubox = lJHTDB.getBoxFilter(\n",
    "#                time,\n",
    "#                x,\n",
    "#                field = 'velocity',\n",
    "#                data_set = 'channel',\n",
    "#                filter_width = 5*(2*np.pi / 1024))\n",
    "# lJHTDB.finalize()\n",
    "result = lJHTDB.getData(time, x, data_set='channel',\n",
    "        sinterp = 4, tinterp = 0,\n",
    "        getFunction = 'getVelocity')\n",
    "print(result.shape)\n",
    "# print(result)\n",
    "# print(u.shape)\n",
    "print(time)"
   ]
  },
  {
   "cell_type": "code",
   "execution_count": null,
   "metadata": {},
   "outputs": [],
   "source": [
    "import matplotlib.pyplot as plt\n",
    "plt.imshow(result[:,:,0])\n",
    "plt.imsave('try.png', result[:,:,0])"
   ]
  },
  {
   "cell_type": "code",
   "execution_count": null,
   "metadata": {},
   "outputs": [],
   "source": [
    "# print(u.shape)\n",
    "fig = plt.figure(figsize = (t1[-1] - t1[0], t2[-1] - t2[0]))\n",
    "a = fig.add_subplot(121)\n",
    "a.set_axis_off()\n",
    "a.imshow([:,:,0],\n",
    "         extent = [t1[0], t1[-1] - t1[0], t2[0], t2[-1] - t2[0]],\n",
    "         interpolation = 'none')"
   ]
  },
  {
   "cell_type": "code",
   "execution_count": null,
   "metadata": {},
   "outputs": [],
   "source": [
    "import shutil\n",
    "T = np.arange(0., 25.0, 0.01)\n",
    "X = np.linspace(0, 8*np.pi, 4)\n",
    "Y = np.linspace(-1, 1, 4)\n",
    "Z = np.arange(0, 3*np.pi, 0.1)x[:, :, 0] = t1[np.newaxis, :]\n",
    "x[:, :, 1] = t2[:, np.newaxis]\n",
    "x[:, :, 2] = .0\n",
    "\n",
    "x = np.zeros((p.shape[0], p.shape[0], 3), np.float32)\n",
    "les = []\n",
    "dns = []\n",
    "count = 0\n",
    "# if os.path.exists('DNS-LES/les'):\n",
    "#     shutil.rmtree('DNS-LES/les')\n",
    "# if os.path.exists('DNS-LES/dns'):\n",
    "#     shutil.rmtree('DNS-LES/dns')\n",
    "if not os.path.exists('DNS-LES/les'):\n",
    "    os.mkdir('DNS-LES/les')\n",
    "\n",
    "if not os.path.exists('DNS-LES/dns'):\n",
    "    os.mkdir('DNS-LES/dns')"
   ]
  },
  {
   "cell_type": "code",
   "execution_count": null,
   "metadata": {},
   "outputs": [],
   "source": [
    "\n",
    "def create_turb_dataset(t):\n",
    "    count = 0\n",
    "    Nx = 512\n",
    "    Ny = 128\n",
    "    #for t in T:\n",
    "    start_time = time.time()\n",
    "    print(\"Time:\",t)\n",
    "    for idx in range(len(X)-1):\n",
    "        px = np.linspace(X[idx], X[idx+1], Nx)\n",
    "        for idy in range(len(Y)-1):\n",
    "            py = np.linspace(Y[idy], Y[idy+1], Ny)\n",
    "            for z in Z:\n",
    "            \n",
    "                x[:, :, 0] = px[np.newaxis, :]\n",
    "                x[:, :, 1] = py[:, np.newaxis]\n",
    "                x[:, :, 2] = z\n",
    "\n",
    "                u, u_box= u_data(t, x)\n",
    "                #les.append(u_box)\n",
    "                #dns.append(u)\n",
    "                if not os.path.exists('DNS-LES/les/%.2f'%t):\n",
    "                    os.mkdir('DNS-LES/les/%.2f'%t)\n",
    "                if not os.path.exists('DNS-LES/dns/%.2f'%t):\n",
    "                    os.mkdir('DNS-LES/dns/%.2f'%t)\n",
    "\n",
    "                for itx in range(3):\n",
    "                    norm1 = cv2.normalize(u[:,:,itx], 0, 255, norm_type=cv2.NORM_MINMAX, dtype=cv2.CV_32F)\n",
    "                    norm2 = cv2.normalize(u_box[:,:,itx], 0, 255,norm_type=cv2.NORM_MINMAX, dtype=cv2.CV_32F)\n",
    "                    if count%100 == 0:\n",
    "                        print(count)\n",
    "\n",
    "                    cv2.imwrite(\"DNS-LES/dns/%.2f/%d.png\"%(t,count), norm1)\n",
    "                    cv2.imwrite(\"DNS-LES/les/%.2f/%d.png\"%(t,count), norm2)\n",
    "                    count+=1\n",
    "                    end_time = time.time()\n",
    "    print(\"Time: {:.2f} s\".format(end_time-start_time))"
   ]
  },
  {
   "cell_type": "code",
   "execution_count": null,
   "metadata": {},
   "outputs": [],
   "source": [
    "# 2048×512×1536\n",
    "px = np.linspace(0, 8*np.pi, 512)\n",
    "py = np.linspace(-1, 1, 128)\n",
    "x = np.zeros((px.shape[0], py.shape[0], 3), np.float32)\n",
    "# print(t[np.newaxis, :].shape)\n",
    "x[:, :, 0] = px[:, np.newaxis]\n",
    "x[:, :, 1] = py[np.newaxis,:]\n",
    "x[:, :, 2] = 0.\n",
    "\n",
    "T = np.linspace(0., 25.9, 1000)\n",
    "dataset = np.zeros((len(T), 512, 128))\n",
    "\n",
    "for idx, time in enumerate(T):\n",
    "    print(idx)\n",
    "    dataset[idx] = lJHTDB.getData(time, x, data_set='channel',\n",
    "        sinterp = 4, tinterp = 0,\n",
    "        getFunction = 'getVelocity')[:,:,0]\n",
    "print(dataset.shape)\n",
    "np.save('../data/channel_data.npy', dataset)"
   ]
  },
  {
   "cell_type": "code",
   "execution_count": null,
   "metadata": {},
   "outputs": [],
   "source": [
    "A = np.zeros(5)\n",
    "print(A)"
   ]
  },
  {
   "cell_type": "code",
   "execution_count": null,
   "metadata": {},
   "outputs": [],
   "source": [
    "import numpy as np\n",
    "import matplotlib.pyplot as plt "
   ]
  },
  {
   "cell_type": "code",
   "execution_count": null,
   "metadata": {},
   "outputs": [],
   "source": [
    "dataset = np.load('../data/channel_data_2500.npy')\n",
    "print(dataset.shape)\n",
    "plt.imshow(dataset[-1])\n",
    "plt.show()"
   ]
  },
  {
   "cell_type": "code",
   "execution_count": null,
   "metadata": {},
   "outputs": [],
   "source": [
    "import numpy as np\n",
    "import matplotlib.pyplot as plt \n",
    "\n",
    "u_comp = np.load('../data/Velocity160.npz', allow_pickle=True)\n",
    "u_flat = u_comp['arr_0']\n",
    "print(u_flat.shape)\n",
    "u = u_flat.reshape(u_flat.shape[0], 320, 80)\n",
    "u = np.transpose(u, (0, 2, 1))\n",
    "u_new = np.zeros((u.shape[0], 80, 640))\n",
    "u_new[..., :320] = u\n",
    "u = u_new.astype(np.float32)\n",
    "plt.matshow(u[2000])"
   ]
  },
  {
   "cell_type": "code",
   "execution_count": null,
   "metadata": {},
   "outputs": [],
   "source": [
    "for it in u:\n",
    "    print(it)"
   ]
  },
  {
   "cell_type": "code",
   "execution_count": null,
   "metadata": {},
   "outputs": [],
   "source": [
    "u['arr_0'].shape"
   ]
  },
  {
   "cell_type": "code",
   "execution_count": null,
   "metadata": {},
   "outputs": [],
   "source": [
    "u = np.load('../data/Velocity160.npz', allow_pickle=True)\n",
    "u = u_comp['arr_0']\n",
    "# u = u_flat.reshape(u_flat.shape[0], 320, 80)\n",
    "# u = np.transpose(u, (0, 2, 1))\n",
    "print(u.shape)\n",
    "plt.matshow(u[200])\n"
   ]
  },
  {
   "cell_type": "code",
   "execution_count": null,
   "metadata": {},
   "outputs": [],
   "source": [
    "dataset = np.load('../data/channel_data_2500.npy')\n",
    "print(dataset.shape)"
   ]
  },
  {
   "cell_type": "code",
   "execution_count": null,
   "metadata": {},
   "outputs": [],
   "source": [
    "import numpy as np\n",
    "import matplotlib.pyplot as plt \n",
    "u_flat = np.load('../data/airfoil_80x320_data.npy', allow_pickle=True)\n",
    "# u_flat = u_comp['arr_0']\n",
    "u = u_flat.reshape(u_flat.shape[0], 320, 80)\n",
    "u = np.transpose(u, (0, 2, 1))[:,:,140:-20]\n",
    "# u_new = np.zeros((u.shape[0], 80, 640))\n",
    "# u_new[..., :320] = u\n",
    "# u = u_new.astype(np.float32)\n",
    "print(u.shape)\n",
    "print(np.max(u_flat), np.min(u_flat))\n",
    "plt.matshow(u[400])"
   ]
  },
  {
   "cell_type": "code",
   "execution_count": null,
   "metadata": {},
   "outputs": [],
   "source": [
    "import numpy as np\n",
    "import matplotlib.pyplot as plt \n",
    "u_flat = np.load('../data/platekepsilon.npy', allow_pickle=True)\n",
    "print(u_flat.shape)\n",
    "# u_flat = u_comp['arr_0']\n",
    "u = u_flat.reshape(u_flat.shape[0], 360, 180)\n",
    "u = np.transpose(u, (0, 2, 1))[:,:-20,:-40]\n",
    "# u_new = np.zeros((u.shape[0], 80, 640))\n",
    "# u_new[..., :320] = u\n",
    "# u = u_new.astype(np.float32)\n",
    "print(u.shape)\n",
    "print(np.max(u_flat), np.min(u_flat))\n",
    "plt.matshow(u[400])"
   ]
  },
  {
   "cell_type": "code",
   "execution_count": null,
   "metadata": {},
   "outputs": [],
   "source": [
    "import numpy as np\n",
    "import matplotlib.pyplot as plt\n",
    "labels = ['2D_cylinder', '2D_sq_cyl', '2D_plate']\n",
    "\n",
    "dl_rom = [0.0152, 0.0150, 0.0151]\n",
    "cfd = [0.12, 0.112, 0.128]\n",
    "\n",
    "# dl_rom = [0.926, 0.851, 0.772]\n",
    "# cfd = [0.912, 0.828, 0.737]\n",
    "\n",
    "\n",
    "x = np.arange(len(labels))  # the label locations\n",
    "width = 0.3  # the width of the bars\n",
    "\n",
    "fig, ax = plt.subplots()\n",
    "rects1 = ax.bar(x - width/2, cfd, width, label='CFD', color='gold')\n",
    "rects2 = ax.bar(x + width/2, dl_rom, width, label='DL-ROM', color='darkorange')\n",
    "\n",
    "# rects1 = ax.bar(x - width/2, cfd, width, label='LR_Input', color='royalblue')\n",
    "# rects2 = ax.bar(x + width/2, dl_rom, width, label='dl_rom', color='yellowgreen')\n",
    "\n",
    "# Add some text for labels, title and custom x-axis tick labels, etc.\n",
    "ax.set_ylabel('Iteration Time (s)')\n",
    "ax.set_ylim(0,0.2)\n",
    "# ax.set_ylabel('SSIM')\n",
    "# ax.set_xlabel('Dataset')\n",
    "\n",
    "ax.tick_params(axis = 'both', which = 'major', labelsize = 14)\n",
    "ax.yaxis.label.set_size(13)\n",
    "\n",
    "# ax.set_title('Scores by group and gender')\n",
    "ax.set_xticks(x)\n",
    "ax.set_xticklabels(labels)\n",
    "ax.legend()\n",
    "\n",
    "\n",
    "def autolabel(rects):\n",
    "    \"\"\"Attach a text label above each bar in *rects*, displaying its height.\"\"\"\n",
    "    for rect in rects:\n",
    "        height = rect.get_height()\n",
    "        ax.annotate('{}'.format(height),\n",
    "                    xy=(rect.get_x() + rect.get_width() / 2, height),\n",
    "                    xytext=(0, 3),  # 3 points vertical offset\n",
    "                    textcoords=\"offset points\",\n",
    "                    ha='center', va='bottom')\n",
    "\n",
    "\n",
    "autolabel(rects1)\n",
    "autolabel(rects2)\n",
    "\n",
    "# fig.tight_layout()\n",
    "# plt.savefig(f'barplot_PSNR.eps', dpi=600)\n",
    "# plt.savefig(f'barplot_SSIM.eps', dpi=600)\n",
    "plt.savefig(f'barplot_time.eps', dpi=600)\n",
    "\n",
    "plt.show()"
   ]
  },
  {
   "cell_type": "code",
   "execution_count": null,
   "metadata": {},
   "outputs": [],
   "source": [
    "datasets = ['2d_cylinder_CFD', '2d_sq_cyl']#,['2d_plate', 'channel_flow', 'SST']\n",
    "# datasets = ['2d_plate', 'channel_flow', 'SST']\n",
    "# x = np.arange(4)\n",
    "A = np.zeros((5, 20))\n",
    "\n",
    "fig, ax = plt.subplots()\n",
    "ax.tick_params(axis = 'both', which = 'major', labelsize = 16)\n",
    "ax.yaxis.label.set_size(16)\n",
    "ax.xaxis.label.set_size(16)\n",
    "ax.set_ylabel('Negative Log MSE')\n",
    "ax.set_xlabel('Iterations')\n",
    "ax.set_xlim(-.25,20)\n",
    "ax.set_ylim(4.5,10.5)\n",
    "# plt.xticks(x, labels, rotation ='vertical')\n",
    "\n",
    "for it, dname in enumerate(datasets):\n",
    "    mse = np.load(f'../simulate/{dname}/mse.npy')[:20]\n",
    "    A[it] = mse\n",
    "    plt.plot(-np.log(mse), \"o-\",label = dname)\n",
    "    plt.legend(loc='best')\n",
    "\n",
    "fig.tight_layout()\n",
    "plt.savefig(f'MSE_vs_iteration_1.eps', dpi=600)\n",
    "plt.show()"
   ]
  },
  {
   "cell_type": "code",
   "execution_count": null,
   "metadata": {},
   "outputs": [],
   "source": [
    "import os\n",
    "os.getcwd()"
   ]
  },
  {
   "cell_type": "code",
   "execution_count": null,
   "metadata": {},
   "outputs": [],
   "source": [
    "reduced order modelling for temporal fluid flow prediction using deep learning\n",
    "Deep learning based reduced order modelling for temporal fluid flow prediction "
   ]
  },
  {
   "cell_type": "code",
   "execution_count": null,
   "metadata": {},
   "outputs": [],
   "source": [
    "def load_transfer_learning(pretrained, model, PATH):\n",
    "\n",
    "    checkpoint = torch.load(PATH)\n",
    "    model.load_state_dict(checkpoint, strict=False)\n",
    "\n",
    "    layers = []\n",
    "\n",
    "    for param in pretrained.named_parameters():\n",
    "        print(param[0])\n",
    "        layers.append(param[0])\n",
    "\n",
    "    for param in model.named_parameters():\n",
    "        if param[0] in layers:\n",
    "            param[1].requires_grad = False\n",
    "\n",
    "    # for param in model.named_parameters():\n",
    "    #     print(param[0], param[1].requires_grad)\n",
    "\n",
    "    return model"
   ]
  },
  {
   "cell_type": "code",
   "execution_count": 150,
   "metadata": {},
   "outputs": [],
   "source": [
    "def load_transfer_learning_UNet_3D(pretrained, model, PATH, req_grad=True):\n",
    "\n",
    "    checkpoint = torch.load(PATH)\n",
    "    model.load_state_dict(checkpoint, strict=False)\n",
    "\n",
    "    layers = {}\n",
    "    # print(model.named_parameters())\n",
    "\n",
    "    for param in pretrained.named_parameters():\n",
    "        if param[0][:2] != \"d1\" and param[0][:2] != \"u5\":\n",
    "            # print(param[0])\n",
    "            # print(type(param[1]))\n",
    "            layers[param[0]] = param[1].data\n",
    "\n",
    "    for param in model.named_parameters():\n",
    "        if param[0] in layers.keys():\n",
    "            if param[0][:2] != \"d1\" and param[0][:2] != \"u5\":\n",
    "                param[1].data = layers[param[0]]\n",
    "                param[1].requires_grad = req_grad\n",
    "\n",
    "    for param in model.named_parameters():\n",
    "        print(param[0], param[1].requires_grad)\n",
    "\n",
    "    return model"
   ]
  },
  {
   "cell_type": "code",
   "execution_count": 151,
   "metadata": {
    "tags": []
   },
   "outputs": [
    {
     "output_type": "stream",
     "name": "stdout",
     "text": [
      "d1.net.0.weight True\nd1.net.0.bias True\nd1.net.1.weight True\nd1.net.1.bias True\nd1.net.2.weight True\nd1.net.2.bias True\nd2.net.0.weight False\nd2.net.0.bias False\nd2.net.1.weight False\nd2.net.1.bias False\nd2.net.2.weight False\nd2.net.2.bias False\nd3.net.0.weight False\nd3.net.0.bias False\nd3.net.1.weight False\nd3.net.1.bias False\nd3.net.2.weight False\nd3.net.2.bias False\nd4.net.0.weight False\nd4.net.0.bias False\nd4.net.1.weight False\nd4.net.1.bias False\nd4.net.2.weight False\nd4.net.2.bias False\nd5.net.0.weight False\nd5.net.0.bias False\nd5.net.1.weight False\nd5.net.1.bias False\nd5.net.2.weight False\nd5.net.2.bias False\ndown.weight False\ndown.bias False\nup.weight False\nup.bias False\nu1.net.0.weight False\nu1.net.0.bias False\nu1.net.1.weight False\nu1.net.1.bias False\nu1.net.2.weight False\nu1.net.2.bias False\nu2.net.0.weight False\nu2.net.0.bias False\nu2.net.1.weight False\nu2.net.1.bias False\nu2.net.2.weight False\nu2.net.2.bias False\nu3.net.0.weight False\nu3.net.0.bias False\nu3.net.1.weight False\nu3.net.1.bias False\nu3.net.2.weight False\nu3.net.2.bias False\nu4.net.0.weight False\nu4.net.0.bias False\nu4.net.1.weight False\nu4.net.1.bias False\nu4.net.2.weight False\nu4.net.2.bias False\nu5.net.0.weight True\nu5.net.0.bias True\nu5.net.1.weight True\nu5.net.1.bias True\nu5.net.2.weight True\nu5.net.2.bias True\n"
     ]
    }
   ],
   "source": [
    "import numpy as np\n",
    "import torch \n",
    "import  matplotlib.pyplot as plt\n",
    "\n",
    "# from utils import load_transfer_learning\n",
    "from model import UNet_3D\n",
    "pre_dataset_name = \"2d_cylinder_CFD\"\n",
    "final_dataset_name = \"2d_sq_cyl\"\n",
    "final_model = UNet_3D(name=final_dataset_name)\n",
    "pretrained = UNet_3D(name=pre_dataset_name)\n",
    "dataset = \"2d_cylinder_CFD\"\n",
    "PATH = f\"../results/{dataset}/weights/100.pth\"\n",
    "model = load_transfer_learning_UNet_3D(pretrained, final_model, PATH, False)"
   ]
  },
  {
   "source": [
    "def plot_training_from_dict(dataset_name = '2d_sq_cyl'):\n",
    "    \n",
    "    V = np.load(f'../results/{dataset_name}/weights/val_loss_dict_og.npy', allow_pickle=True).item()\n",
    "    T = np.load(f'../results/{dataset_name}/weights/train_loss_dict_og.npy', allow_pickle=True).item()\n",
    "    V_tl = np.load(f'../results/{dataset_name}/weights/val_loss_dict.npy', allow_pickle=True).item()\n",
    "    T_tl = np.load(f'../results/{dataset_name}/weights/train_loss_dict.npy', allow_pickle=True).item()\n",
    "    # T = np.array(T)\n",
    "    # V = np.array(V)\n",
    "    print(type(T))\n",
    "    print(list(T.values()))\n",
    "    fig, ax = plt.subplots()\n",
    "    plt.xlabel('Epoch')\n",
    "    plt.ylabel('Loss')\n",
    "    ax.yaxis.label.set_size(16)\n",
    "    ax.xaxis.label.set_size(16)\n",
    "    # ax.set_ylim([0.04, 0.16])\n",
    "    plt.plot(list(V.keys()), list(V.values()), 'g-')\n",
    "    plt.plot(list(T.keys()), list(T.values()), 'k-')    \n",
    "    plt.plot(list(V_tl.keys()), list(V_tl.values()), 'b-')\n",
    "    plt.plot(list(T_tl.keys()), list(T_tl.values()), 'r-')\n",
    "    \n",
    "    plt.legend(loc='best', labels=['Validation Loss', 'Training Loss', 'Validation Loss_TL', 'Training Loss_TL' ])\n",
    "    # plt.show()\n",
    "    \n",
    "    plt.savefig(f'../results/{dataset_name}/training_plot_tl.eps', dpi=600)\n",
    "    plt.close()\n"
   ],
   "cell_type": "code",
   "metadata": {},
   "execution_count": 144,
   "outputs": []
  },
  {
   "cell_type": "code",
   "execution_count": 153,
   "metadata": {},
   "outputs": [
    {
     "output_type": "stream",
     "name": "stderr",
     "text": [
      "The PostScript backend does not support transparency; partially transparent artists will be rendered opaque.\n",
      "The PostScript backend does not support transparency; partially transparent artists will be rendered opaque.\n",
      "<class 'dict'>\n",
      "[0.2350388223474676, 0.11134720864621075, 0.05670782119374384, 0.04883685174652121, 0.0388726657256484, 0.033111381429162895, 0.029192699331112883, 0.026335993019694633, 0.025083997202190487, 0.023153336295350033, 0.02333677297627384, 0.022730968553911556, 0.02199592555619099, 0.0234547739171169, 0.021196803205053915, 0.019726561509411444, 0.020850109444423157, 0.01957414129918272, 0.01925588585436344, 0.018265534022992306, 0.01849991176277399, 0.01819279497827996, 0.016857895470986314, 0.016939382280477068, 0.01594932620752264, 0.016050165307454088, 0.016080284385349263, 0.01580294437537139, 0.016186246944760733, 0.015447474740953608, 0.015381484990939498, 0.015116614670577374, 0.014960972507568922, 0.014640429205345836, 0.014414312233301725, 0.01385004122064195, 0.014421808829700405, 0.013642842902547934, 0.013766106916591525, 0.013663622868162665, 0.013317931104790081, 0.013896330069242553, 0.013557129581882195, 0.013295090799643234, 0.013441967227580872, 0.012527384858747775, 0.01361876393837685, 0.013398268365893851, 0.013047617161646485, 0.011240370444614779, 0.01105855750343339, 0.010783242971890351, 0.010547666027295318, 0.011301418131386692, 0.010347577954896471, 0.010661799841645088, 0.010264058385721662, 0.01028881283392283, 0.010279726067727262, 0.010582021543417464, 0.010008563689718192, 0.009691380408846519, 0.009817157808521932, 0.00953872135671025, 0.009605396941134875, 0.009510666576468131, 0.009878613202917304, 0.009745545261962847, 0.009829855439337816, 0.009332916911014101, 0.009045169074934993, 0.009211030682887544, 0.00904971388676627, 0.009208161680197174, 0.009190253172577783, 0.008962879169055006, 0.008989498484879732, 0.008909992323341694, 0.009032582652501085, 0.009242784168401902, 0.009075150528753346, 0.008783711162819103, 0.008764031978154724, 0.008813961049203168, 0.008749233960936015, 0.008721473055299033, 0.008695571408183738, 0.008796693101017312, 0.008765769593248313, 0.008806353075091134, 0.008738985306329349, 0.008648498110811819, 0.008650631008839066, 0.00858637893741781, 0.008603969123214483, 0.00863288664682345, 0.008594609860500152, 0.008630124682729895, 0.008602896832268347, 0.008592884098602966, 0.00853669440204447]\n"
     ]
    }
   ],
   "source": [
    "plot_training_from_dict(dataset_name = 'SST')"
   ]
  },
  {
   "cell_type": "code",
   "execution_count": 161,
   "metadata": {},
   "outputs": [
    {
     "output_type": "stream",
     "name": "stdout",
     "text": [
      "0.0005657024326352163\n0.0024539357516914608\n\n0.0013545735062644728\n0.003975335707149978\n\n0.009478562542547782\n0.04539828465726131\n\n0.0172642937852341\n0.0360599126485945\n\n"
     ]
    }
   ],
   "source": [
    "dataset_names = ['2d_sq_cyl','2d_plate','SST', 'channel_flow']\n",
    "for dataset_name in dataset_names:\n",
    "    V = np.load(f'../results/{dataset_name}/weights/val_loss_dict_og.npy', allow_pickle=True).item()\n",
    "    V_tl = np.load(f'../results/{dataset_name}/weights/val_loss_dict.npy', allow_pickle=True).item()\n",
    "\n",
    "    print(list(V.values())[-1])\n",
    "    print(list(V_tl.values())[-1])\n",
    "    print()\n"
   ]
  },
  {
   "cell_type": "code",
   "execution_count": 24,
   "metadata": {},
   "outputs": [
    {
     "output_type": "stream",
     "name": "stderr",
     "text": [
      "The PostScript backend does not support transparency; partially transparent artists will be rendered opaque.\n",
      "The PostScript backend does not support transparency; partially transparent artists will be rendered opaque.\n"
     ]
    },
    {
     "output_type": "display_data",
     "data": {
      "text/plain": "<Figure size 432x288 with 1 Axes>",
      "image/svg+xml": "<?xml version=\"1.0\" encoding=\"utf-8\" standalone=\"no\"?>\n<!DOCTYPE svg PUBLIC \"-//W3C//DTD SVG 1.1//EN\"\n  \"http://www.w3.org/Graphics/SVG/1.1/DTD/svg11.dtd\">\n<!-- Created with matplotlib (https://matplotlib.org/) -->\n<svg height=\"258.097656pt\" version=\"1.1\" viewBox=\"0 0 390.596562 258.097656\" width=\"390.596562pt\" xmlns=\"http://www.w3.org/2000/svg\" xmlns:xlink=\"http://www.w3.org/1999/xlink\">\n <defs>\n  <style type=\"text/css\">\n*{stroke-linecap:butt;stroke-linejoin:round;}\n  </style>\n </defs>\n <g id=\"figure_1\">\n  <g id=\"patch_1\">\n   <path d=\"M 0 258.097656 \nL 390.596562 258.097656 \nL 390.596562 0 \nL 0 0 \nz\n\" style=\"fill:none;\"/>\n  </g>\n  <g id=\"axes_1\">\n   <g id=\"patch_2\">\n    <path d=\"M 48.596563 229.958906 \nL 383.396563 229.958906 \nL 383.396563 12.518906 \nL 48.596563 12.518906 \nz\n\" style=\"fill:#ffffff;\"/>\n   </g>\n   <g id=\"patch_3\">\n    <path clip-path=\"url(#pf5a76aabc6)\" d=\"M 63.814744 229.958906 \nL 98.933625 229.958906 \nL 98.933625 77.750906 \nL 63.814744 77.750906 \nz\n\" style=\"fill:#4169e1;\"/>\n   </g>\n   <g id=\"patch_4\">\n    <path clip-path=\"url(#pf5a76aabc6)\" d=\"M 141.856702 229.958906 \nL 176.975583 229.958906 \nL 176.975583 90.797306 \nL 141.856702 90.797306 \nz\n\" style=\"fill:#4169e1;\"/>\n   </g>\n   <g id=\"patch_5\">\n    <path clip-path=\"url(#pf5a76aabc6)\" d=\"M 219.89866 229.958906 \nL 255.017542 229.958906 \nL 255.017542 42.960506 \nL 219.89866 42.960506 \nz\n\" style=\"fill:#4169e1;\"/>\n   </g>\n   <g id=\"patch_6\">\n    <path clip-path=\"url(#pf5a76aabc6)\" d=\"M 297.940618 229.958906 \nL 333.0595 229.958906 \nL 333.0595 51.658106 \nL 297.940618 51.658106 \nz\n\" style=\"fill:#4169e1;\"/>\n   </g>\n   <g id=\"patch_7\">\n    <path clip-path=\"url(#pf5a76aabc6)\" d=\"M 98.933625 229.958906 \nL 134.052507 229.958906 \nL 134.052507 116.890106 \nL 98.933625 116.890106 \nz\n\" style=\"fill:#9acd32;\"/>\n   </g>\n   <g id=\"patch_8\">\n    <path clip-path=\"url(#pf5a76aabc6)\" d=\"M 176.975583 229.958906 \nL 212.094465 229.958906 \nL 212.094465 116.890106 \nL 176.975583 116.890106 \nz\n\" style=\"fill:#9acd32;\"/>\n   </g>\n   <g id=\"patch_9\">\n    <path clip-path=\"url(#pf5a76aabc6)\" d=\"M 255.017542 229.958906 \nL 290.136423 229.958906 \nL 290.136423 82.099706 \nL 255.017542 82.099706 \nz\n\" style=\"fill:#9acd32;\"/>\n   </g>\n   <g id=\"patch_10\">\n    <path clip-path=\"url(#pf5a76aabc6)\" d=\"M 333.0595 229.958906 \nL 368.178381 229.958906 \nL 368.178381 90.797306 \nL 333.0595 90.797306 \nz\n\" style=\"fill:#9acd32;\"/>\n   </g>\n   <g id=\"matplotlib.axis_1\">\n    <g id=\"xtick_1\">\n     <g id=\"line2d_1\">\n      <defs>\n       <path d=\"M 0 0 \nL 0 3.5 \n\" id=\"m7eb68e8286\" style=\"stroke:#000000;stroke-width:0.8;\"/>\n      </defs>\n      <g>\n       <use style=\"stroke:#000000;stroke-width:0.8;\" x=\"98.933625\" xlink:href=\"#m7eb68e8286\" y=\"229.958906\"/>\n      </g>\n     </g>\n     <g id=\"text_1\">\n      <!-- 2D_sq_cyl -->\n      <defs>\n       <path d=\"M 19.1875 8.296875 \nL 53.609375 8.296875 \nL 53.609375 0 \nL 7.328125 0 \nL 7.328125 8.296875 \nQ 12.9375 14.109375 22.625 23.890625 \nQ 32.328125 33.6875 34.8125 36.53125 \nQ 39.546875 41.84375 41.421875 45.53125 \nQ 43.3125 49.21875 43.3125 52.78125 \nQ 43.3125 58.59375 39.234375 62.25 \nQ 35.15625 65.921875 28.609375 65.921875 \nQ 23.96875 65.921875 18.8125 64.3125 \nQ 13.671875 62.703125 7.8125 59.421875 \nL 7.8125 69.390625 \nQ 13.765625 71.78125 18.9375 73 \nQ 24.125 74.21875 28.421875 74.21875 \nQ 39.75 74.21875 46.484375 68.546875 \nQ 53.21875 62.890625 53.21875 53.421875 \nQ 53.21875 48.921875 51.53125 44.890625 \nQ 49.859375 40.875 45.40625 35.40625 \nQ 44.1875 33.984375 37.640625 27.21875 \nQ 31.109375 20.453125 19.1875 8.296875 \nz\n\" id=\"DejaVuSans-50\"/>\n       <path d=\"M 19.671875 64.796875 \nL 19.671875 8.109375 \nL 31.59375 8.109375 \nQ 46.6875 8.109375 53.6875 14.9375 \nQ 60.6875 21.78125 60.6875 36.53125 \nQ 60.6875 51.171875 53.6875 57.984375 \nQ 46.6875 64.796875 31.59375 64.796875 \nz\nM 9.8125 72.90625 \nL 30.078125 72.90625 \nQ 51.265625 72.90625 61.171875 64.09375 \nQ 71.09375 55.28125 71.09375 36.53125 \nQ 71.09375 17.671875 61.125 8.828125 \nQ 51.171875 0 30.078125 0 \nL 9.8125 0 \nz\n\" id=\"DejaVuSans-68\"/>\n       <path d=\"M 50.984375 -16.609375 \nL 50.984375 -23.578125 \nL -0.984375 -23.578125 \nL -0.984375 -16.609375 \nz\n\" id=\"DejaVuSans-95\"/>\n       <path d=\"M 44.28125 53.078125 \nL 44.28125 44.578125 \nQ 40.484375 46.53125 36.375 47.5 \nQ 32.28125 48.484375 27.875 48.484375 \nQ 21.1875 48.484375 17.84375 46.4375 \nQ 14.5 44.390625 14.5 40.28125 \nQ 14.5 37.15625 16.890625 35.375 \nQ 19.28125 33.59375 26.515625 31.984375 \nL 29.59375 31.296875 \nQ 39.15625 29.25 43.1875 25.515625 \nQ 47.21875 21.78125 47.21875 15.09375 \nQ 47.21875 7.46875 41.1875 3.015625 \nQ 35.15625 -1.421875 24.609375 -1.421875 \nQ 20.21875 -1.421875 15.453125 -0.5625 \nQ 10.6875 0.296875 5.421875 2 \nL 5.421875 11.28125 \nQ 10.40625 8.6875 15.234375 7.390625 \nQ 20.0625 6.109375 24.8125 6.109375 \nQ 31.15625 6.109375 34.5625 8.28125 \nQ 37.984375 10.453125 37.984375 14.40625 \nQ 37.984375 18.0625 35.515625 20.015625 \nQ 33.0625 21.96875 24.703125 23.78125 \nL 21.578125 24.515625 \nQ 13.234375 26.265625 9.515625 29.90625 \nQ 5.8125 33.546875 5.8125 39.890625 \nQ 5.8125 47.609375 11.28125 51.796875 \nQ 16.75 56 26.8125 56 \nQ 31.78125 56 36.171875 55.265625 \nQ 40.578125 54.546875 44.28125 53.078125 \nz\n\" id=\"DejaVuSans-115\"/>\n       <path d=\"M 14.796875 27.296875 \nQ 14.796875 17.390625 18.875 11.75 \nQ 22.953125 6.109375 30.078125 6.109375 \nQ 37.203125 6.109375 41.296875 11.75 \nQ 45.40625 17.390625 45.40625 27.296875 \nQ 45.40625 37.203125 41.296875 42.84375 \nQ 37.203125 48.484375 30.078125 48.484375 \nQ 22.953125 48.484375 18.875 42.84375 \nQ 14.796875 37.203125 14.796875 27.296875 \nz\nM 45.40625 8.203125 \nQ 42.578125 3.328125 38.25 0.953125 \nQ 33.9375 -1.421875 27.875 -1.421875 \nQ 17.96875 -1.421875 11.734375 6.484375 \nQ 5.515625 14.40625 5.515625 27.296875 \nQ 5.515625 40.1875 11.734375 48.09375 \nQ 17.96875 56 27.875 56 \nQ 33.9375 56 38.25 53.625 \nQ 42.578125 51.265625 45.40625 46.390625 \nL 45.40625 54.6875 \nL 54.390625 54.6875 \nL 54.390625 -20.796875 \nL 45.40625 -20.796875 \nz\n\" id=\"DejaVuSans-113\"/>\n       <path d=\"M 48.78125 52.59375 \nL 48.78125 44.1875 \nQ 44.96875 46.296875 41.140625 47.34375 \nQ 37.3125 48.390625 33.40625 48.390625 \nQ 24.65625 48.390625 19.8125 42.84375 \nQ 14.984375 37.3125 14.984375 27.296875 \nQ 14.984375 17.28125 19.8125 11.734375 \nQ 24.65625 6.203125 33.40625 6.203125 \nQ 37.3125 6.203125 41.140625 7.25 \nQ 44.96875 8.296875 48.78125 10.40625 \nL 48.78125 2.09375 \nQ 45.015625 0.34375 40.984375 -0.53125 \nQ 36.96875 -1.421875 32.421875 -1.421875 \nQ 20.0625 -1.421875 12.78125 6.34375 \nQ 5.515625 14.109375 5.515625 27.296875 \nQ 5.515625 40.671875 12.859375 48.328125 \nQ 20.21875 56 33.015625 56 \nQ 37.15625 56 41.109375 55.140625 \nQ 45.0625 54.296875 48.78125 52.59375 \nz\n\" id=\"DejaVuSans-99\"/>\n       <path d=\"M 32.171875 -5.078125 \nQ 28.375 -14.84375 24.75 -17.8125 \nQ 21.140625 -20.796875 15.09375 -20.796875 \nL 7.90625 -20.796875 \nL 7.90625 -13.28125 \nL 13.1875 -13.28125 \nQ 16.890625 -13.28125 18.9375 -11.515625 \nQ 21 -9.765625 23.484375 -3.21875 \nL 25.09375 0.875 \nL 2.984375 54.6875 \nL 12.5 54.6875 \nL 29.59375 11.921875 \nL 46.6875 54.6875 \nL 56.203125 54.6875 \nz\n\" id=\"DejaVuSans-121\"/>\n       <path d=\"M 9.421875 75.984375 \nL 18.40625 75.984375 \nL 18.40625 0 \nL 9.421875 0 \nz\n\" id=\"DejaVuSans-108\"/>\n      </defs>\n      <g transform=\"translate(64.062688 247.596719)scale(0.14 -0.14)\">\n       <use xlink:href=\"#DejaVuSans-50\"/>\n       <use x=\"63.623047\" xlink:href=\"#DejaVuSans-68\"/>\n       <use x=\"140.625\" xlink:href=\"#DejaVuSans-95\"/>\n       <use x=\"190.625\" xlink:href=\"#DejaVuSans-115\"/>\n       <use x=\"242.724609\" xlink:href=\"#DejaVuSans-113\"/>\n       <use x=\"306.201172\" xlink:href=\"#DejaVuSans-95\"/>\n       <use x=\"356.201172\" xlink:href=\"#DejaVuSans-99\"/>\n       <use x=\"411.181641\" xlink:href=\"#DejaVuSans-121\"/>\n       <use x=\"470.361328\" xlink:href=\"#DejaVuSans-108\"/>\n      </g>\n     </g>\n    </g>\n    <g id=\"xtick_2\">\n     <g id=\"line2d_2\">\n      <g>\n       <use style=\"stroke:#000000;stroke-width:0.8;\" x=\"176.975583\" xlink:href=\"#m7eb68e8286\" y=\"229.958906\"/>\n      </g>\n     </g>\n     <g id=\"text_2\">\n      <!-- 2D_plate -->\n      <defs>\n       <path d=\"M 18.109375 8.203125 \nL 18.109375 -20.796875 \nL 9.078125 -20.796875 \nL 9.078125 54.6875 \nL 18.109375 54.6875 \nL 18.109375 46.390625 \nQ 20.953125 51.265625 25.265625 53.625 \nQ 29.59375 56 35.59375 56 \nQ 45.5625 56 51.78125 48.09375 \nQ 58.015625 40.1875 58.015625 27.296875 \nQ 58.015625 14.40625 51.78125 6.484375 \nQ 45.5625 -1.421875 35.59375 -1.421875 \nQ 29.59375 -1.421875 25.265625 0.953125 \nQ 20.953125 3.328125 18.109375 8.203125 \nz\nM 48.6875 27.296875 \nQ 48.6875 37.203125 44.609375 42.84375 \nQ 40.53125 48.484375 33.40625 48.484375 \nQ 26.265625 48.484375 22.1875 42.84375 \nQ 18.109375 37.203125 18.109375 27.296875 \nQ 18.109375 17.390625 22.1875 11.75 \nQ 26.265625 6.109375 33.40625 6.109375 \nQ 40.53125 6.109375 44.609375 11.75 \nQ 48.6875 17.390625 48.6875 27.296875 \nz\n\" id=\"DejaVuSans-112\"/>\n       <path d=\"M 34.28125 27.484375 \nQ 23.390625 27.484375 19.1875 25 \nQ 14.984375 22.515625 14.984375 16.5 \nQ 14.984375 11.71875 18.140625 8.90625 \nQ 21.296875 6.109375 26.703125 6.109375 \nQ 34.1875 6.109375 38.703125 11.40625 \nQ 43.21875 16.703125 43.21875 25.484375 \nL 43.21875 27.484375 \nz\nM 52.203125 31.203125 \nL 52.203125 0 \nL 43.21875 0 \nL 43.21875 8.296875 \nQ 40.140625 3.328125 35.546875 0.953125 \nQ 30.953125 -1.421875 24.3125 -1.421875 \nQ 15.921875 -1.421875 10.953125 3.296875 \nQ 6 8.015625 6 15.921875 \nQ 6 25.140625 12.171875 29.828125 \nQ 18.359375 34.515625 30.609375 34.515625 \nL 43.21875 34.515625 \nL 43.21875 35.40625 \nQ 43.21875 41.609375 39.140625 45 \nQ 35.0625 48.390625 27.6875 48.390625 \nQ 23 48.390625 18.546875 47.265625 \nQ 14.109375 46.140625 10.015625 43.890625 \nL 10.015625 52.203125 \nQ 14.9375 54.109375 19.578125 55.046875 \nQ 24.21875 56 28.609375 56 \nQ 40.484375 56 46.34375 49.84375 \nQ 52.203125 43.703125 52.203125 31.203125 \nz\n\" id=\"DejaVuSans-97\"/>\n       <path d=\"M 18.3125 70.21875 \nL 18.3125 54.6875 \nL 36.8125 54.6875 \nL 36.8125 47.703125 \nL 18.3125 47.703125 \nL 18.3125 18.015625 \nQ 18.3125 11.328125 20.140625 9.421875 \nQ 21.96875 7.515625 27.59375 7.515625 \nL 36.8125 7.515625 \nL 36.8125 0 \nL 27.59375 0 \nQ 17.1875 0 13.234375 3.875 \nQ 9.28125 7.765625 9.28125 18.015625 \nL 9.28125 47.703125 \nL 2.6875 47.703125 \nL 2.6875 54.6875 \nL 9.28125 54.6875 \nL 9.28125 70.21875 \nz\n\" id=\"DejaVuSans-116\"/>\n       <path d=\"M 56.203125 29.59375 \nL 56.203125 25.203125 \nL 14.890625 25.203125 \nQ 15.484375 15.921875 20.484375 11.0625 \nQ 25.484375 6.203125 34.421875 6.203125 \nQ 39.59375 6.203125 44.453125 7.46875 \nQ 49.3125 8.734375 54.109375 11.28125 \nL 54.109375 2.78125 \nQ 49.265625 0.734375 44.1875 -0.34375 \nQ 39.109375 -1.421875 33.890625 -1.421875 \nQ 20.796875 -1.421875 13.15625 6.1875 \nQ 5.515625 13.8125 5.515625 26.8125 \nQ 5.515625 40.234375 12.765625 48.109375 \nQ 20.015625 56 32.328125 56 \nQ 43.359375 56 49.78125 48.890625 \nQ 56.203125 41.796875 56.203125 29.59375 \nz\nM 47.21875 32.234375 \nQ 47.125 39.59375 43.09375 43.984375 \nQ 39.0625 48.390625 32.421875 48.390625 \nQ 24.90625 48.390625 20.390625 44.140625 \nQ 15.875 39.890625 15.1875 32.171875 \nz\n\" id=\"DejaVuSans-101\"/>\n      </defs>\n      <g transform=\"translate(145.902146 247.596719)scale(0.14 -0.14)\">\n       <use xlink:href=\"#DejaVuSans-50\"/>\n       <use x=\"63.623047\" xlink:href=\"#DejaVuSans-68\"/>\n       <use x=\"140.625\" xlink:href=\"#DejaVuSans-95\"/>\n       <use x=\"190.625\" xlink:href=\"#DejaVuSans-112\"/>\n       <use x=\"254.101562\" xlink:href=\"#DejaVuSans-108\"/>\n       <use x=\"281.884766\" xlink:href=\"#DejaVuSans-97\"/>\n       <use x=\"343.164062\" xlink:href=\"#DejaVuSans-116\"/>\n       <use x=\"382.373047\" xlink:href=\"#DejaVuSans-101\"/>\n      </g>\n     </g>\n    </g>\n    <g id=\"xtick_3\">\n     <g id=\"line2d_3\">\n      <g>\n       <use style=\"stroke:#000000;stroke-width:0.8;\" x=\"255.017542\" xlink:href=\"#m7eb68e8286\" y=\"229.958906\"/>\n      </g>\n     </g>\n     <g id=\"text_3\">\n      <!-- SST -->\n      <defs>\n       <path d=\"M 53.515625 70.515625 \nL 53.515625 60.890625 \nQ 47.90625 63.578125 42.921875 64.890625 \nQ 37.9375 66.21875 33.296875 66.21875 \nQ 25.25 66.21875 20.875 63.09375 \nQ 16.5 59.96875 16.5 54.203125 \nQ 16.5 49.359375 19.40625 46.890625 \nQ 22.3125 44.4375 30.421875 42.921875 \nL 36.375 41.703125 \nQ 47.40625 39.59375 52.65625 34.296875 \nQ 57.90625 29 57.90625 20.125 \nQ 57.90625 9.515625 50.796875 4.046875 \nQ 43.703125 -1.421875 29.984375 -1.421875 \nQ 24.8125 -1.421875 18.96875 -0.25 \nQ 13.140625 0.921875 6.890625 3.21875 \nL 6.890625 13.375 \nQ 12.890625 10.015625 18.65625 8.296875 \nQ 24.421875 6.59375 29.984375 6.59375 \nQ 38.421875 6.59375 43.015625 9.90625 \nQ 47.609375 13.234375 47.609375 19.390625 \nQ 47.609375 24.75 44.3125 27.78125 \nQ 41.015625 30.8125 33.5 32.328125 \nL 27.484375 33.5 \nQ 16.453125 35.6875 11.515625 40.375 \nQ 6.59375 45.0625 6.59375 53.421875 \nQ 6.59375 63.09375 13.40625 68.65625 \nQ 20.21875 74.21875 32.171875 74.21875 \nQ 37.3125 74.21875 42.625 73.28125 \nQ 47.953125 72.359375 53.515625 70.515625 \nz\n\" id=\"DejaVuSans-83\"/>\n       <path d=\"M -0.296875 72.90625 \nL 61.375 72.90625 \nL 61.375 64.59375 \nL 35.5 64.59375 \nL 35.5 0 \nL 25.59375 0 \nL 25.59375 64.59375 \nL -0.296875 64.59375 \nz\n\" id=\"DejaVuSans-84\"/>\n      </defs>\n      <g transform=\"translate(241.85426 247.596719)scale(0.14 -0.14)\">\n       <use xlink:href=\"#DejaVuSans-83\"/>\n       <use x=\"63.476562\" xlink:href=\"#DejaVuSans-83\"/>\n       <use x=\"126.953125\" xlink:href=\"#DejaVuSans-84\"/>\n      </g>\n     </g>\n    </g>\n    <g id=\"xtick_4\">\n     <g id=\"line2d_4\">\n      <g>\n       <use style=\"stroke:#000000;stroke-width:0.8;\" x=\"333.0595\" xlink:href=\"#m7eb68e8286\" y=\"229.958906\"/>\n      </g>\n     </g>\n     <g id=\"text_4\">\n      <!-- Channel_flow -->\n      <defs>\n       <path d=\"M 64.40625 67.28125 \nL 64.40625 56.890625 \nQ 59.421875 61.53125 53.78125 63.8125 \nQ 48.140625 66.109375 41.796875 66.109375 \nQ 29.296875 66.109375 22.65625 58.46875 \nQ 16.015625 50.828125 16.015625 36.375 \nQ 16.015625 21.96875 22.65625 14.328125 \nQ 29.296875 6.6875 41.796875 6.6875 \nQ 48.140625 6.6875 53.78125 8.984375 \nQ 59.421875 11.28125 64.40625 15.921875 \nL 64.40625 5.609375 \nQ 59.234375 2.09375 53.4375 0.328125 \nQ 47.65625 -1.421875 41.21875 -1.421875 \nQ 24.65625 -1.421875 15.125 8.703125 \nQ 5.609375 18.84375 5.609375 36.375 \nQ 5.609375 53.953125 15.125 64.078125 \nQ 24.65625 74.21875 41.21875 74.21875 \nQ 47.75 74.21875 53.53125 72.484375 \nQ 59.328125 70.75 64.40625 67.28125 \nz\n\" id=\"DejaVuSans-67\"/>\n       <path d=\"M 54.890625 33.015625 \nL 54.890625 0 \nL 45.90625 0 \nL 45.90625 32.71875 \nQ 45.90625 40.484375 42.875 44.328125 \nQ 39.84375 48.1875 33.796875 48.1875 \nQ 26.515625 48.1875 22.3125 43.546875 \nQ 18.109375 38.921875 18.109375 30.90625 \nL 18.109375 0 \nL 9.078125 0 \nL 9.078125 75.984375 \nL 18.109375 75.984375 \nL 18.109375 46.1875 \nQ 21.34375 51.125 25.703125 53.5625 \nQ 30.078125 56 35.796875 56 \nQ 45.21875 56 50.046875 50.171875 \nQ 54.890625 44.34375 54.890625 33.015625 \nz\n\" id=\"DejaVuSans-104\"/>\n       <path d=\"M 54.890625 33.015625 \nL 54.890625 0 \nL 45.90625 0 \nL 45.90625 32.71875 \nQ 45.90625 40.484375 42.875 44.328125 \nQ 39.84375 48.1875 33.796875 48.1875 \nQ 26.515625 48.1875 22.3125 43.546875 \nQ 18.109375 38.921875 18.109375 30.90625 \nL 18.109375 0 \nL 9.078125 0 \nL 9.078125 54.6875 \nL 18.109375 54.6875 \nL 18.109375 46.1875 \nQ 21.34375 51.125 25.703125 53.5625 \nQ 30.078125 56 35.796875 56 \nQ 45.21875 56 50.046875 50.171875 \nQ 54.890625 44.34375 54.890625 33.015625 \nz\n\" id=\"DejaVuSans-110\"/>\n       <path d=\"M 37.109375 75.984375 \nL 37.109375 68.5 \nL 28.515625 68.5 \nQ 23.6875 68.5 21.796875 66.546875 \nQ 19.921875 64.59375 19.921875 59.515625 \nL 19.921875 54.6875 \nL 34.71875 54.6875 \nL 34.71875 47.703125 \nL 19.921875 47.703125 \nL 19.921875 0 \nL 10.890625 0 \nL 10.890625 47.703125 \nL 2.296875 47.703125 \nL 2.296875 54.6875 \nL 10.890625 54.6875 \nL 10.890625 58.5 \nQ 10.890625 67.625 15.140625 71.796875 \nQ 19.390625 75.984375 28.609375 75.984375 \nz\n\" id=\"DejaVuSans-102\"/>\n       <path d=\"M 30.609375 48.390625 \nQ 23.390625 48.390625 19.1875 42.75 \nQ 14.984375 37.109375 14.984375 27.296875 \nQ 14.984375 17.484375 19.15625 11.84375 \nQ 23.34375 6.203125 30.609375 6.203125 \nQ 37.796875 6.203125 41.984375 11.859375 \nQ 46.1875 17.53125 46.1875 27.296875 \nQ 46.1875 37.015625 41.984375 42.703125 \nQ 37.796875 48.390625 30.609375 48.390625 \nz\nM 30.609375 56 \nQ 42.328125 56 49.015625 48.375 \nQ 55.71875 40.765625 55.71875 27.296875 \nQ 55.71875 13.875 49.015625 6.21875 \nQ 42.328125 -1.421875 30.609375 -1.421875 \nQ 18.84375 -1.421875 12.171875 6.21875 \nQ 5.515625 13.875 5.515625 27.296875 \nQ 5.515625 40.765625 12.171875 48.375 \nQ 18.84375 56 30.609375 56 \nz\n\" id=\"DejaVuSans-111\"/>\n       <path d=\"M 4.203125 54.6875 \nL 13.1875 54.6875 \nL 24.421875 12.015625 \nL 35.59375 54.6875 \nL 46.1875 54.6875 \nL 57.421875 12.015625 \nL 68.609375 54.6875 \nL 77.59375 54.6875 \nL 63.28125 0 \nL 52.6875 0 \nL 40.921875 44.828125 \nL 29.109375 0 \nL 18.5 0 \nz\n\" id=\"DejaVuSans-119\"/>\n      </defs>\n      <g transform=\"translate(286.4045 247.596719)scale(0.14 -0.14)\">\n       <use xlink:href=\"#DejaVuSans-67\"/>\n       <use x=\"69.824219\" xlink:href=\"#DejaVuSans-104\"/>\n       <use x=\"133.203125\" xlink:href=\"#DejaVuSans-97\"/>\n       <use x=\"194.482422\" xlink:href=\"#DejaVuSans-110\"/>\n       <use x=\"257.861328\" xlink:href=\"#DejaVuSans-110\"/>\n       <use x=\"321.240234\" xlink:href=\"#DejaVuSans-101\"/>\n       <use x=\"382.763672\" xlink:href=\"#DejaVuSans-108\"/>\n       <use x=\"410.546875\" xlink:href=\"#DejaVuSans-95\"/>\n       <use x=\"460.546875\" xlink:href=\"#DejaVuSans-102\"/>\n       <use x=\"495.751953\" xlink:href=\"#DejaVuSans-108\"/>\n       <use x=\"523.535156\" xlink:href=\"#DejaVuSans-111\"/>\n       <use x=\"584.716797\" xlink:href=\"#DejaVuSans-119\"/>\n      </g>\n     </g>\n    </g>\n   </g>\n   <g id=\"matplotlib.axis_2\">\n    <g id=\"ytick_1\">\n     <g id=\"line2d_5\">\n      <defs>\n       <path d=\"M 0 0 \nL -3.5 0 \n\" id=\"m6a7de2ea43\" style=\"stroke:#000000;stroke-width:0.8;\"/>\n      </defs>\n      <g>\n       <use style=\"stroke:#000000;stroke-width:0.8;\" x=\"48.596563\" xlink:href=\"#m6a7de2ea43\" y=\"229.958906\"/>\n      </g>\n     </g>\n     <g id=\"text_5\">\n      <!-- 0 -->\n      <defs>\n       <path d=\"M 31.78125 66.40625 \nQ 24.171875 66.40625 20.328125 58.90625 \nQ 16.5 51.421875 16.5 36.375 \nQ 16.5 21.390625 20.328125 13.890625 \nQ 24.171875 6.390625 31.78125 6.390625 \nQ 39.453125 6.390625 43.28125 13.890625 \nQ 47.125 21.390625 47.125 36.375 \nQ 47.125 51.421875 43.28125 58.90625 \nQ 39.453125 66.40625 31.78125 66.40625 \nz\nM 31.78125 74.21875 \nQ 44.046875 74.21875 50.515625 64.515625 \nQ 56.984375 54.828125 56.984375 36.375 \nQ 56.984375 17.96875 50.515625 8.265625 \nQ 44.046875 -1.421875 31.78125 -1.421875 \nQ 19.53125 -1.421875 13.0625 8.265625 \nQ 6.59375 17.96875 6.59375 36.375 \nQ 6.59375 54.828125 13.0625 64.515625 \nQ 19.53125 74.21875 31.78125 74.21875 \nz\n\" id=\"DejaVuSans-48\"/>\n      </defs>\n      <g transform=\"translate(32.689063 235.277813)scale(0.14 -0.14)\">\n       <use xlink:href=\"#DejaVuSans-48\"/>\n      </g>\n     </g>\n    </g>\n    <g id=\"ytick_2\">\n     <g id=\"line2d_6\">\n      <g>\n       <use style=\"stroke:#000000;stroke-width:0.8;\" x=\"48.596563\" xlink:href=\"#m6a7de2ea43\" y=\"186.470906\"/>\n      </g>\n     </g>\n     <g id=\"text_6\">\n      <!-- 10 -->\n      <defs>\n       <path d=\"M 12.40625 8.296875 \nL 28.515625 8.296875 \nL 28.515625 63.921875 \nL 10.984375 60.40625 \nL 10.984375 69.390625 \nL 28.421875 72.90625 \nL 38.28125 72.90625 \nL 38.28125 8.296875 \nL 54.390625 8.296875 \nL 54.390625 0 \nL 12.40625 0 \nz\n\" id=\"DejaVuSans-49\"/>\n      </defs>\n      <g transform=\"translate(23.781563 191.789812)scale(0.14 -0.14)\">\n       <use xlink:href=\"#DejaVuSans-49\"/>\n       <use x=\"63.623047\" xlink:href=\"#DejaVuSans-48\"/>\n      </g>\n     </g>\n    </g>\n    <g id=\"ytick_3\">\n     <g id=\"line2d_7\">\n      <g>\n       <use style=\"stroke:#000000;stroke-width:0.8;\" x=\"48.596563\" xlink:href=\"#m6a7de2ea43\" y=\"142.982906\"/>\n      </g>\n     </g>\n     <g id=\"text_7\">\n      <!-- 20 -->\n      <g transform=\"translate(23.781563 148.301812)scale(0.14 -0.14)\">\n       <use xlink:href=\"#DejaVuSans-50\"/>\n       <use x=\"63.623047\" xlink:href=\"#DejaVuSans-48\"/>\n      </g>\n     </g>\n    </g>\n    <g id=\"ytick_4\">\n     <g id=\"line2d_8\">\n      <g>\n       <use style=\"stroke:#000000;stroke-width:0.8;\" x=\"48.596563\" xlink:href=\"#m6a7de2ea43\" y=\"99.494906\"/>\n      </g>\n     </g>\n     <g id=\"text_8\">\n      <!-- 30 -->\n      <defs>\n       <path d=\"M 40.578125 39.3125 \nQ 47.65625 37.796875 51.625 33 \nQ 55.609375 28.21875 55.609375 21.1875 \nQ 55.609375 10.40625 48.1875 4.484375 \nQ 40.765625 -1.421875 27.09375 -1.421875 \nQ 22.515625 -1.421875 17.65625 -0.515625 \nQ 12.796875 0.390625 7.625 2.203125 \nL 7.625 11.71875 \nQ 11.71875 9.328125 16.59375 8.109375 \nQ 21.484375 6.890625 26.8125 6.890625 \nQ 36.078125 6.890625 40.9375 10.546875 \nQ 45.796875 14.203125 45.796875 21.1875 \nQ 45.796875 27.640625 41.28125 31.265625 \nQ 36.765625 34.90625 28.71875 34.90625 \nL 20.21875 34.90625 \nL 20.21875 43.015625 \nL 29.109375 43.015625 \nQ 36.375 43.015625 40.234375 45.921875 \nQ 44.09375 48.828125 44.09375 54.296875 \nQ 44.09375 59.90625 40.109375 62.90625 \nQ 36.140625 65.921875 28.71875 65.921875 \nQ 24.65625 65.921875 20.015625 65.03125 \nQ 15.375 64.15625 9.8125 62.3125 \nL 9.8125 71.09375 \nQ 15.4375 72.65625 20.34375 73.4375 \nQ 25.25 74.21875 29.59375 74.21875 \nQ 40.828125 74.21875 47.359375 69.109375 \nQ 53.90625 64.015625 53.90625 55.328125 \nQ 53.90625 49.265625 50.4375 45.09375 \nQ 46.96875 40.921875 40.578125 39.3125 \nz\n\" id=\"DejaVuSans-51\"/>\n      </defs>\n      <g transform=\"translate(23.781563 104.813812)scale(0.14 -0.14)\">\n       <use xlink:href=\"#DejaVuSans-51\"/>\n       <use x=\"63.623047\" xlink:href=\"#DejaVuSans-48\"/>\n      </g>\n     </g>\n    </g>\n    <g id=\"ytick_5\">\n     <g id=\"line2d_9\">\n      <g>\n       <use style=\"stroke:#000000;stroke-width:0.8;\" x=\"48.596563\" xlink:href=\"#m6a7de2ea43\" y=\"56.006906\"/>\n      </g>\n     </g>\n     <g id=\"text_9\">\n      <!-- 40 -->\n      <defs>\n       <path d=\"M 37.796875 64.3125 \nL 12.890625 25.390625 \nL 37.796875 25.390625 \nz\nM 35.203125 72.90625 \nL 47.609375 72.90625 \nL 47.609375 25.390625 \nL 58.015625 25.390625 \nL 58.015625 17.1875 \nL 47.609375 17.1875 \nL 47.609375 0 \nL 37.796875 0 \nL 37.796875 17.1875 \nL 4.890625 17.1875 \nL 4.890625 26.703125 \nz\n\" id=\"DejaVuSans-52\"/>\n      </defs>\n      <g transform=\"translate(23.781563 61.325812)scale(0.14 -0.14)\">\n       <use xlink:href=\"#DejaVuSans-52\"/>\n       <use x=\"63.623047\" xlink:href=\"#DejaVuSans-48\"/>\n      </g>\n     </g>\n    </g>\n    <g id=\"ytick_6\">\n     <g id=\"line2d_10\">\n      <g>\n       <use style=\"stroke:#000000;stroke-width:0.8;\" x=\"48.596563\" xlink:href=\"#m6a7de2ea43\" y=\"12.518906\"/>\n      </g>\n     </g>\n     <g id=\"text_10\">\n      <!-- 50 -->\n      <defs>\n       <path d=\"M 10.796875 72.90625 \nL 49.515625 72.90625 \nL 49.515625 64.59375 \nL 19.828125 64.59375 \nL 19.828125 46.734375 \nQ 21.96875 47.46875 24.109375 47.828125 \nQ 26.265625 48.1875 28.421875 48.1875 \nQ 40.625 48.1875 47.75 41.5 \nQ 54.890625 34.8125 54.890625 23.390625 \nQ 54.890625 11.625 47.5625 5.09375 \nQ 40.234375 -1.421875 26.90625 -1.421875 \nQ 22.3125 -1.421875 17.546875 -0.640625 \nQ 12.796875 0.140625 7.71875 1.703125 \nL 7.71875 11.625 \nQ 12.109375 9.234375 16.796875 8.0625 \nQ 21.484375 6.890625 26.703125 6.890625 \nQ 35.15625 6.890625 40.078125 11.328125 \nQ 45.015625 15.765625 45.015625 23.390625 \nQ 45.015625 31 40.078125 35.4375 \nQ 35.15625 39.890625 26.703125 39.890625 \nQ 22.75 39.890625 18.8125 39.015625 \nQ 14.890625 38.140625 10.796875 36.28125 \nz\n\" id=\"DejaVuSans-53\"/>\n      </defs>\n      <g transform=\"translate(23.781563 17.837812)scale(0.14 -0.14)\">\n       <use xlink:href=\"#DejaVuSans-53\"/>\n       <use x=\"63.623047\" xlink:href=\"#DejaVuSans-48\"/>\n      </g>\n     </g>\n    </g>\n    <g id=\"text_11\">\n     <!-- Training Time per Epoch (s) -->\n     <defs>\n      <path d=\"M 41.109375 46.296875 \nQ 39.59375 47.171875 37.8125 47.578125 \nQ 36.03125 48 33.890625 48 \nQ 26.265625 48 22.1875 43.046875 \nQ 18.109375 38.09375 18.109375 28.8125 \nL 18.109375 0 \nL 9.078125 0 \nL 9.078125 54.6875 \nL 18.109375 54.6875 \nL 18.109375 46.1875 \nQ 20.953125 51.171875 25.484375 53.578125 \nQ 30.03125 56 36.53125 56 \nQ 37.453125 56 38.578125 55.875 \nQ 39.703125 55.765625 41.0625 55.515625 \nz\n\" id=\"DejaVuSans-114\"/>\n      <path d=\"M 9.421875 54.6875 \nL 18.40625 54.6875 \nL 18.40625 0 \nL 9.421875 0 \nz\nM 9.421875 75.984375 \nL 18.40625 75.984375 \nL 18.40625 64.59375 \nL 9.421875 64.59375 \nz\n\" id=\"DejaVuSans-105\"/>\n      <path d=\"M 45.40625 27.984375 \nQ 45.40625 37.75 41.375 43.109375 \nQ 37.359375 48.484375 30.078125 48.484375 \nQ 22.859375 48.484375 18.828125 43.109375 \nQ 14.796875 37.75 14.796875 27.984375 \nQ 14.796875 18.265625 18.828125 12.890625 \nQ 22.859375 7.515625 30.078125 7.515625 \nQ 37.359375 7.515625 41.375 12.890625 \nQ 45.40625 18.265625 45.40625 27.984375 \nz\nM 54.390625 6.78125 \nQ 54.390625 -7.171875 48.1875 -13.984375 \nQ 42 -20.796875 29.203125 -20.796875 \nQ 24.46875 -20.796875 20.265625 -20.09375 \nQ 16.0625 -19.390625 12.109375 -17.921875 \nL 12.109375 -9.1875 \nQ 16.0625 -11.328125 19.921875 -12.34375 \nQ 23.78125 -13.375 27.78125 -13.375 \nQ 36.625 -13.375 41.015625 -8.765625 \nQ 45.40625 -4.15625 45.40625 5.171875 \nL 45.40625 9.625 \nQ 42.625 4.78125 38.28125 2.390625 \nQ 33.9375 0 27.875 0 \nQ 17.828125 0 11.671875 7.65625 \nQ 5.515625 15.328125 5.515625 27.984375 \nQ 5.515625 40.671875 11.671875 48.328125 \nQ 17.828125 56 27.875 56 \nQ 33.9375 56 38.28125 53.609375 \nQ 42.625 51.21875 45.40625 46.390625 \nL 45.40625 54.6875 \nL 54.390625 54.6875 \nz\n\" id=\"DejaVuSans-103\"/>\n      <path id=\"DejaVuSans-32\"/>\n      <path d=\"M 52 44.1875 \nQ 55.375 50.25 60.0625 53.125 \nQ 64.75 56 71.09375 56 \nQ 79.640625 56 84.28125 50.015625 \nQ 88.921875 44.046875 88.921875 33.015625 \nL 88.921875 0 \nL 79.890625 0 \nL 79.890625 32.71875 \nQ 79.890625 40.578125 77.09375 44.375 \nQ 74.3125 48.1875 68.609375 48.1875 \nQ 61.625 48.1875 57.5625 43.546875 \nQ 53.515625 38.921875 53.515625 30.90625 \nL 53.515625 0 \nL 44.484375 0 \nL 44.484375 32.71875 \nQ 44.484375 40.625 41.703125 44.40625 \nQ 38.921875 48.1875 33.109375 48.1875 \nQ 26.21875 48.1875 22.15625 43.53125 \nQ 18.109375 38.875 18.109375 30.90625 \nL 18.109375 0 \nL 9.078125 0 \nL 9.078125 54.6875 \nL 18.109375 54.6875 \nL 18.109375 46.1875 \nQ 21.1875 51.21875 25.484375 53.609375 \nQ 29.78125 56 35.6875 56 \nQ 41.65625 56 45.828125 52.96875 \nQ 50 49.953125 52 44.1875 \nz\n\" id=\"DejaVuSans-109\"/>\n      <path d=\"M 9.8125 72.90625 \nL 55.90625 72.90625 \nL 55.90625 64.59375 \nL 19.671875 64.59375 \nL 19.671875 43.015625 \nL 54.390625 43.015625 \nL 54.390625 34.71875 \nL 19.671875 34.71875 \nL 19.671875 8.296875 \nL 56.78125 8.296875 \nL 56.78125 0 \nL 9.8125 0 \nz\n\" id=\"DejaVuSans-69\"/>\n      <path d=\"M 31 75.875 \nQ 24.46875 64.65625 21.28125 53.65625 \nQ 18.109375 42.671875 18.109375 31.390625 \nQ 18.109375 20.125 21.3125 9.0625 \nQ 24.515625 -2 31 -13.1875 \nL 23.1875 -13.1875 \nQ 15.875 -1.703125 12.234375 9.375 \nQ 8.59375 20.453125 8.59375 31.390625 \nQ 8.59375 42.28125 12.203125 53.3125 \nQ 15.828125 64.359375 23.1875 75.875 \nz\n\" id=\"DejaVuSans-40\"/>\n      <path d=\"M 8.015625 75.875 \nL 15.828125 75.875 \nQ 23.140625 64.359375 26.78125 53.3125 \nQ 30.421875 42.28125 30.421875 31.390625 \nQ 30.421875 20.453125 26.78125 9.375 \nQ 23.140625 -1.703125 15.828125 -13.1875 \nL 8.015625 -13.1875 \nQ 14.5 -2 17.703125 9.0625 \nQ 20.90625 20.125 20.90625 31.390625 \nQ 20.90625 42.671875 17.703125 53.65625 \nQ 14.5 64.65625 8.015625 75.875 \nz\n\" id=\"DejaVuSans-41\"/>\n     </defs>\n     <g transform=\"translate(17.077969 211.354297)rotate(-90)scale(0.13 -0.13)\">\n      <use xlink:href=\"#DejaVuSans-84\"/>\n      <use x=\"60.865234\" xlink:href=\"#DejaVuSans-114\"/>\n      <use x=\"101.978516\" xlink:href=\"#DejaVuSans-97\"/>\n      <use x=\"163.257812\" xlink:href=\"#DejaVuSans-105\"/>\n      <use x=\"191.041016\" xlink:href=\"#DejaVuSans-110\"/>\n      <use x=\"254.419922\" xlink:href=\"#DejaVuSans-105\"/>\n      <use x=\"282.203125\" xlink:href=\"#DejaVuSans-110\"/>\n      <use x=\"345.582031\" xlink:href=\"#DejaVuSans-103\"/>\n      <use x=\"409.058594\" xlink:href=\"#DejaVuSans-32\"/>\n      <use x=\"440.845703\" xlink:href=\"#DejaVuSans-84\"/>\n      <use x=\"501.882812\" xlink:href=\"#DejaVuSans-105\"/>\n      <use x=\"529.666016\" xlink:href=\"#DejaVuSans-109\"/>\n      <use x=\"627.078125\" xlink:href=\"#DejaVuSans-101\"/>\n      <use x=\"688.601562\" xlink:href=\"#DejaVuSans-32\"/>\n      <use x=\"720.388672\" xlink:href=\"#DejaVuSans-112\"/>\n      <use x=\"783.865234\" xlink:href=\"#DejaVuSans-101\"/>\n      <use x=\"845.388672\" xlink:href=\"#DejaVuSans-114\"/>\n      <use x=\"886.501953\" xlink:href=\"#DejaVuSans-32\"/>\n      <use x=\"918.289062\" xlink:href=\"#DejaVuSans-69\"/>\n      <use x=\"981.472656\" xlink:href=\"#DejaVuSans-112\"/>\n      <use x=\"1044.949219\" xlink:href=\"#DejaVuSans-111\"/>\n      <use x=\"1106.130859\" xlink:href=\"#DejaVuSans-99\"/>\n      <use x=\"1161.111328\" xlink:href=\"#DejaVuSans-104\"/>\n      <use x=\"1224.490234\" xlink:href=\"#DejaVuSans-32\"/>\n      <use x=\"1256.277344\" xlink:href=\"#DejaVuSans-40\"/>\n      <use x=\"1295.291016\" xlink:href=\"#DejaVuSans-115\"/>\n      <use x=\"1347.390625\" xlink:href=\"#DejaVuSans-41\"/>\n     </g>\n    </g>\n   </g>\n   <g id=\"patch_11\">\n    <path d=\"M 48.596563 229.958906 \nL 48.596563 12.518906 \n\" style=\"fill:none;stroke:#000000;stroke-linecap:square;stroke-linejoin:miter;stroke-width:0.8;\"/>\n   </g>\n   <g id=\"patch_12\">\n    <path d=\"M 383.396563 229.958906 \nL 383.396563 12.518906 \n\" style=\"fill:none;stroke:#000000;stroke-linecap:square;stroke-linejoin:miter;stroke-width:0.8;\"/>\n   </g>\n   <g id=\"patch_13\">\n    <path d=\"M 48.596563 229.958906 \nL 383.396562 229.958906 \n\" style=\"fill:none;stroke:#000000;stroke-linecap:square;stroke-linejoin:miter;stroke-width:0.8;\"/>\n   </g>\n   <g id=\"patch_14\">\n    <path d=\"M 48.596563 12.518906 \nL 383.396562 12.518906 \n\" style=\"fill:none;stroke:#000000;stroke-linecap:square;stroke-linejoin:miter;stroke-width:0.8;\"/>\n   </g>\n   <g id=\"text_12\">\n    <!-- 35 -->\n    <g transform=\"translate(75.011685 72.671219)scale(0.1 -0.1)\">\n     <use xlink:href=\"#DejaVuSans-51\"/>\n     <use x=\"63.623047\" xlink:href=\"#DejaVuSans-53\"/>\n    </g>\n   </g>\n   <g id=\"text_13\">\n    <!-- 32 -->\n    <g transform=\"translate(153.053643 85.717619)scale(0.1 -0.1)\">\n     <use xlink:href=\"#DejaVuSans-51\"/>\n     <use x=\"63.623047\" xlink:href=\"#DejaVuSans-50\"/>\n    </g>\n   </g>\n   <g id=\"text_14\">\n    <!-- 43 -->\n    <g transform=\"translate(231.095601 37.880819)scale(0.1 -0.1)\">\n     <use xlink:href=\"#DejaVuSans-52\"/>\n     <use x=\"63.623047\" xlink:href=\"#DejaVuSans-51\"/>\n    </g>\n   </g>\n   <g id=\"text_15\">\n    <!-- 41 -->\n    <g transform=\"translate(309.137559 46.578419)scale(0.1 -0.1)\">\n     <use xlink:href=\"#DejaVuSans-52\"/>\n     <use x=\"63.623047\" xlink:href=\"#DejaVuSans-49\"/>\n    </g>\n   </g>\n   <g id=\"text_16\">\n    <!-- 26 -->\n    <defs>\n     <path d=\"M 33.015625 40.375 \nQ 26.375 40.375 22.484375 35.828125 \nQ 18.609375 31.296875 18.609375 23.390625 \nQ 18.609375 15.53125 22.484375 10.953125 \nQ 26.375 6.390625 33.015625 6.390625 \nQ 39.65625 6.390625 43.53125 10.953125 \nQ 47.40625 15.53125 47.40625 23.390625 \nQ 47.40625 31.296875 43.53125 35.828125 \nQ 39.65625 40.375 33.015625 40.375 \nz\nM 52.59375 71.296875 \nL 52.59375 62.3125 \nQ 48.875 64.0625 45.09375 64.984375 \nQ 41.3125 65.921875 37.59375 65.921875 \nQ 27.828125 65.921875 22.671875 59.328125 \nQ 17.53125 52.734375 16.796875 39.40625 \nQ 19.671875 43.65625 24.015625 45.921875 \nQ 28.375 48.1875 33.59375 48.1875 \nQ 44.578125 48.1875 50.953125 41.515625 \nQ 57.328125 34.859375 57.328125 23.390625 \nQ 57.328125 12.15625 50.6875 5.359375 \nQ 44.046875 -1.421875 33.015625 -1.421875 \nQ 20.359375 -1.421875 13.671875 8.265625 \nQ 6.984375 17.96875 6.984375 36.375 \nQ 6.984375 53.65625 15.1875 63.9375 \nQ 23.390625 74.21875 37.203125 74.21875 \nQ 40.921875 74.21875 44.703125 73.484375 \nQ 48.484375 72.75 52.59375 71.296875 \nz\n\" id=\"DejaVuSans-54\"/>\n    </defs>\n    <g transform=\"translate(110.130566 111.810419)scale(0.1 -0.1)\">\n     <use xlink:href=\"#DejaVuSans-50\"/>\n     <use x=\"63.623047\" xlink:href=\"#DejaVuSans-54\"/>\n    </g>\n   </g>\n   <g id=\"text_17\">\n    <!-- 26 -->\n    <g transform=\"translate(188.172524 111.810419)scale(0.1 -0.1)\">\n     <use xlink:href=\"#DejaVuSans-50\"/>\n     <use x=\"63.623047\" xlink:href=\"#DejaVuSans-54\"/>\n    </g>\n   </g>\n   <g id=\"text_18\">\n    <!-- 34 -->\n    <g transform=\"translate(266.214482 77.020019)scale(0.1 -0.1)\">\n     <use xlink:href=\"#DejaVuSans-51\"/>\n     <use x=\"63.623047\" xlink:href=\"#DejaVuSans-52\"/>\n    </g>\n   </g>\n   <g id=\"text_19\">\n    <!-- 32 -->\n    <g transform=\"translate(344.25644 85.717619)scale(0.1 -0.1)\">\n     <use xlink:href=\"#DejaVuSans-51\"/>\n     <use x=\"63.623047\" xlink:href=\"#DejaVuSans-50\"/>\n    </g>\n   </g>\n   <g id=\"legend_1\">\n    <g id=\"patch_15\">\n     <path d=\"M 55.596563 49.875156 \nL 176.193438 49.875156 \nQ 178.193438 49.875156 178.193438 47.875156 \nL 178.193438 19.518906 \nQ 178.193438 17.518906 176.193438 17.518906 \nL 55.596563 17.518906 \nQ 53.596563 17.518906 53.596563 19.518906 \nL 53.596563 47.875156 \nQ 53.596563 49.875156 55.596563 49.875156 \nz\n\" style=\"fill:#ffffff;opacity:0.8;stroke:#cccccc;stroke-linejoin:miter;\"/>\n    </g>\n    <g id=\"patch_16\">\n     <path d=\"M 57.596563 29.117344 \nL 77.596563 29.117344 \nL 77.596563 22.117344 \nL 57.596563 22.117344 \nz\n\" style=\"fill:#4169e1;\"/>\n    </g>\n    <g id=\"text_20\">\n     <!-- Normal Training -->\n     <defs>\n      <path d=\"M 9.8125 72.90625 \nL 23.09375 72.90625 \nL 55.421875 11.921875 \nL 55.421875 72.90625 \nL 64.984375 72.90625 \nL 64.984375 0 \nL 51.703125 0 \nL 19.390625 60.984375 \nL 19.390625 0 \nL 9.8125 0 \nz\n\" id=\"DejaVuSans-78\"/>\n     </defs>\n     <g transform=\"translate(85.596563 29.117344)scale(0.1 -0.1)\">\n      <use xlink:href=\"#DejaVuSans-78\"/>\n      <use x=\"74.804688\" xlink:href=\"#DejaVuSans-111\"/>\n      <use x=\"135.986328\" xlink:href=\"#DejaVuSans-114\"/>\n      <use x=\"177.083984\" xlink:href=\"#DejaVuSans-109\"/>\n      <use x=\"274.496094\" xlink:href=\"#DejaVuSans-97\"/>\n      <use x=\"335.775391\" xlink:href=\"#DejaVuSans-108\"/>\n      <use x=\"363.558594\" xlink:href=\"#DejaVuSans-32\"/>\n      <use x=\"395.345703\" xlink:href=\"#DejaVuSans-84\"/>\n      <use x=\"456.210938\" xlink:href=\"#DejaVuSans-114\"/>\n      <use x=\"497.324219\" xlink:href=\"#DejaVuSans-97\"/>\n      <use x=\"558.603516\" xlink:href=\"#DejaVuSans-105\"/>\n      <use x=\"586.386719\" xlink:href=\"#DejaVuSans-110\"/>\n      <use x=\"649.765625\" xlink:href=\"#DejaVuSans-105\"/>\n      <use x=\"677.548828\" xlink:href=\"#DejaVuSans-110\"/>\n      <use x=\"740.927734\" xlink:href=\"#DejaVuSans-103\"/>\n     </g>\n    </g>\n    <g id=\"patch_17\">\n     <path d=\"M 57.596563 43.795469 \nL 77.596563 43.795469 \nL 77.596563 36.795469 \nL 57.596563 36.795469 \nz\n\" style=\"fill:#9acd32;\"/>\n    </g>\n    <g id=\"text_21\">\n     <!-- Transfer Learning -->\n     <defs>\n      <path d=\"M 9.8125 72.90625 \nL 19.671875 72.90625 \nL 19.671875 8.296875 \nL 55.171875 8.296875 \nL 55.171875 0 \nL 9.8125 0 \nz\n\" id=\"DejaVuSans-76\"/>\n     </defs>\n     <g transform=\"translate(85.596563 43.795469)scale(0.1 -0.1)\">\n      <use xlink:href=\"#DejaVuSans-84\"/>\n      <use x=\"60.865234\" xlink:href=\"#DejaVuSans-114\"/>\n      <use x=\"101.978516\" xlink:href=\"#DejaVuSans-97\"/>\n      <use x=\"163.257812\" xlink:href=\"#DejaVuSans-110\"/>\n      <use x=\"226.636719\" xlink:href=\"#DejaVuSans-115\"/>\n      <use x=\"278.736328\" xlink:href=\"#DejaVuSans-102\"/>\n      <use x=\"313.941406\" xlink:href=\"#DejaVuSans-101\"/>\n      <use x=\"375.464844\" xlink:href=\"#DejaVuSans-114\"/>\n      <use x=\"416.578125\" xlink:href=\"#DejaVuSans-32\"/>\n      <use x=\"448.365234\" xlink:href=\"#DejaVuSans-76\"/>\n      <use x=\"504.0625\" xlink:href=\"#DejaVuSans-101\"/>\n      <use x=\"565.585938\" xlink:href=\"#DejaVuSans-97\"/>\n      <use x=\"626.865234\" xlink:href=\"#DejaVuSans-114\"/>\n      <use x=\"667.962891\" xlink:href=\"#DejaVuSans-110\"/>\n      <use x=\"731.341797\" xlink:href=\"#DejaVuSans-105\"/>\n      <use x=\"759.125\" xlink:href=\"#DejaVuSans-110\"/>\n      <use x=\"822.503906\" xlink:href=\"#DejaVuSans-103\"/>\n     </g>\n    </g>\n   </g>\n  </g>\n </g>\n <defs>\n  <clipPath id=\"pf5a76aabc6\">\n   <rect height=\"217.44\" width=\"334.8\" x=\"48.596563\" y=\"12.518906\"/>\n  </clipPath>\n </defs>\n</svg>\n",
      "image/png": "[encoded data removed]"
     },
     "metadata": {
      "needs_background": "light"
     }
    }
   ],
   "source": [
    "import numpy as np\n",
    "import matplotlib.pyplot as plt\n",
    "labels = ['2D_sq_cyl', '2D_plate', 'SST', 'Channel_flow']\n",
    "\n",
    "# dl_rom = [0.0006, 0.0014, 0.010, 0.017]\n",
    "# cfd = [0.0024, 0.0039, 0.0045, 0.036]\n",
    "\n",
    "cfd = [35, 32, 43, 41]\n",
    "dl_rom = [26, 26, 34, 32]\n",
    "\n",
    "# dl_rom = [0.926, 0.851, 0.772]\n",
    "# cfd = [0.912, 0.828, 0.737]\n",
    "\n",
    "\n",
    "x = np.arange(len(labels))  # the label locations\n",
    "width = 0.45  # the width of the bars\n",
    "\n",
    "fig, ax = plt.subplots()\n",
    "# rects1 = ax.bar(x - width/2, cfd, width, label='Normal Training', color='gold')\n",
    "# rects2 = ax.bar(x + width/2, dl_rom, width, label='Transfer Learning', color='darkorange')\n",
    "\n",
    "rects1 = ax.bar(x - width/2, cfd, width, label='Normal Training', color='royalblue')\n",
    "rects2 = ax.bar(x + width/2, dl_rom, width, label='Transfer Learning', color='yellowgreen')\n",
    "\n",
    "# Add some text for labels, title and custom x-axis tick labels, etc.\n",
    "ax.set_ylabel('Training Time per Epoch (s)')\n",
    "# ax.set_ylabel('Loss/ Mean Absolute Error')\n",
    "# ax.set_ylim(0,0.04)\n",
    "ax.set_ylim(0,50)\n",
    "# ax.set_ylabel('SSIM')\n",
    "# ax.set_xlabel('Dataset')\n",
    "\n",
    "ax.tick_params(axis = 'both', which = 'major', labelsize = 14)\n",
    "ax.yaxis.label.set_size(13)\n",
    "\n",
    "# ax.set_title('Scores by group and gender')\n",
    "ax.set_xticks(x)\n",
    "ax.set_xticklabels(labels)\n",
    "ax.legend()\n",
    "\n",
    "\n",
    "def autolabel(rects):\n",
    "    \"\"\"Attach a text label above each bar in *rects*, displaying its height.\"\"\"\n",
    "    for rect in rects:\n",
    "        height = rect.get_height()\n",
    "        ax.annotate('{}'.format(height),\n",
    "                    xy=(rect.get_x() + rect.get_width() / 2, height),\n",
    "                    xytext=(0, 3),  # 3 points vertical offset\n",
    "                    textcoords=\"offset points\",\n",
    "                    ha='center', va='bottom')\n",
    "\n",
    "\n",
    "autolabel(rects1)\n",
    "autolabel(rects2)\n",
    "\n",
    "# fig.tight_layout()\n",
    "# plt.savefig(f'barplot_PSNR.eps', dpi=600)\n",
    "# plt.savefig(f'barplot_SSIM.eps', dpi=600)\n",
    "plt.savefig(f'transfer_learning_time.eps', dpi=600)\n",
    "\n",
    "plt.show()"
   ]
  },
  {
   "cell_type": "code",
   "execution_count": null,
   "metadata": {},
   "outputs": [],
   "source": []
  }
 ],
 "metadata": {
  "kernelspec": {
   "display_name": "Python 3.7.6 64-bit ('pytorch_env': conda)",
   "language": "python",
   "name": "python37664bitpytorchenvcondac65bc6c7ab474553ae2b82822152b36f"
  },
  "language_info": {
   "codemirror_mode": {
    "name": "ipython",
    "version": 3
   },
   "file_extension": ".py",
   "mimetype": "text/x-python",
   "name": "python",
   "nbconvert_exporter": "python",
   "pygments_lexer": "ipython3",
   "version": "3.7.6"
  }
 },
 "nbformat": 4,
 "nbformat_minor": 2
}